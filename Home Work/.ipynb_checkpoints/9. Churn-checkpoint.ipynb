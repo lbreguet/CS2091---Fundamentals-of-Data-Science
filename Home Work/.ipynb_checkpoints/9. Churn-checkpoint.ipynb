{
 "cells": [
  {
   "cell_type": "code",
   "execution_count": 1,
   "metadata": {},
   "outputs": [
    {
     "data": {
      "text/html": [
       "<div>\n",
       "<style>\n",
       "    .dataframe thead tr:only-child th {\n",
       "        text-align: right;\n",
       "    }\n",
       "\n",
       "    .dataframe thead th {\n",
       "        text-align: left;\n",
       "    }\n",
       "\n",
       "    .dataframe tbody tr th {\n",
       "        vertical-align: top;\n",
       "    }\n",
       "</style>\n",
       "<table border=\"1\" class=\"dataframe\">\n",
       "  <thead>\n",
       "    <tr style=\"text-align: right;\">\n",
       "      <th></th>\n",
       "      <th>COLLEGE</th>\n",
       "      <th>INCOME</th>\n",
       "      <th>OVERAGE</th>\n",
       "      <th>LEFTOVER</th>\n",
       "      <th>HOUSE</th>\n",
       "      <th>HANDSET_PRICE</th>\n",
       "      <th>OVER_15MINS_CALLS_PER_MONTH</th>\n",
       "      <th>AVERAGE_CALL_DURATION</th>\n",
       "      <th>REPORTED_SATISFACTION</th>\n",
       "      <th>REPORTED_USAGE_LEVEL</th>\n",
       "      <th>CONSIDERING_CHANGE_OF_PLAN</th>\n",
       "      <th>LEAVE</th>\n",
       "    </tr>\n",
       "  </thead>\n",
       "  <tbody>\n",
       "    <tr>\n",
       "      <th>0</th>\n",
       "      <td>zero</td>\n",
       "      <td>31953</td>\n",
       "      <td>0</td>\n",
       "      <td>6</td>\n",
       "      <td>313378</td>\n",
       "      <td>161</td>\n",
       "      <td>0</td>\n",
       "      <td>4</td>\n",
       "      <td>unsat</td>\n",
       "      <td>little</td>\n",
       "      <td>no</td>\n",
       "      <td>STAY</td>\n",
       "    </tr>\n",
       "    <tr>\n",
       "      <th>1</th>\n",
       "      <td>one</td>\n",
       "      <td>36147</td>\n",
       "      <td>0</td>\n",
       "      <td>13</td>\n",
       "      <td>800586</td>\n",
       "      <td>244</td>\n",
       "      <td>0</td>\n",
       "      <td>6</td>\n",
       "      <td>unsat</td>\n",
       "      <td>little</td>\n",
       "      <td>considering</td>\n",
       "      <td>STAY</td>\n",
       "    </tr>\n",
       "    <tr>\n",
       "      <th>2</th>\n",
       "      <td>one</td>\n",
       "      <td>27273</td>\n",
       "      <td>230</td>\n",
       "      <td>0</td>\n",
       "      <td>305049</td>\n",
       "      <td>201</td>\n",
       "      <td>16</td>\n",
       "      <td>15</td>\n",
       "      <td>unsat</td>\n",
       "      <td>very_little</td>\n",
       "      <td>perhaps</td>\n",
       "      <td>STAY</td>\n",
       "    </tr>\n",
       "    <tr>\n",
       "      <th>3</th>\n",
       "      <td>zero</td>\n",
       "      <td>120070</td>\n",
       "      <td>38</td>\n",
       "      <td>33</td>\n",
       "      <td>788235</td>\n",
       "      <td>780</td>\n",
       "      <td>3</td>\n",
       "      <td>2</td>\n",
       "      <td>unsat</td>\n",
       "      <td>very_high</td>\n",
       "      <td>considering</td>\n",
       "      <td>LEAVE</td>\n",
       "    </tr>\n",
       "    <tr>\n",
       "      <th>4</th>\n",
       "      <td>one</td>\n",
       "      <td>29215</td>\n",
       "      <td>208</td>\n",
       "      <td>85</td>\n",
       "      <td>224784</td>\n",
       "      <td>241</td>\n",
       "      <td>21</td>\n",
       "      <td>1</td>\n",
       "      <td>very_unsat</td>\n",
       "      <td>little</td>\n",
       "      <td>never_thought</td>\n",
       "      <td>STAY</td>\n",
       "    </tr>\n",
       "  </tbody>\n",
       "</table>\n",
       "</div>"
      ],
      "text/plain": [
       "  COLLEGE  INCOME  OVERAGE  LEFTOVER   HOUSE  HANDSET_PRICE  \\\n",
       "0    zero   31953        0         6  313378            161   \n",
       "1     one   36147        0        13  800586            244   \n",
       "2     one   27273      230         0  305049            201   \n",
       "3    zero  120070       38        33  788235            780   \n",
       "4     one   29215      208        85  224784            241   \n",
       "\n",
       "   OVER_15MINS_CALLS_PER_MONTH  AVERAGE_CALL_DURATION REPORTED_SATISFACTION  \\\n",
       "0                            0                      4                 unsat   \n",
       "1                            0                      6                 unsat   \n",
       "2                           16                     15                 unsat   \n",
       "3                            3                      2                 unsat   \n",
       "4                           21                      1            very_unsat   \n",
       "\n",
       "  REPORTED_USAGE_LEVEL CONSIDERING_CHANGE_OF_PLAN  LEAVE  \n",
       "0               little                         no   STAY  \n",
       "1               little                considering   STAY  \n",
       "2          very_little                    perhaps   STAY  \n",
       "3            very_high                considering  LEAVE  \n",
       "4               little              never_thought   STAY  "
      ]
     },
     "execution_count": 1,
     "metadata": {},
     "output_type": "execute_result"
    }
   ],
   "source": [
    "import pandas as pd\n",
    "\n",
    "data = pd.read_csv('https://raw.githubusercontent.com/AUP-CS2091/Week-8/master/churn_train.csv?token=AFj8VRqjWJV3qHTNigar9MFsnq68-cFcks5Z8ie8wA%3D%3D')\n",
    "tdata = pd.read_csv('https://raw.githubusercontent.com/AUP-CS2091/Week-8/master/churn_test.csv?token=AFj8VUJJdGcDbMzoty9Joi26M-XTPoOtks5Z8iftwA%3D%3D')\n",
    "\n",
    "data.head()"
   ]
  },
  {
   "cell_type": "markdown",
   "metadata": {},
   "source": [
    "* COLLEGE : Is the customer college educated?\n",
    "* INCOME\t: Annual income\n",
    "* OVERAGE\t: Average overcharges per month\n",
    "* LEFTOVER : Average % leftover minutes per month\n",
    "* HOUSE : Value of dwelling (from census tract)\n",
    "* HANDSET_PRICE : Cost of phone\n",
    "* OVER_15MINS_CALLS_PER_MONTH : Average number of long (>15 mins) calls per month\n",
    "* AVERAGE_CALL_DURATION : Average call duration\n",
    "* REPORTED_SATISFACTION : Reported level of satisfaction\n",
    "* REPORTED_USAGE_LEVEL : Self-reported usage level\n",
    "* CONSIDERING_CHANGE_OF_PLAN : Was customer considering changing his/her plan?\n",
    "* LEAVE : Class variable: whether customer left or stayed"
   ]
  },
  {
   "cell_type": "code",
   "execution_count": 2,
   "metadata": {},
   "outputs": [
    {
     "data": {
      "text/html": [
       "<div>\n",
       "<style>\n",
       "    .dataframe thead tr:only-child th {\n",
       "        text-align: right;\n",
       "    }\n",
       "\n",
       "    .dataframe thead th {\n",
       "        text-align: left;\n",
       "    }\n",
       "\n",
       "    .dataframe tbody tr th {\n",
       "        vertical-align: top;\n",
       "    }\n",
       "</style>\n",
       "<table border=\"1\" class=\"dataframe\">\n",
       "  <thead>\n",
       "    <tr style=\"text-align: right;\">\n",
       "      <th></th>\n",
       "      <th>COLLEGE</th>\n",
       "      <th>INCOME</th>\n",
       "      <th>OVERAGE</th>\n",
       "      <th>LEFTOVER</th>\n",
       "      <th>HOUSE</th>\n",
       "      <th>HANDSET_PRICE</th>\n",
       "      <th>OVER_15MINS_CALLS_PER_MONTH</th>\n",
       "      <th>AVERAGE_CALL_DURATION</th>\n",
       "      <th>REPORTED_SATISFACTION</th>\n",
       "      <th>REPORTED_USAGE_LEVEL</th>\n",
       "      <th>CONSIDERING_CHANGE_OF_PLAN</th>\n",
       "      <th>PLEAVE</th>\n",
       "    </tr>\n",
       "  </thead>\n",
       "  <tbody>\n",
       "    <tr>\n",
       "      <th>0</th>\n",
       "      <td>0</td>\n",
       "      <td>41697</td>\n",
       "      <td>151</td>\n",
       "      <td>36</td>\n",
       "      <td>496971</td>\n",
       "      <td>445</td>\n",
       "      <td>25</td>\n",
       "      <td>2</td>\n",
       "      <td>4</td>\n",
       "      <td>2</td>\n",
       "      <td>1</td>\n",
       "      <td>0.893130</td>\n",
       "    </tr>\n",
       "    <tr>\n",
       "      <th>1</th>\n",
       "      <td>0</td>\n",
       "      <td>83444</td>\n",
       "      <td>66</td>\n",
       "      <td>0</td>\n",
       "      <td>905435</td>\n",
       "      <td>255</td>\n",
       "      <td>3</td>\n",
       "      <td>14</td>\n",
       "      <td>2</td>\n",
       "      <td>2</td>\n",
       "      <td>1</td>\n",
       "      <td>0.161458</td>\n",
       "    </tr>\n",
       "    <tr>\n",
       "      <th>2</th>\n",
       "      <td>1</td>\n",
       "      <td>28096</td>\n",
       "      <td>64</td>\n",
       "      <td>35</td>\n",
       "      <td>165131</td>\n",
       "      <td>247</td>\n",
       "      <td>3</td>\n",
       "      <td>1</td>\n",
       "      <td>2</td>\n",
       "      <td>3</td>\n",
       "      <td>0</td>\n",
       "      <td>0.340909</td>\n",
       "    </tr>\n",
       "    <tr>\n",
       "      <th>3</th>\n",
       "      <td>0</td>\n",
       "      <td>32740</td>\n",
       "      <td>0</td>\n",
       "      <td>0</td>\n",
       "      <td>175285</td>\n",
       "      <td>206</td>\n",
       "      <td>0</td>\n",
       "      <td>14</td>\n",
       "      <td>2</td>\n",
       "      <td>4</td>\n",
       "      <td>0</td>\n",
       "      <td>0.349206</td>\n",
       "    </tr>\n",
       "    <tr>\n",
       "      <th>4</th>\n",
       "      <td>0</td>\n",
       "      <td>81630</td>\n",
       "      <td>0</td>\n",
       "      <td>20</td>\n",
       "      <td>469753</td>\n",
       "      <td>329</td>\n",
       "      <td>1</td>\n",
       "      <td>4</td>\n",
       "      <td>4</td>\n",
       "      <td>2</td>\n",
       "      <td>0</td>\n",
       "      <td>0.098901</td>\n",
       "    </tr>\n",
       "  </tbody>\n",
       "</table>\n",
       "</div>"
      ],
      "text/plain": [
       "   COLLEGE  INCOME  OVERAGE  LEFTOVER   HOUSE  HANDSET_PRICE  \\\n",
       "0        0   41697      151        36  496971            445   \n",
       "1        0   83444       66         0  905435            255   \n",
       "2        1   28096       64        35  165131            247   \n",
       "3        0   32740        0         0  175285            206   \n",
       "4        0   81630        0        20  469753            329   \n",
       "\n",
       "   OVER_15MINS_CALLS_PER_MONTH  AVERAGE_CALL_DURATION  REPORTED_SATISFACTION  \\\n",
       "0                           25                      2                      4   \n",
       "1                            3                     14                      2   \n",
       "2                            3                      1                      2   \n",
       "3                            0                     14                      2   \n",
       "4                            1                      4                      4   \n",
       "\n",
       "   REPORTED_USAGE_LEVEL  CONSIDERING_CHANGE_OF_PLAN    PLEAVE  \n",
       "0                     2                           1  0.893130  \n",
       "1                     2                           1  0.161458  \n",
       "2                     3                           0  0.340909  \n",
       "3                     4                           0  0.349206  \n",
       "4                     2                           0  0.098901  "
      ]
     },
     "execution_count": 2,
     "metadata": {},
     "output_type": "execute_result"
    }
   ],
   "source": [
    "data['COLLEGE'] = data['COLLEGE'].astype('category').cat.codes\n",
    "data['REPORTED_SATISFACTION'] = data['REPORTED_SATISFACTION'].astype('category').cat.codes\n",
    "data['REPORTED_USAGE_LEVEL'] = data['REPORTED_USAGE_LEVEL'].astype('category').cat.codes\n",
    "data['CONSIDERING_CHANGE_OF_PLAN'] = data['CONSIDERING_CHANGE_OF_PLAN'].astype('category').cat.codes\n",
    "data['LEAVE'] = data['LEAVE'].astype('category').cat.codes\n",
    "\n",
    "tdata['COLLEGE'] = tdata['COLLEGE'].astype('category').cat.codes\n",
    "tdata['REPORTED_SATISFACTION'] = tdata['REPORTED_SATISFACTION'].astype('category').cat.codes\n",
    "tdata['REPORTED_USAGE_LEVEL'] = tdata['REPORTED_USAGE_LEVEL'].astype('category').cat.codes\n",
    "tdata['CONSIDERING_CHANGE_OF_PLAN'] = tdata['CONSIDERING_CHANGE_OF_PLAN'].astype('category').cat.codes\n",
    "\n",
    "from sklearn.tree import DecisionTreeClassifier\n",
    "\n",
    "X = data.loc[:, data.columns != 'LEAVE']\n",
    "y = data['LEAVE']\n",
    "\n",
    "X_pred = tdata\n",
    "\n",
    "model = DecisionTreeClassifier(max_depth=10)\n",
    "model.fit(X,y)\n",
    "probs = model.predict_proba(X_pred)\n",
    "\n",
    "tdata['PLEAVE'] = probs[:,0]\n",
    "tdata.head()"
   ]
  },
  {
   "cell_type": "code",
   "execution_count": 3,
   "metadata": {
    "collapsed": true
   },
   "outputs": [],
   "source": [
    "import numpy as np\n",
    "rng = np.arange(1,40,5)"
   ]
  },
  {
   "cell_type": "code",
   "execution_count": 4,
   "metadata": {
    "collapsed": true
   },
   "outputs": [],
   "source": [
    "from sklearn.metrics import accuracy_score\n",
    "acc = []\n",
    "X = data.loc[:, data.columns != 'LEAVE']\n",
    "y = data.loc[:, 'LEAVE']\n",
    "for s in rng:\n",
    "    model = DecisionTreeClassifier(max_depth=s)\n",
    "    model.fit(X,y)\n",
    "    acc.append(accuracy_score(y,model.predict(X)))"
   ]
  },
  {
   "cell_type": "code",
   "execution_count": 5,
   "metadata": {},
   "outputs": [
    {
     "data": {
      "text/plain": [
       "<matplotlib.collections.PathCollection at 0x7f38f21eeef0>"
      ]
     },
     "execution_count": 5,
     "metadata": {},
     "output_type": "execute_result"
    },
    {
     "data": {
      "image/png": "[encoded data removed]",
      "text/plain": [
       "<matplotlib.figure.Figure at 0x7f392c0fb4e0>"
      ]
     },
     "metadata": {},
     "output_type": "display_data"
    }
   ],
   "source": [
    "import matplotlib.pylab as plt\n",
    "%matplotlib inline\n",
    "plt.scatter(rng, acc, c='green')"
   ]
  },
  {
   "cell_type": "code",
   "execution_count": 6,
   "metadata": {},
   "outputs": [
    {
     "name": "stderr",
     "output_type": "stream",
     "text": [
      "/usr/local/lib/python3.5/dist-packages/sklearn/model_selection/_split.py:2010: FutureWarning: From version 0.21, test_size will always complement train_size unless both are specified.\n",
      "  FutureWarning)\n"
     ]
    }
   ],
   "source": [
    "X = data.loc[:, data.columns != 'LEAVE']\n",
    "y = data.loc[:, 'LEAVE']\n",
    "\n",
    "from sklearn import model_selection\n",
    "\n",
    "X_train, X_test, y_train, y_test = \\\n",
    "    model_selection.train_test_split(X, y, train_size=0.8)"
   ]
  },
  {
   "cell_type": "code",
   "execution_count": 7,
   "metadata": {
    "collapsed": true
   },
   "outputs": [],
   "source": [
    "from sklearn.metrics import accuracy_score\n",
    "acc = []\n",
    "for s in rng:\n",
    "    model = DecisionTreeClassifier(max_depth=s)\n",
    "    model.fit(X_train,y_train)\n",
    "    acc.append(accuracy_score(y_train,model.predict(X_train)))"
   ]
  },
  {
   "cell_type": "code",
   "execution_count": 8,
   "metadata": {},
   "outputs": [
    {
     "data": {
      "text/plain": [
       "<matplotlib.collections.PathCollection at 0x7f38f21069e8>"
      ]
     },
     "execution_count": 8,
     "metadata": {},
     "output_type": "execute_result"
    },
    {
     "data": {
      "image/png": "[encoded data removed]",
      "text/plain": [
       "<matplotlib.figure.Figure at 0x7f38f21363c8>"
      ]
     },
     "metadata": {},
     "output_type": "display_data"
    }
   ],
   "source": [
    "plt.scatter(rng, acc, c='red')"
   ]
  },
  {
   "cell_type": "code",
   "execution_count": 9,
   "metadata": {
    "collapsed": true
   },
   "outputs": [],
   "source": [
    "from sklearn.metrics import accuracy_score\n",
    "acc2 = []\n",
    "for s in rng:\n",
    "    model = DecisionTreeClassifier(max_depth=s)\n",
    "    model.fit(X_train,y_train)\n",
    "    acc2.append(accuracy_score(y_test,model.predict(X_test)))"
   ]
  },
  {
   "cell_type": "code",
   "execution_count": 10,
   "metadata": {},
   "outputs": [
    {
     "data": {
      "text/plain": [
       "<matplotlib.collections.PathCollection at 0x7f38f2080198>"
      ]
     },
     "execution_count": 10,
     "metadata": {},
     "output_type": "execute_result"
    },
    {
     "data": {
      "image/png": "[encoded data removed]",
      "text/plain": [
       "<matplotlib.figure.Figure at 0x7f38f20a4160>"
      ]
     },
     "metadata": {},
     "output_type": "display_data"
    }
   ],
   "source": [
    "plt.scatter(rng, acc2, c='blue')"
   ]
  },
  {
   "cell_type": "code",
   "execution_count": 11,
   "metadata": {},
   "outputs": [
    {
     "data": {
      "text/plain": [
       "<matplotlib.collections.PathCollection at 0x7f38f1fe9cc0>"
      ]
     },
     "execution_count": 11,
     "metadata": {},
     "output_type": "execute_result"
    },
    {
     "data": {
      "image/png": "[encoded data removed]",
      "text/plain": [
       "<matplotlib.figure.Figure at 0x7f38f200f908>"
      ]
     },
     "metadata": {},
     "output_type": "display_data"
    }
   ],
   "source": [
    "plt.scatter(rng, acc2, c='purple')\n",
    "plt.scatter(rng, acc, c='orange')"
   ]
  },
  {
   "cell_type": "code",
   "execution_count": 12,
   "metadata": {
    "collapsed": true
   },
   "outputs": [],
   "source": [
    "from sklearn.model_selection import learning_curve\n",
    "model = DecisionTreeClassifier(max_depth=5)\n",
    "train_sizes, train_scores, test_scores = learning_curve(\n",
    "    model, X, y, cv=5)\n",
    "mean_values = np.mean(test_scores, axis=1)"
   ]
  },
  {
   "cell_type": "code",
   "execution_count": 13,
   "metadata": {},
   "outputs": [
    {
     "data": {
      "text/plain": [
       "array([ 0.65994737,  0.67889474,  0.68831579,  0.69973684,  0.69810526])"
      ]
     },
     "execution_count": 13,
     "metadata": {},
     "output_type": "execute_result"
    }
   ],
   "source": [
    "mean_values"
   ]
  },
  {
   "cell_type": "code",
   "execution_count": 14,
   "metadata": {},
   "outputs": [
    {
     "data": {
      "text/plain": [
       "array([ 1520,  4940,  8360, 11780, 15200])"
      ]
     },
     "execution_count": 14,
     "metadata": {},
     "output_type": "execute_result"
    }
   ],
   "source": [
    "train_sizes"
   ]
  },
  {
   "cell_type": "code",
   "execution_count": 15,
   "metadata": {},
   "outputs": [
    {
     "data": {
      "text/plain": [
       "array([[ 0.75723684,  0.7375    ,  0.7375    ,  0.7375    ,  0.7375    ],\n",
       "       [ 0.7082996 ,  0.70364372,  0.71437247,  0.71437247,  0.71437247],\n",
       "       [ 0.70442584,  0.70107656,  0.70705742,  0.70490431,  0.70490431],\n",
       "       [ 0.70797963,  0.70144312,  0.70449915,  0.70229202,  0.70203735],\n",
       "       [ 0.70927632,  0.70375   ,  0.70736842,  0.70493421,  0.70421053]])"
      ]
     },
     "execution_count": 15,
     "metadata": {},
     "output_type": "execute_result"
    }
   ],
   "source": [
    "train_scores"
   ]
  },
  {
   "cell_type": "code",
   "execution_count": 16,
   "metadata": {},
   "outputs": [
    {
     "data": {
      "text/plain": [
       "array([[ 0.68368421,  0.65657895,  0.64868421,  0.64973684,  0.66105263],\n",
       "       [ 0.67657895,  0.67973684,  0.67789474,  0.68026316,  0.68      ],\n",
       "       [ 0.68078947,  0.68578947,  0.68342105,  0.69447368,  0.69710526],\n",
       "       [ 0.68789474,  0.70236842,  0.69684211,  0.70736842,  0.70421053],\n",
       "       [ 0.68815789,  0.70157895,  0.69657895,  0.69815789,  0.70605263]])"
      ]
     },
     "execution_count": 16,
     "metadata": {},
     "output_type": "execute_result"
    }
   ],
   "source": [
    "test_scores"
   ]
  },
  {
   "cell_type": "code",
   "execution_count": 17,
   "metadata": {
    "collapsed": true
   },
   "outputs": [],
   "source": [
    "from sklearn.linear_model import LogisticRegression\n",
    "model2 = LogisticRegression()\n",
    "train_sizes2, train_scores2, test_scores2 = learning_curve(\n",
    "    model2, X, y, cv=5)\n",
    "mean_values2 = np.mean(test_scores2, axis=1)"
   ]
  },
  {
   "cell_type": "code",
   "execution_count": 18,
   "metadata": {},
   "outputs": [
    {
     "data": {
      "text/plain": [
       "array([ 0.63352632,  0.63421053,  0.63352632,  0.63352632,  0.63263158])"
      ]
     },
     "execution_count": 18,
     "metadata": {},
     "output_type": "execute_result"
    }
   ],
   "source": [
    "mean_values2"
   ]
  },
  {
   "cell_type": "code",
   "execution_count": 19,
   "metadata": {},
   "outputs": [
    {
     "data": {
      "text/plain": [
       "array([ 1520,  4940,  8360, 11780, 15200])"
      ]
     },
     "execution_count": 19,
     "metadata": {},
     "output_type": "execute_result"
    }
   ],
   "source": [
    "train_sizes2"
   ]
  },
  {
   "cell_type": "code",
   "execution_count": 20,
   "metadata": {},
   "outputs": [
    {
     "data": {
      "text/plain": [
       "array([[ 0.62947368,  0.63973684,  0.63026316,  0.63552632,  0.63263158],\n",
       "       [ 0.63236842,  0.64236842,  0.62894737,  0.63552632,  0.63184211],\n",
       "       [ 0.63184211,  0.63763158,  0.63078947,  0.63447368,  0.63289474],\n",
       "       [ 0.63342105,  0.64394737,  0.62973684,  0.63105263,  0.62947368],\n",
       "       [ 0.63289474,  0.64078947,  0.62763158,  0.63026316,  0.63157895]])"
      ]
     },
     "execution_count": 20,
     "metadata": {},
     "output_type": "execute_result"
    }
   ],
   "source": [
    "test_scores2"
   ]
  },
  {
   "cell_type": "code",
   "execution_count": 21,
   "metadata": {},
   "outputs": [
    {
     "data": {
      "text/plain": [
       "<matplotlib.collections.PathCollection at 0x7f38f0b10860>"
      ]
     },
     "execution_count": 21,
     "metadata": {},
     "output_type": "execute_result"
    },
    {
     "data": {
      "image/png": "[encoded data removed]",
      "text/plain": [
       "<matplotlib.figure.Figure at 0x7f38f0bafda0>"
      ]
     },
     "metadata": {},
     "output_type": "display_data"
    }
   ],
   "source": [
    "plt.scatter(train_scores, test_scores, c='green')\n",
    "plt.scatter(train_scores2, test_scores2, c='blue')"
   ]
  },
  {
   "cell_type": "code",
   "execution_count": 22,
   "metadata": {},
   "outputs": [
    {
     "data": {
      "text/plain": [
       "<matplotlib.collections.PathCollection at 0x7f38f0af8f60>"
      ]
     },
     "execution_count": 22,
     "metadata": {},
     "output_type": "execute_result"
    },
    {
     "data": {
      "image/png": "[encoded data removed]",
      "text/plain": [
       "<matplotlib.figure.Figure at 0x7f38f0b254e0>"
      ]
     },
     "metadata": {},
     "output_type": "display_data"
    }
   ],
   "source": [
    "plt.scatter(train_sizes, mean_values, c='yellow')"
   ]
  },
  {
   "cell_type": "code",
   "execution_count": 23,
   "metadata": {},
   "outputs": [
    {
     "data": {
      "text/plain": [
       "<matplotlib.collections.PathCollection at 0x7f38f0a66a20>"
      ]
     },
     "execution_count": 23,
     "metadata": {},
     "output_type": "execute_result"
    },
    {
     "data": {
      "image/png": "[encoded data removed]",
      "text/plain": [
       "<matplotlib.figure.Figure at 0x7f38f0a98da0>"
      ]
     },
     "metadata": {},
     "output_type": "display_data"
    }
   ],
   "source": [
    "plt.scatter(train_sizes2, mean_values2, c='red')"
   ]
  },
  {
   "cell_type": "code",
   "execution_count": 24,
   "metadata": {},
   "outputs": [
    {
     "data": {
      "text/plain": [
       "<matplotlib.collections.PathCollection at 0x7f38f09d27f0>"
      ]
     },
     "execution_count": 24,
     "metadata": {},
     "output_type": "execute_result"
    },
    {
     "data": {
      "image/png": "[encoded data removed]",
      "text/plain": [
       "<matplotlib.figure.Figure at 0x7f38f0a7f2b0>"
      ]
     },
     "metadata": {},
     "output_type": "display_data"
    }
   ],
   "source": [
    "plt.scatter(train_sizes, mean_values, c='yellow')\n",
    "plt.scatter(train_sizes2, mean_values2, c='red')"
   ]
  },
  {
   "cell_type": "code",
   "execution_count": 25,
   "metadata": {
    "collapsed": true
   },
   "outputs": [],
   "source": [
    "from sklearn.neighbors import KNeighborsClassifier\n",
    "model3 = KNeighborsClassifier(n_neighbors = s)\n",
    "train_sizes3, train_scores3, test_scores3 = learning_curve(\n",
    "    model3, X, y, cv=5)\n",
    "mean_values = np.mean(test_scores3, axis=1)"
   ]
  },
  {
   "cell_type": "code",
   "execution_count": 26,
   "metadata": {},
   "outputs": [
    {
     "data": {
      "text/plain": [
       "<matplotlib.collections.PathCollection at 0x7f38f09bf320>"
      ]
     },
     "execution_count": 26,
     "metadata": {},
     "output_type": "execute_result"
    },
    {
     "data": {
      "image/png": "[encoded data removed]",
      "text/plain": [
       "<matplotlib.figure.Figure at 0x7f38f0a090f0>"
      ]
     },
     "metadata": {},
     "output_type": "display_data"
    }
   ],
   "source": [
    "plt.scatter(train_sizes3, mean_values, c='green')"
   ]
  },
  {
   "cell_type": "code",
   "execution_count": 27,
   "metadata": {},
   "outputs": [
    {
     "data": {
      "text/plain": [
       "<matplotlib.collections.PathCollection at 0x7f38f091cbe0>"
      ]
     },
     "execution_count": 27,
     "metadata": {},
     "output_type": "execute_result"
    },
    {
     "data": {
      "image/png": "[encoded data removed]",
      "text/plain": [
       "<matplotlib.figure.Figure at 0x7f38f20b6588>"
      ]
     },
     "metadata": {},
     "output_type": "display_data"
    }
   ],
   "source": [
    "from sklearn.tree import DecisionTreeClassifier\n",
    "from sklearn.model_selection import cross_val_score\n",
    "\n",
    "model = DecisionTreeClassifier(max_depth=10)\n",
    "scores = cross_val_score(model, X,y,cv=5)\n",
    "mean = scores.mean()\n",
    "\n",
    "rng3 = np.arange(89,122,4)\n",
    "scor=[]\n",
    "\n",
    "for s in rng3:\n",
    "    model4 = KNeighborsClassifier(n_neighbors = s)\n",
    "    model4.fit(X_train,y_train)\n",
    "    scor.append(cross_val_score(model4,X,y,cv=5).mean())\n",
    "    \n",
    "import matplotlib.pylab as plt\n",
    "%matplotlib inline\n",
    "plt.scatter(rng3, scor, c='red')"
   ]
  },
  {
   "cell_type": "code",
   "execution_count": 28,
   "metadata": {},
   "outputs": [
    {
     "data": {
      "text/plain": [
       "<matplotlib.collections.PathCollection at 0x7f38f0884630>"
      ]
     },
     "execution_count": 28,
     "metadata": {},
     "output_type": "execute_result"
    },
    {
     "data": {
      "image/png": "[encoded data removed]",
      "text/plain": [
       "<matplotlib.figure.Figure at 0x7f38f0aa6f60>"
      ]
     },
     "metadata": {},
     "output_type": "display_data"
    }
   ],
   "source": [
    "rng2 = np.arange(90,110,4)\n",
    "\n",
    "from sklearn.metrics import accuracy_score\n",
    "acc3 = []\n",
    "for s in rng2:\n",
    "    model3 = KNeighborsClassifier(n_neighbors = s)\n",
    "    model3.fit(X_train,y_train)\n",
    "    acc3.append(accuracy_score(y_test,model3.predict(X_test)))\n",
    "    \n",
    "plt.scatter(rng2, acc3, c='blue')"
   ]
  },
  {
   "cell_type": "markdown",
   "metadata": {},
   "source": [
    "# Assignment 7"
   ]
  },
  {
   "cell_type": "code",
   "execution_count": 29,
   "metadata": {
    "collapsed": true
   },
   "outputs": [],
   "source": [
    "from sklearn.tree import DecisionTreeClassifier\n",
    "from sklearn.model_selection import cross_val_score\n",
    "\n",
    "rng4 = np.arange(0.02,0.08,0.005)\n",
    "scor=[]\n",
    "\n",
    "for s in rng4:\n",
    "    model4 = DecisionTreeClassifier(min_weight_fraction_leaf=s)\n",
    "    model4.fit(X_train,y_train)\n",
    "    scor.append(cross_val_score(model4,X,y,cv=5).mean())"
   ]
  },
  {
   "cell_type": "code",
   "execution_count": 30,
   "metadata": {},
   "outputs": [
    {
     "data": {
      "text/plain": [
       "<matplotlib.collections.PathCollection at 0x7f38f087c978>"
      ]
     },
     "execution_count": 30,
     "metadata": {},
     "output_type": "execute_result"
    },
    {
     "data": {
      "image/png": "[encoded data removed]",
      "text/plain": [
       "<matplotlib.figure.Figure at 0x7f3900e086a0>"
      ]
     },
     "metadata": {},
     "output_type": "display_data"
    }
   ],
   "source": [
    "import matplotlib.pylab as plt\n",
    "%matplotlib inline\n",
    "plt.scatter(rng4, scor, c='red')\n",
    "\n",
    "## 1a) When the Minimum weight fractions is .03 or .055, the models have the highest cross val scores"
   ]
  },
  {
   "cell_type": "code",
   "execution_count": 31,
   "metadata": {
    "collapsed": true
   },
   "outputs": [],
   "source": [
    "rng5 = np.arange(3,11,1)\n",
    "scor2=[]\n",
    "\n",
    "for s in rng5:\n",
    "    model5 = DecisionTreeClassifier(max_features=s)\n",
    "    model5.fit(X_train,y_train)\n",
    "    scor2.append(cross_val_score(model5,X,y,cv=5).mean())"
   ]
  },
  {
   "cell_type": "code",
   "execution_count": 32,
   "metadata": {},
   "outputs": [
    {
     "data": {
      "text/plain": [
       "<matplotlib.collections.PathCollection at 0x7f38f07ebf28>"
      ]
     },
     "execution_count": 32,
     "metadata": {},
     "output_type": "execute_result"
    },
    {
     "data": {
      "image/png": "[encoded data removed]",
      "text/plain": [
       "<matplotlib.figure.Figure at 0x7f38f098aa58>"
      ]
     },
     "metadata": {},
     "output_type": "display_data"
    }
   ],
   "source": [
    "import matplotlib.pylab as plt\n",
    "%matplotlib inline\n",
    "plt.scatter(rng5, scor2, c='yellow')\n",
    "\n",
    "## 1b) When the maximum amount of features is 6 or 9, the models have the highest cross val scores"
   ]
  },
  {
   "cell_type": "code",
   "execution_count": 33,
   "metadata": {
    "collapsed": true
   },
   "outputs": [],
   "source": [
    "rng6 = np.arange(1,100,10)\n",
    "scor3=[]\n",
    "scor4=[]\n",
    "\n",
    "## Logistic Regression model with a L1 penalty\n",
    "for s in rng6:\n",
    "    model6 = LogisticRegression(penalty=\"l1\")\n",
    "    model6.fit(X_train,y_train)\n",
    "    scor3.append(cross_val_score(model6,X,y,cv=5).mean())\n",
    "\n",
    "## Logistic Regression model with a L2 penalty\n",
    "for s in rng6:\n",
    "    model7 = LogisticRegression(penalty=\"l2\")\n",
    "    model7.fit(X_train,y_train)\n",
    "    scor4.append(cross_val_score(model7,X,y,cv=5).mean())"
   ]
  },
  {
   "cell_type": "code",
   "execution_count": 34,
   "metadata": {},
   "outputs": [
    {
     "data": {
      "text/plain": [
       "<matplotlib.collections.PathCollection at 0x7f38f076b828>"
      ]
     },
     "execution_count": 34,
     "metadata": {},
     "output_type": "execute_result"
    },
    {
     "data": {
      "image/png": "[encoded data removed]",
      "text/plain": [
       "<matplotlib.figure.Figure at 0x7f38f08319b0>"
      ]
     },
     "metadata": {},
     "output_type": "display_data"
    }
   ],
   "source": [
    "import matplotlib.pylab as plt\n",
    "%matplotlib inline\n",
    "plt.scatter(rng6, scor3, c='green')\n",
    "plt.scatter(rng6, scor4, c='blue')\n",
    "\n",
    "## 2) As you can see from plt, when the logistic regression model has a L1 penalty parameter, instead of a L2, the\n",
    "## model gets a higher cross value score"
   ]
  },
  {
   "cell_type": "code",
   "execution_count": 35,
   "metadata": {
    "collapsed": true
   },
   "outputs": [],
   "source": [
    "scorb=[]\n",
    "\n",
    "## calculating accuracy of model 4 using ~test~ data\n",
    "for s in rng4:\n",
    "    model8 = DecisionTreeClassifier(min_weight_fraction_leaf=s)\n",
    "    model8.fit(X_train,y_train)\n",
    "    scorb.append(accuracy_score(y_test,model8.predict(X_test)))"
   ]
  },
  {
   "cell_type": "code",
   "execution_count": 36,
   "metadata": {
    "collapsed": true
   },
   "outputs": [],
   "source": [
    "scor2b=[]\n",
    "\n",
    "##  calculating accuracy of model 5 using ~test~ data\n",
    "for s in rng5:\n",
    "    model9 = DecisionTreeClassifier(max_features=s)\n",
    "    model9.fit(X_train,y_train)\n",
    "    scor2b.append(accuracy_score(y_test,model9.predict(X_test)))"
   ]
  },
  {
   "cell_type": "code",
   "execution_count": 37,
   "metadata": {
    "collapsed": true
   },
   "outputs": [],
   "source": [
    "scor3b=[]\n",
    "scor4b=[]\n",
    "\n",
    "##  calculating accuracy of model 6 using ~test~ data\n",
    "for s in rng6:\n",
    "    model10 = LogisticRegression(penalty=\"l1\")\n",
    "    model10.fit(X_train,y_train)\n",
    "    scor3b.append(accuracy_score(y_test,model10.predict(X_test)))\n",
    "\n",
    "##  calculating accuracy of model 7 using ~test~ data\n",
    "for s in rng6:\n",
    "    model11 = LogisticRegression(penalty=\"l2\")\n",
    "    model11.fit(X_train,y_train)\n",
    "    scor4b.append(accuracy_score(y_test,model11.predict(X_test)))"
   ]
  },
  {
   "cell_type": "code",
   "execution_count": 38,
   "metadata": {},
   "outputs": [
    {
     "data": {
      "text/plain": [
       "<matplotlib.collections.PathCollection at 0x7f38f06da0b8>"
      ]
     },
     "execution_count": 38,
     "metadata": {},
     "output_type": "execute_result"
    },
    {
     "data": {
      "image/png": "[encoded data removed]",
      "text/plain": [
       "<matplotlib.figure.Figure at 0x7f38f0712978>"
      ]
     },
     "metadata": {},
     "output_type": "display_data"
    }
   ],
   "source": [
    "import matplotlib.pylab as plt\n",
    "%matplotlib inline\n",
    "plt.scatter(rng4, scorb, c='red')\n",
    "plt.scatter(rng5, scor2b, c='yellow')\n",
    "plt.scatter(rng6, scor3b, c='green')\n",
    "plt.scatter(rng6, scor4b, c='blue')\n",
    "\n",
    "## 3) When you compare the four graphs for the accuracy scores for all the different training models on the test\n",
    "## test data, you can clearly see that the first model (in red) of a Decision Tree Classifier with minimum weight \n",
    "## fractions, again at values of .03 or .055, are the most accurate"
   ]
  }
 ],
 "metadata": {
  "kernelspec": {
   "display_name": "Python 3",
   "language": "python",
   "name": "python3"
  },
  "language_info": {
   "codemirror_mode": {
    "name": "ipython",
    "version": 3
   },
   "file_extension": ".py",
   "mimetype": "text/x-python",
   "name": "python",
   "nbconvert_exporter": "python",
   "pygments_lexer": "ipython3",
   "version": "3.5.2"
  }
 },
 "nbformat": 4,
 "nbformat_minor": 2
}
