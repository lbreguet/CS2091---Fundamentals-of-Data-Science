{
 "cells": [
  {
   "cell_type": "markdown",
   "metadata": {},
   "source": [
    "# Project - Estimating the likelihood for an affair\n",
    "\n",
    "## Details\n",
    "\n",
    "* Student ID\n",
    "...\n",
    "\n",
    "## Description of the project\n",
    "\n",
    "In this project, I was interested in answering the question \"How likely is somebody to have an extramartial affair. To answer this question, I have decided a survey of 8 features and 1 target variable as follows:\n",
    "\n",
    "* sex factor indicating gender.\n",
    "* age numeric variable coding age in years.\n",
    "* ym numeric variable coding number of years married.\n",
    "* child factor. Are there children in the marriage?\n",
    "* religious numeric variable coding religiousness: 1 = anti, 2 = not at all, 3 = slightly, 4 = somewhat, 5 = very.\n",
    "* education numeric variable coding level of education: 9 = grade school, 12 = high school graduate, 14 = some college, 16 = college graduate, 17 = some graduate work, 18 = master’s degree, 20 = Ph.D., M.D., or other advanced degree.\n",
    "* occupation numeric variable coding occupation according to [Hollingshead classification](https://dictionary.fitbir.nih.gov/portal/publicData/dataElementAction!view.action?dataElementName=HollingsheadJobClassCat&publicArea=true) (reverse numbering).\n",
    "* rate numeric variable coding self rating of marriage: 1 = very unhappy, 2 = somewhat unhappy, 3 = average, 4 = happier than average, 5 = very happy\n",
    "\n",
    "The target variable - nbaffairs - was the number of extramarital encounters during the last year"
   ]
  },
  {
   "cell_type": "code",
   "execution_count": 1,
   "metadata": {},
   "outputs": [
    {
     "data": {
      "text/html": [
       "<div>\n",
       "<style>\n",
       "    .dataframe thead tr:only-child th {\n",
       "        text-align: right;\n",
       "    }\n",
       "\n",
       "    .dataframe thead th {\n",
       "        text-align: left;\n",
       "    }\n",
       "\n",
       "    .dataframe tbody tr th {\n",
       "        vertical-align: top;\n",
       "    }\n",
       "</style>\n",
       "<table border=\"1\" class=\"dataframe\">\n",
       "  <thead>\n",
       "    <tr style=\"text-align: right;\">\n",
       "      <th></th>\n",
       "      <th>sex</th>\n",
       "      <th>age</th>\n",
       "      <th>ym</th>\n",
       "      <th>child</th>\n",
       "      <th>religious</th>\n",
       "      <th>education</th>\n",
       "      <th>occupation</th>\n",
       "      <th>rate</th>\n",
       "      <th>nbaffairs</th>\n",
       "    </tr>\n",
       "  </thead>\n",
       "  <tbody>\n",
       "    <tr>\n",
       "      <th>0</th>\n",
       "      <td>1</td>\n",
       "      <td>35</td>\n",
       "      <td>10.0000</td>\n",
       "      <td>0</td>\n",
       "      <td>3</td>\n",
       "      <td>18</td>\n",
       "      <td>7</td>\n",
       "      <td>4</td>\n",
       "      <td>0</td>\n",
       "    </tr>\n",
       "    <tr>\n",
       "      <th>1</th>\n",
       "      <td>0</td>\n",
       "      <td>28</td>\n",
       "      <td>5.0000</td>\n",
       "      <td>0</td>\n",
       "      <td>4</td>\n",
       "      <td>14</td>\n",
       "      <td>6</td>\n",
       "      <td>4</td>\n",
       "      <td>0</td>\n",
       "    </tr>\n",
       "    <tr>\n",
       "      <th>2</th>\n",
       "      <td>0</td>\n",
       "      <td>30</td>\n",
       "      <td>15.0000</td>\n",
       "      <td>1</td>\n",
       "      <td>1</td>\n",
       "      <td>12</td>\n",
       "      <td>1</td>\n",
       "      <td>4</td>\n",
       "      <td>0</td>\n",
       "    </tr>\n",
       "    <tr>\n",
       "      <th>3</th>\n",
       "      <td>1</td>\n",
       "      <td>66</td>\n",
       "      <td>20.0000</td>\n",
       "      <td>1</td>\n",
       "      <td>5</td>\n",
       "      <td>18</td>\n",
       "      <td>6</td>\n",
       "      <td>5</td>\n",
       "      <td>0</td>\n",
       "    </tr>\n",
       "    <tr>\n",
       "      <th>4</th>\n",
       "      <td>1</td>\n",
       "      <td>22</td>\n",
       "      <td>0.7497</td>\n",
       "      <td>0</td>\n",
       "      <td>2</td>\n",
       "      <td>17</td>\n",
       "      <td>6</td>\n",
       "      <td>3</td>\n",
       "      <td>0</td>\n",
       "    </tr>\n",
       "  </tbody>\n",
       "</table>\n",
       "</div>"
      ],
      "text/plain": [
       "   sex  age       ym  child  religious  education  occupation  rate  nbaffairs\n",
       "0    1   35  10.0000      0          3         18           7     4          0\n",
       "1    0   28   5.0000      0          4         14           6     4          0\n",
       "2    0   30  15.0000      1          1         12           1     4          0\n",
       "3    1   66  20.0000      1          5         18           6     5          0\n",
       "4    1   22   0.7497      0          2         17           6     3          0"
      ]
     },
     "execution_count": 1,
     "metadata": {},
     "output_type": "execute_result"
    }
   ],
   "source": [
    "import pandas as pd\n",
    "\n",
    "data = pd.read_csv('https://raw.githubusercontent.com/AUP-CS2091/Week-10/master/Fair.csv')\n",
    "\n",
    "data.head()"
   ]
  },
  {
   "cell_type": "markdown",
   "metadata": {},
   "source": [
    "I first needed to clean a bit the data, change categories into numbers and deal with missing values."
   ]
  },
  {
   "cell_type": "code",
   "execution_count": 2,
   "metadata": {
    "collapsed": true
   },
   "outputs": [],
   "source": [
    "data['sex'] = data['sex'].astype('category').cat.codes\n",
    "data['child'] = data['child'].astype('category').cat.codes"
   ]
  },
  {
   "cell_type": "markdown",
   "metadata": {},
   "source": [
    "## Data Exploation\n",
    "\n",
    "I wanted to better understand the distribution of the data and significance of different features"
   ]
  },
  {
   "cell_type": "code",
   "execution_count": 3,
   "metadata": {},
   "outputs": [
    {
     "data": {
      "text/html": [
       "<div>\n",
       "<style>\n",
       "    .dataframe thead tr:only-child th {\n",
       "        text-align: right;\n",
       "    }\n",
       "\n",
       "    .dataframe thead th {\n",
       "        text-align: left;\n",
       "    }\n",
       "\n",
       "    .dataframe tbody tr th {\n",
       "        vertical-align: top;\n",
       "    }\n",
       "</style>\n",
       "<table border=\"1\" class=\"dataframe\">\n",
       "  <thead>\n",
       "    <tr style=\"text-align: right;\">\n",
       "      <th></th>\n",
       "      <th>sex</th>\n",
       "      <th>age</th>\n",
       "      <th>ym</th>\n",
       "      <th>child</th>\n",
       "      <th>religious</th>\n",
       "      <th>education</th>\n",
       "      <th>occupation</th>\n",
       "      <th>rate</th>\n",
       "      <th>nbaffairs</th>\n",
       "    </tr>\n",
       "  </thead>\n",
       "  <tbody>\n",
       "    <tr>\n",
       "      <th>count</th>\n",
       "      <td>601.000000</td>\n",
       "      <td>601.00000</td>\n",
       "      <td>601.000000</td>\n",
       "      <td>601.000000</td>\n",
       "      <td>601.000000</td>\n",
       "      <td>601.000000</td>\n",
       "      <td>601.000000</td>\n",
       "      <td>601.000000</td>\n",
       "      <td>601.000000</td>\n",
       "    </tr>\n",
       "    <tr>\n",
       "      <th>mean</th>\n",
       "      <td>0.475874</td>\n",
       "      <td>32.91015</td>\n",
       "      <td>10.049069</td>\n",
       "      <td>0.715474</td>\n",
       "      <td>3.116473</td>\n",
       "      <td>16.166389</td>\n",
       "      <td>4.194676</td>\n",
       "      <td>3.931780</td>\n",
       "      <td>1.455907</td>\n",
       "    </tr>\n",
       "    <tr>\n",
       "      <th>std</th>\n",
       "      <td>0.499834</td>\n",
       "      <td>10.77738</td>\n",
       "      <td>8.419986</td>\n",
       "      <td>0.451564</td>\n",
       "      <td>1.167509</td>\n",
       "      <td>2.402555</td>\n",
       "      <td>1.819443</td>\n",
       "      <td>1.103179</td>\n",
       "      <td>3.298758</td>\n",
       "    </tr>\n",
       "    <tr>\n",
       "      <th>min</th>\n",
       "      <td>0.000000</td>\n",
       "      <td>17.00000</td>\n",
       "      <td>0.000000</td>\n",
       "      <td>0.000000</td>\n",
       "      <td>1.000000</td>\n",
       "      <td>9.000000</td>\n",
       "      <td>1.000000</td>\n",
       "      <td>1.000000</td>\n",
       "      <td>0.000000</td>\n",
       "    </tr>\n",
       "    <tr>\n",
       "      <th>25%</th>\n",
       "      <td>0.000000</td>\n",
       "      <td>25.00000</td>\n",
       "      <td>3.000000</td>\n",
       "      <td>0.000000</td>\n",
       "      <td>2.000000</td>\n",
       "      <td>14.000000</td>\n",
       "      <td>3.000000</td>\n",
       "      <td>3.000000</td>\n",
       "      <td>0.000000</td>\n",
       "    </tr>\n",
       "    <tr>\n",
       "      <th>50%</th>\n",
       "      <td>0.000000</td>\n",
       "      <td>31.00000</td>\n",
       "      <td>8.000000</td>\n",
       "      <td>1.000000</td>\n",
       "      <td>3.000000</td>\n",
       "      <td>16.000000</td>\n",
       "      <td>5.000000</td>\n",
       "      <td>4.000000</td>\n",
       "      <td>0.000000</td>\n",
       "    </tr>\n",
       "    <tr>\n",
       "      <th>75%</th>\n",
       "      <td>1.000000</td>\n",
       "      <td>37.00000</td>\n",
       "      <td>16.000000</td>\n",
       "      <td>1.000000</td>\n",
       "      <td>4.000000</td>\n",
       "      <td>18.000000</td>\n",
       "      <td>6.000000</td>\n",
       "      <td>5.000000</td>\n",
       "      <td>0.000000</td>\n",
       "    </tr>\n",
       "    <tr>\n",
       "      <th>max</th>\n",
       "      <td>1.000000</td>\n",
       "      <td>80.00000</td>\n",
       "      <td>29.000000</td>\n",
       "      <td>1.000000</td>\n",
       "      <td>5.000000</td>\n",
       "      <td>20.000000</td>\n",
       "      <td>7.000000</td>\n",
       "      <td>5.000000</td>\n",
       "      <td>12.000000</td>\n",
       "    </tr>\n",
       "  </tbody>\n",
       "</table>\n",
       "</div>"
      ],
      "text/plain": [
       "              sex        age          ym       child   religious   education  \\\n",
       "count  601.000000  601.00000  601.000000  601.000000  601.000000  601.000000   \n",
       "mean     0.475874   32.91015   10.049069    0.715474    3.116473   16.166389   \n",
       "std      0.499834   10.77738    8.419986    0.451564    1.167509    2.402555   \n",
       "min      0.000000   17.00000    0.000000    0.000000    1.000000    9.000000   \n",
       "25%      0.000000   25.00000    3.000000    0.000000    2.000000   14.000000   \n",
       "50%      0.000000   31.00000    8.000000    1.000000    3.000000   16.000000   \n",
       "75%      1.000000   37.00000   16.000000    1.000000    4.000000   18.000000   \n",
       "max      1.000000   80.00000   29.000000    1.000000    5.000000   20.000000   \n",
       "\n",
       "       occupation        rate   nbaffairs  \n",
       "count  601.000000  601.000000  601.000000  \n",
       "mean     4.194676    3.931780    1.455907  \n",
       "std      1.819443    1.103179    3.298758  \n",
       "min      1.000000    1.000000    0.000000  \n",
       "25%      3.000000    3.000000    0.000000  \n",
       "50%      5.000000    4.000000    0.000000  \n",
       "75%      6.000000    5.000000    0.000000  \n",
       "max      7.000000    5.000000   12.000000  "
      ]
     },
     "execution_count": 3,
     "metadata": {},
     "output_type": "execute_result"
    }
   ],
   "source": [
    "data.describe()"
   ]
  },
  {
   "cell_type": "markdown",
   "metadata": {},
   "source": [
    "As can be seen, gender is distributed almost evenly between females and males with a slight advantage to females. Here is the precise distribution"
   ]
  },
  {
   "cell_type": "code",
   "execution_count": 4,
   "metadata": {},
   "outputs": [
    {
     "name": "stdout",
     "output_type": "stream",
     "text": [
      "0.5241264559068219\n",
      "19\n"
     ]
    }
   ],
   "source": [
    "females = len(data[data['sex'] == 0])\n",
    "female_dist = females / len(data)\n",
    "print(female_dist)\n",
    "\n",
    "print(len(data[data['age'] == 37]))"
   ]
  },
  {
   "cell_type": "markdown",
   "metadata": {},
   "source": [
    "The distribution of females in the US is 50.8% of the population in 2010 (see [this document](https://www.census.gov/prod/cen2010/briefs/c2010br-03.pdf)) so we have a relatively balaned dataset with regard to this feature.\n",
    "\n",
    "We can similarly see that 71% have children. I found in [this document](https://www.census.gov/prod/2013pubs/p20-570.pdf), that out of 55,519,648 married couples, 24,056,766 had children in the US, which gives us"
   ]
  },
  {
   "cell_type": "code",
   "execution_count": 5,
   "metadata": {},
   "outputs": [
    {
     "name": "stdout",
     "output_type": "stream",
     "text": [
      "43.33018465823126%\n"
     ]
    }
   ],
   "source": [
    "print('{}%'.format(24056766/55519648*100))"
   ]
  },
  {
   "cell_type": "markdown",
   "metadata": {},
   "source": [
    "only. One should, of course, take into account the number of children and the years of being married when trying to evaluate the distribution and this is outside of the scope of our course.\n",
    "\n",
    "For the rest of the features, I need to use different graphs for better understanding the distribution."
   ]
  },
  {
   "cell_type": "code",
   "execution_count": 6,
   "metadata": {},
   "outputs": [
    {
     "data": {
      "image/png": "[encoded data removed]",
      "text/plain": [
       "<matplotlib.figure.Figure at 0x7f92c9d32828>"
      ]
     },
     "metadata": {},
     "output_type": "display_data"
    }
   ],
   "source": [
    "import matplotlib.pyplot as plt\n",
    "%matplotlib inline\n",
    "\n",
    "_ = plt.hist(data['age'], 63)"
   ]
  },
  {
   "cell_type": "markdown",
   "metadata": {},
   "source": [
    "I have compared it with [this distribution](https://www.census.gov/prod/2005pubs/p70-97.pdf). Unfortunately, the distribution does not talk about ages of people who are married but the age when they got married. Luckily, I found I can engineer my data to produce this information as follows\n",
    "\n"
   ]
  },
  {
   "cell_type": "code",
   "execution_count": 7,
   "metadata": {},
   "outputs": [
    {
     "data": {
      "image/png": "[encoded data removed]",
      "text/plain": [
       "<matplotlib.figure.Figure at 0x7f9299d2f0b8>"
      ]
     },
     "metadata": {},
     "output_type": "display_data"
    }
   ],
   "source": [
    "# age when married\n",
    "data['awm'] = data.apply(lambda x: x['age'] - x['ym'], axis=1)\n",
    "\n",
    "_ = plt.hist(data['awm'], 63)"
   ]
  },
  {
   "cell_type": "markdown",
   "metadata": {},
   "source": [
    "The data is not \"smooth\" enough and can confuse a modeling technique because of ....\n",
    "A possible \"smoothing\" of the distribution is by assigning the ages into few categories"
   ]
  },
  {
   "cell_type": "code",
   "execution_count": 8,
   "metadata": {},
   "outputs": [
    {
     "data": {
      "image/png": "[encoded data removed]",
      "text/plain": [
       "<matplotlib.figure.Figure at 0x7f9295f29cf8>"
      ]
     },
     "metadata": {},
     "output_type": "display_data"
    }
   ],
   "source": [
    "data['age_cats'] = data.apply(lambda x: 10 if x['awm'] < 11\n",
    "         else 15 if x['awm'] > 10 and x['awm'] < 16\n",
    "         else 20 if x['awm'] > 15 and x['awm'] < 21\n",
    "         else 22 if x['awm'] > 20 and x['awm'] < 23\n",
    "         else 24 if x['awm'] > 22 and x['awm'] < 25\n",
    "         else 26 if x['awm'] > 24 and x['awm'] < 27\n",
    "         else 30 if x['awm'] > 26 and x['awm'] < 31\n",
    "         else 35 if x['awm'] > 30 and x['awm'] < 36\n",
    "         else 45 if x['awm'] > 35 and x['awm'] < 50\n",
    "         else 55, axis = 1)\n",
    "\n",
    "_ = plt.hist(data['age_cats'], 10)"
   ]
  },
  {
   "cell_type": "markdown",
   "metadata": {},
   "source": [
    "Similarly to age, I used the [same document](https://www.census.gov/prod/2005pubs/p70-97.pdf) for the duration of marriage..."
   ]
  },
  {
   "cell_type": "code",
   "execution_count": 9,
   "metadata": {},
   "outputs": [
    {
     "data": {
      "image/png": "[encoded data removed]",
      "text/plain": [
       "<matplotlib.figure.Figure at 0x7f9295ec2fd0>"
      ]
     },
     "metadata": {},
     "output_type": "display_data"
    }
   ],
   "source": [
    "_ = plt.hist(data['ym'], 29)"
   ]
  },
  {
   "cell_type": "markdown",
   "metadata": {},
   "source": [
    "I go on and show the distribution of the rest of the features and try to explain any big anomality (of course, given a small data set, the anomalities will be bigger) as much as I can. I engineer features which are easier to compare to censuses I found online and smooth them when necessary."
   ]
  },
  {
   "cell_type": "markdown",
   "metadata": {},
   "source": [
    "I now check the distribution of the number of affairs"
   ]
  },
  {
   "cell_type": "code",
   "execution_count": 10,
   "metadata": {},
   "outputs": [
    {
     "data": {
      "image/png": "[encoded data removed]",
      "text/plain": [
       "<matplotlib.figure.Figure at 0x7f9295d1f710>"
      ]
     },
     "metadata": {},
     "output_type": "display_data"
    }
   ],
   "source": [
    "_ = plt.hist(data['nbaffairs'], 15)"
   ]
  },
  {
   "cell_type": "markdown",
   "metadata": {},
   "source": [
    "The above histogram hints that it will be much more interesting in checking if an affair took place than to check the number of affairs. I do the required normalization"
   ]
  },
  {
   "cell_type": "code",
   "execution_count": 11,
   "metadata": {},
   "outputs": [
    {
     "data": {
      "image/png": "[encoded data removed]",
      "text/plain": [
       "<matplotlib.figure.Figure at 0x7f9295c847b8>"
      ]
     },
     "metadata": {},
     "output_type": "display_data"
    }
   ],
   "source": [
    "data['has_affair'] = data.apply(lambda x: 0 if x['nbaffairs'] == 0\n",
    "         else 1, axis = 1)\n",
    "\n",
    "_ = plt.hist(data['has_affair'], 2)"
   ]
  },
  {
   "cell_type": "markdown",
   "metadata": {},
   "source": [
    "## Modeling\n",
    "\n",
    "After a first attempt at engineering the data (and understanding I will probably need to reiterate the features engineering step in order to try to improve my models), I can try to build the models.\n",
    "\n",
    "First, separating the set of features and target variable.We should also remove the 'nbaffairs' from X because it is highly correlated and we dont have access to it in future cases."
   ]
  },
  {
   "cell_type": "code",
   "execution_count": 12,
   "metadata": {
    "collapsed": true
   },
   "outputs": [],
   "source": [
    "X = data.loc[:, data.columns != 'has_affair']\n",
    "del X['nbaffairs']\n",
    "y = data['has_affair']"
   ]
  },
  {
   "cell_type": "markdown",
   "metadata": {},
   "source": [
    "Next, I put aside 20% of the data for testing and comparing the set of final models I will obtain at the end."
   ]
  },
  {
   "cell_type": "code",
   "execution_count": 13,
   "metadata": {
    "collapsed": true
   },
   "outputs": [],
   "source": [
    "from sklearn.model_selection import train_test_split\n",
    "\n",
    "X_train, X_test, y_train, y_test = train_test_split(X, y, test_size=0.2)"
   ]
  },
  {
   "cell_type": "markdown",
   "metadata": {},
   "source": [
    "Since it is a classification problem, we can try first to use classification trees and to get the best parameters"
   ]
  },
  {
   "cell_type": "code",
   "execution_count": 14,
   "metadata": {},
   "outputs": [
    {
     "data": {
      "image/png": "[encoded data removed]",
      "text/plain": [
       "<matplotlib.figure.Figure at 0x7f9295db9b00>"
      ]
     },
     "metadata": {},
     "output_type": "display_data"
    }
   ],
   "source": [
    "from sklearn.tree import DecisionTreeClassifier\n",
    "\n",
    "from sklearn.model_selection import cross_val_score\n",
    "\n",
    "import numpy as np\n",
    "\n",
    "rng = np.arange(3,30,5)\n",
    "acc = []\n",
    "for s in rng:\n",
    "    model = DecisionTreeClassifier(max_depth=s)\n",
    "    acc.append(cross_val_score(model, X_train, y_train).mean())\n",
    "\n",
    "_ = plt.scatter(rng, acc, c='red')"
   ]
  },
  {
   "cell_type": "code",
   "execution_count": 15,
   "metadata": {},
   "outputs": [
    {
     "data": {
      "image/png": "[encoded data removed]",
      "text/plain": [
       "<matplotlib.figure.Figure at 0x7f9296081f60>"
      ]
     },
     "metadata": {},
     "output_type": "display_data"
    }
   ],
   "source": [
    "rng = np.arange(1,8,1)\n",
    "acc = []\n",
    "for s in rng:\n",
    "    model = DecisionTreeClassifier(max_depth=s)\n",
    "    acc.append(cross_val_score(model, X_train, y_train).mean())\n",
    "\n",
    "_ = plt.scatter(rng, acc, c='red')"
   ]
  },
  {
   "cell_type": "markdown",
   "metadata": {},
   "source": [
    "If I choose to restrict the model with max_depth, 2 is apparently the best value in order to avoid over-fitting.\n",
    "\n",
    "I obtain the accuracy score on the test set while building a model using the whole training set"
   ]
  },
  {
   "cell_type": "code",
   "execution_count": 16,
   "metadata": {},
   "outputs": [
    {
     "data": {
      "text/plain": [
       "0.71900826446280997"
      ]
     },
     "execution_count": 16,
     "metadata": {},
     "output_type": "execute_result"
    }
   ],
   "source": [
    "from sklearn.metrics import accuracy_score\n",
    "\n",
    "model = DecisionTreeClassifier(max_depth=2)\n",
    "model.fit(X_train,y_train)\n",
    "accuracy_score(y_test,model.predict(X_test))"
   ]
  },
  {
   "cell_type": "markdown",
   "metadata": {},
   "source": [
    "I continue with evaluating and comparing models with different parameters and techniques, while closely monitoring the documentation! I also try to remove features as some methods (i.e. nearest neighbors) are more sensitive to that.\n",
    "\n",
    "At the end, I choose the best model I could find and I want to know if I had enough data. For that, I plot the lurning_curves of each of the modeling techniques. Maybe a bit more data for logistic regression would give me much better classification, or for trees?"
   ]
  },
  {
   "cell_type": "code",
   "execution_count": 17,
   "metadata": {},
   "outputs": [
    {
     "data": {
      "image/png": "[encoded data removed]",
      "text/plain": [
       "<matplotlib.figure.Figure at 0x7f9295c4e748>"
      ]
     },
     "metadata": {},
     "output_type": "display_data"
    }
   ],
   "source": [
    "from sklearn.model_selection import learning_curve\n",
    "\n",
    "train_sizes, train_scores, test_scores = learning_curve(model, X_train, y_train, cv=5)\n",
    "plt.scatter(train_sizes, np.mean(test_scores, axis=1), c='red')\n",
    "mean_values = np.mean(test_scores, axis=1)"
   ]
  },
  {
   "cell_type": "markdown",
   "metadata": {},
   "source": [
    "It seems that our model can still benefit from more data but that this is not that crucial, i.e. we cans till get interesting results with the amount of data we have so far."
   ]
  },
  {
   "cell_type": "markdown",
   "metadata": {},
   "source": [
    "We are still not done, can we find interesting patterms using an unsupervised technique? "
   ]
  },
  {
   "cell_type": "code",
   "execution_count": 18,
   "metadata": {},
   "outputs": [
    {
     "data": {
      "text/html": [
       "<div>\n",
       "<style>\n",
       "    .dataframe thead tr:only-child th {\n",
       "        text-align: right;\n",
       "    }\n",
       "\n",
       "    .dataframe thead th {\n",
       "        text-align: left;\n",
       "    }\n",
       "\n",
       "    .dataframe tbody tr th {\n",
       "        vertical-align: top;\n",
       "    }\n",
       "</style>\n",
       "<table border=\"1\" class=\"dataframe\">\n",
       "  <thead>\n",
       "    <tr style=\"text-align: right;\">\n",
       "      <th></th>\n",
       "      <th>sex</th>\n",
       "      <th>age</th>\n",
       "      <th>ym</th>\n",
       "      <th>child</th>\n",
       "      <th>religious</th>\n",
       "      <th>education</th>\n",
       "      <th>occupation</th>\n",
       "      <th>rate</th>\n",
       "      <th>nbaffairs</th>\n",
       "      <th>awm</th>\n",
       "      <th>age_cats</th>\n",
       "      <th>has_affair</th>\n",
       "    </tr>\n",
       "  </thead>\n",
       "  <tbody>\n",
       "    <tr>\n",
       "      <th>0</th>\n",
       "      <td>1</td>\n",
       "      <td>35</td>\n",
       "      <td>10.0000</td>\n",
       "      <td>0</td>\n",
       "      <td>3</td>\n",
       "      <td>18</td>\n",
       "      <td>7</td>\n",
       "      <td>4</td>\n",
       "      <td>0</td>\n",
       "      <td>25.0000</td>\n",
       "      <td>26</td>\n",
       "      <td>0</td>\n",
       "    </tr>\n",
       "    <tr>\n",
       "      <th>1</th>\n",
       "      <td>0</td>\n",
       "      <td>28</td>\n",
       "      <td>5.0000</td>\n",
       "      <td>0</td>\n",
       "      <td>4</td>\n",
       "      <td>14</td>\n",
       "      <td>6</td>\n",
       "      <td>4</td>\n",
       "      <td>0</td>\n",
       "      <td>23.0000</td>\n",
       "      <td>24</td>\n",
       "      <td>0</td>\n",
       "    </tr>\n",
       "    <tr>\n",
       "      <th>2</th>\n",
       "      <td>0</td>\n",
       "      <td>30</td>\n",
       "      <td>15.0000</td>\n",
       "      <td>1</td>\n",
       "      <td>1</td>\n",
       "      <td>12</td>\n",
       "      <td>1</td>\n",
       "      <td>4</td>\n",
       "      <td>0</td>\n",
       "      <td>15.0000</td>\n",
       "      <td>15</td>\n",
       "      <td>0</td>\n",
       "    </tr>\n",
       "    <tr>\n",
       "      <th>3</th>\n",
       "      <td>1</td>\n",
       "      <td>66</td>\n",
       "      <td>20.0000</td>\n",
       "      <td>1</td>\n",
       "      <td>5</td>\n",
       "      <td>18</td>\n",
       "      <td>6</td>\n",
       "      <td>5</td>\n",
       "      <td>0</td>\n",
       "      <td>46.0000</td>\n",
       "      <td>45</td>\n",
       "      <td>0</td>\n",
       "    </tr>\n",
       "    <tr>\n",
       "      <th>4</th>\n",
       "      <td>1</td>\n",
       "      <td>22</td>\n",
       "      <td>0.7497</td>\n",
       "      <td>0</td>\n",
       "      <td>2</td>\n",
       "      <td>17</td>\n",
       "      <td>6</td>\n",
       "      <td>3</td>\n",
       "      <td>0</td>\n",
       "      <td>21.2503</td>\n",
       "      <td>22</td>\n",
       "      <td>0</td>\n",
       "    </tr>\n",
       "  </tbody>\n",
       "</table>\n",
       "</div>"
      ],
      "text/plain": [
       "   sex  age       ym  child  religious  education  occupation  rate  \\\n",
       "0    1   35  10.0000      0          3         18           7     4   \n",
       "1    0   28   5.0000      0          4         14           6     4   \n",
       "2    0   30  15.0000      1          1         12           1     4   \n",
       "3    1   66  20.0000      1          5         18           6     5   \n",
       "4    1   22   0.7497      0          2         17           6     3   \n",
       "\n",
       "   nbaffairs      awm  age_cats  has_affair  \n",
       "0          0  25.0000        26           0  \n",
       "1          0  23.0000        24           0  \n",
       "2          0  15.0000        15           0  \n",
       "3          0  46.0000        45           0  \n",
       "4          0  21.2503        22           0  "
      ]
     },
     "execution_count": 18,
     "metadata": {},
     "output_type": "execute_result"
    }
   ],
   "source": [
    "data.head()"
   ]
  },
  {
   "cell_type": "code",
   "execution_count": 29,
   "metadata": {},
   "outputs": [
    {
     "data": {
      "text/html": [
       "<div>\n",
       "<style>\n",
       "    .dataframe thead tr:only-child th {\n",
       "        text-align: right;\n",
       "    }\n",
       "\n",
       "    .dataframe thead th {\n",
       "        text-align: left;\n",
       "    }\n",
       "\n",
       "    .dataframe tbody tr th {\n",
       "        vertical-align: top;\n",
       "    }\n",
       "</style>\n",
       "<table border=\"1\" class=\"dataframe\">\n",
       "  <thead>\n",
       "    <tr style=\"text-align: right;\">\n",
       "      <th></th>\n",
       "      <th>sex</th>\n",
       "      <th>age</th>\n",
       "      <th>ym</th>\n",
       "      <th>child</th>\n",
       "      <th>religious</th>\n",
       "      <th>education</th>\n",
       "      <th>occupation</th>\n",
       "      <th>rate</th>\n",
       "      <th>nbaffairs</th>\n",
       "      <th>awm</th>\n",
       "      <th>age_cats</th>\n",
       "      <th>has_affair</th>\n",
       "    </tr>\n",
       "    <tr>\n",
       "      <th>cluster</th>\n",
       "      <th></th>\n",
       "      <th></th>\n",
       "      <th></th>\n",
       "      <th></th>\n",
       "      <th></th>\n",
       "      <th></th>\n",
       "      <th></th>\n",
       "      <th></th>\n",
       "      <th></th>\n",
       "      <th></th>\n",
       "      <th></th>\n",
       "      <th></th>\n",
       "    </tr>\n",
       "  </thead>\n",
       "  <tbody>\n",
       "    <tr>\n",
       "      <th>0</th>\n",
       "      <td>0.441176</td>\n",
       "      <td>41.411765</td>\n",
       "      <td>18.692401</td>\n",
       "      <td>0.926471</td>\n",
       "      <td>3.500000</td>\n",
       "      <td>15.514706</td>\n",
       "      <td>4.132353</td>\n",
       "      <td>3.397059</td>\n",
       "      <td>2.235294</td>\n",
       "      <td>22.719363</td>\n",
       "      <td>24.632353</td>\n",
       "      <td>0.308824</td>\n",
       "    </tr>\n",
       "    <tr>\n",
       "      <th>1</th>\n",
       "      <td>0.555556</td>\n",
       "      <td>50.222222</td>\n",
       "      <td>19.400000</td>\n",
       "      <td>0.888889</td>\n",
       "      <td>3.555556</td>\n",
       "      <td>15.955556</td>\n",
       "      <td>4.755556</td>\n",
       "      <td>3.822222</td>\n",
       "      <td>2.200000</td>\n",
       "      <td>30.822222</td>\n",
       "      <td>33.177778</td>\n",
       "      <td>0.333333</td>\n",
       "    </tr>\n",
       "    <tr>\n",
       "      <th>2</th>\n",
       "      <td>0.324561</td>\n",
       "      <td>21.649123</td>\n",
       "      <td>2.247016</td>\n",
       "      <td>0.289474</td>\n",
       "      <td>2.842105</td>\n",
       "      <td>15.043860</td>\n",
       "      <td>3.894737</td>\n",
       "      <td>4.324561</td>\n",
       "      <td>0.710526</td>\n",
       "      <td>19.402107</td>\n",
       "      <td>20.464912</td>\n",
       "      <td>0.157895</td>\n",
       "    </tr>\n",
       "    <tr>\n",
       "      <th>3</th>\n",
       "      <td>0.666667</td>\n",
       "      <td>78.111111</td>\n",
       "      <td>19.666667</td>\n",
       "      <td>0.888889</td>\n",
       "      <td>3.444444</td>\n",
       "      <td>16.000000</td>\n",
       "      <td>5.000000</td>\n",
       "      <td>3.333333</td>\n",
       "      <td>0.000000</td>\n",
       "      <td>58.444444</td>\n",
       "      <td>53.888889</td>\n",
       "      <td>0.000000</td>\n",
       "    </tr>\n",
       "    <tr>\n",
       "      <th>4</th>\n",
       "      <td>0.166667</td>\n",
       "      <td>28.023810</td>\n",
       "      <td>7.391861</td>\n",
       "      <td>0.857143</td>\n",
       "      <td>3.226190</td>\n",
       "      <td>14.428571</td>\n",
       "      <td>2.000000</td>\n",
       "      <td>3.880952</td>\n",
       "      <td>1.190476</td>\n",
       "      <td>20.631949</td>\n",
       "      <td>21.619048</td>\n",
       "      <td>0.238095</td>\n",
       "    </tr>\n",
       "    <tr>\n",
       "      <th>5</th>\n",
       "      <td>0.594203</td>\n",
       "      <td>32.565217</td>\n",
       "      <td>9.869565</td>\n",
       "      <td>0.797101</td>\n",
       "      <td>3.115942</td>\n",
       "      <td>17.811594</td>\n",
       "      <td>5.318841</td>\n",
       "      <td>3.855072</td>\n",
       "      <td>2.130435</td>\n",
       "      <td>22.695652</td>\n",
       "      <td>24.072464</td>\n",
       "      <td>0.318841</td>\n",
       "    </tr>\n",
       "    <tr>\n",
       "      <th>6</th>\n",
       "      <td>0.836364</td>\n",
       "      <td>37.290909</td>\n",
       "      <td>15.745455</td>\n",
       "      <td>0.909091</td>\n",
       "      <td>3.163636</td>\n",
       "      <td>19.090909</td>\n",
       "      <td>5.672727</td>\n",
       "      <td>3.781818</td>\n",
       "      <td>2.254545</td>\n",
       "      <td>21.545455</td>\n",
       "      <td>22.945455</td>\n",
       "      <td>0.309091</td>\n",
       "    </tr>\n",
       "    <tr>\n",
       "      <th>7</th>\n",
       "      <td>0.604167</td>\n",
       "      <td>26.645833</td>\n",
       "      <td>3.892342</td>\n",
       "      <td>0.520833</td>\n",
       "      <td>2.697917</td>\n",
       "      <td>17.437500</td>\n",
       "      <td>5.031250</td>\n",
       "      <td>4.145833</td>\n",
       "      <td>1.062500</td>\n",
       "      <td>22.753492</td>\n",
       "      <td>23.520833</td>\n",
       "      <td>0.229167</td>\n",
       "    </tr>\n",
       "    <tr>\n",
       "      <th>8</th>\n",
       "      <td>1.000000</td>\n",
       "      <td>64.666667</td>\n",
       "      <td>17.777778</td>\n",
       "      <td>1.000000</td>\n",
       "      <td>3.666667</td>\n",
       "      <td>18.000000</td>\n",
       "      <td>5.222222</td>\n",
       "      <td>4.000000</td>\n",
       "      <td>0.222222</td>\n",
       "      <td>46.888889</td>\n",
       "      <td>48.333333</td>\n",
       "      <td>0.111111</td>\n",
       "    </tr>\n",
       "    <tr>\n",
       "      <th>9</th>\n",
       "      <td>0.384615</td>\n",
       "      <td>33.461538</td>\n",
       "      <td>14.628200</td>\n",
       "      <td>0.961538</td>\n",
       "      <td>3.230769</td>\n",
       "      <td>14.557692</td>\n",
       "      <td>3.076923</td>\n",
       "      <td>3.903846</td>\n",
       "      <td>1.307692</td>\n",
       "      <td>18.833338</td>\n",
       "      <td>20.365385</td>\n",
       "      <td>0.269231</td>\n",
       "    </tr>\n",
       "  </tbody>\n",
       "</table>\n",
       "</div>"
      ],
      "text/plain": [
       "              sex        age         ym     child  religious  education  \\\n",
       "cluster                                                                   \n",
       "0        0.441176  41.411765  18.692401  0.926471   3.500000  15.514706   \n",
       "1        0.555556  50.222222  19.400000  0.888889   3.555556  15.955556   \n",
       "2        0.324561  21.649123   2.247016  0.289474   2.842105  15.043860   \n",
       "3        0.666667  78.111111  19.666667  0.888889   3.444444  16.000000   \n",
       "4        0.166667  28.023810   7.391861  0.857143   3.226190  14.428571   \n",
       "5        0.594203  32.565217   9.869565  0.797101   3.115942  17.811594   \n",
       "6        0.836364  37.290909  15.745455  0.909091   3.163636  19.090909   \n",
       "7        0.604167  26.645833   3.892342  0.520833   2.697917  17.437500   \n",
       "8        1.000000  64.666667  17.777778  1.000000   3.666667  18.000000   \n",
       "9        0.384615  33.461538  14.628200  0.961538   3.230769  14.557692   \n",
       "\n",
       "         occupation      rate  nbaffairs        awm   age_cats  has_affair  \n",
       "cluster                                                                     \n",
       "0          4.132353  3.397059   2.235294  22.719363  24.632353    0.308824  \n",
       "1          4.755556  3.822222   2.200000  30.822222  33.177778    0.333333  \n",
       "2          3.894737  4.324561   0.710526  19.402107  20.464912    0.157895  \n",
       "3          5.000000  3.333333   0.000000  58.444444  53.888889    0.000000  \n",
       "4          2.000000  3.880952   1.190476  20.631949  21.619048    0.238095  \n",
       "5          5.318841  3.855072   2.130435  22.695652  24.072464    0.318841  \n",
       "6          5.672727  3.781818   2.254545  21.545455  22.945455    0.309091  \n",
       "7          5.031250  4.145833   1.062500  22.753492  23.520833    0.229167  \n",
       "8          5.222222  4.000000   0.222222  46.888889  48.333333    0.111111  \n",
       "9          3.076923  3.903846   1.307692  18.833338  20.365385    0.269231  "
      ]
     },
     "execution_count": 29,
     "metadata": {},
     "output_type": "execute_result"
    }
   ],
   "source": [
    "from sklearn.cluster import AgglomerativeClustering\n",
    "\n",
    "clusters = AgglomerativeClustering(n_clusters=10)\n",
    "arr = clusters.fit_predict(data[['age', 'child', 'education', 'occupation', 'sex']])\n",
    "\n",
    "data['cluster'] = arr\n",
    "\n",
    "data.sort_values('cluster')\n",
    "\n",
    "data.groupby('cluster').mean()"
   ]
  },
  {
   "cell_type": "code",
   "execution_count": 31,
   "metadata": {},
   "outputs": [
    {
     "data": {
      "image/png": "[encoded data removed]",
      "text/plain": [
       "<matplotlib.figure.Figure at 0x7f92888b2f28>"
      ]
     },
     "metadata": {},
     "output_type": "display_data"
    }
   ],
   "source": [
    "_ = plt.hist(data['cluster'], 10)"
   ]
  },
  {
   "cell_type": "markdown",
   "metadata": {},
   "source": [
    "## Conclusion\n",
    "\n",
    "I have tried to find the likelihood of a person to have an extramarital affair taking into accounts different features. After trying out all techniques learned in class, my conclusion is that ..."
   ]
  }
 ],
 "metadata": {
  "kernelspec": {
   "display_name": "Python 3",
   "language": "python",
   "name": "python3"
  },
  "language_info": {
   "codemirror_mode": {
    "name": "ipython",
    "version": 3
   },
   "file_extension": ".py",
   "mimetype": "text/x-python",
   "name": "python",
   "nbconvert_exporter": "python",
   "pygments_lexer": "ipython3",
   "version": "3.5.3"
  }
 },
 "nbformat": 4,
 "nbformat_minor": 2
}
