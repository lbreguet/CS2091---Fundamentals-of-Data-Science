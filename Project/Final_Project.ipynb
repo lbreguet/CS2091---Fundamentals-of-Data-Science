{
 "cells": [
  {
   "cell_type": "markdown",
   "metadata": {},
   "source": [
    "# Finding The Likelihood Someone Procrastinates\n",
    "\n",
    "- Louis Breguet\n",
    "- a100046\n",
    "- CS2091\n",
    "...\n",
    "\n",
    "\n",
    "For this project, I was interested in looking at the probability someone will procrastinate and what the main cause of it is. I looked at 10 different attributes and selected 1 target variable from those attributes. \n",
    "\n",
    "* A `Gender` factor.\n",
    "* An `Age` variable that just takes an age group.\n",
    "* A social media variable that takes a range of hours.\n",
    "* An online shopping factor; do the subjects fully use technology to get up and move around?\n",
    "* A gaming system variable because I want to know if anyone in the sample plays video games.\n",
    "* From the above attribute, I want to see the frequency of playing video games.\n",
    "* Of course, everyone watches movies and tv shows, so there's an attribute for that.\n",
    "* A phone calls attribute. How long do their phone calls typically last?\n",
    "* A work variable to see if the subjects are productive.\n",
    "* A hanging out variable showing the frequency of subjects going out and being with people in a social setting.\n",
    "\n",
    "The target variable - `Work` - are productive."
   ]
  },
  {
   "cell_type": "code",
   "execution_count": 1084,
   "metadata": {},
   "outputs": [
    {
     "data": {
      "text/html": [
       "<div>\n",
       "<style>\n",
       "    .dataframe thead tr:only-child th {\n",
       "        text-align: right;\n",
       "    }\n",
       "\n",
       "    .dataframe thead th {\n",
       "        text-align: left;\n",
       "    }\n",
       "\n",
       "    .dataframe tbody tr th {\n",
       "        vertical-align: top;\n",
       "    }\n",
       "</style>\n",
       "<table border=\"1\" class=\"dataframe\">\n",
       "  <thead>\n",
       "    <tr style=\"text-align: right;\">\n",
       "      <th></th>\n",
       "      <th>Gender</th>\n",
       "      <th>Age</th>\n",
       "      <th>Social Media</th>\n",
       "      <th>Online Shopping</th>\n",
       "      <th>Gaming System</th>\n",
       "      <th>Gaming Frequency</th>\n",
       "      <th>TV Shows/Movies</th>\n",
       "      <th>Phone Calls</th>\n",
       "      <th>Work</th>\n",
       "      <th>Hanging Out</th>\n",
       "    </tr>\n",
       "  </thead>\n",
       "  <tbody>\n",
       "    <tr>\n",
       "      <th>0</th>\n",
       "      <td>Female</td>\n",
       "      <td>18 to 21</td>\n",
       "      <td>&gt; 3 hours a day</td>\n",
       "      <td>&lt; 1 hour a week</td>\n",
       "      <td>Yes</td>\n",
       "      <td>&gt; 3 hours a week</td>\n",
       "      <td>&gt; 3 hours a week</td>\n",
       "      <td>&gt; 1 minute</td>\n",
       "      <td>&gt; 1 hour</td>\n",
       "      <td>3</td>\n",
       "    </tr>\n",
       "    <tr>\n",
       "      <th>1</th>\n",
       "      <td>Female</td>\n",
       "      <td>18 to 21</td>\n",
       "      <td>&gt; 1 hour a day</td>\n",
       "      <td>&lt; 1 hour a week</td>\n",
       "      <td>Yes</td>\n",
       "      <td>&lt; 1 hour a week</td>\n",
       "      <td>&gt; 3 hours a week</td>\n",
       "      <td>&gt; 3 minutes</td>\n",
       "      <td>&gt; 6 hours</td>\n",
       "      <td>2</td>\n",
       "    </tr>\n",
       "    <tr>\n",
       "      <th>2</th>\n",
       "      <td>Female</td>\n",
       "      <td>18 to 21</td>\n",
       "      <td>&gt; 3 hours a day</td>\n",
       "      <td>&gt; 1 hour a week</td>\n",
       "      <td>No</td>\n",
       "      <td>NaN</td>\n",
       "      <td>&gt; 6 hours a week</td>\n",
       "      <td>&gt; 3 minutes</td>\n",
       "      <td>&gt; 3 hours</td>\n",
       "      <td>2</td>\n",
       "    </tr>\n",
       "    <tr>\n",
       "      <th>3</th>\n",
       "      <td>Female</td>\n",
       "      <td>18 to 21</td>\n",
       "      <td>&gt; 1 hour a day</td>\n",
       "      <td>&lt; 1 hour a week</td>\n",
       "      <td>No</td>\n",
       "      <td>NaN</td>\n",
       "      <td>&gt; 6 hours a week</td>\n",
       "      <td>&gt; 10 minutes</td>\n",
       "      <td>&gt; 3 hours</td>\n",
       "      <td>1</td>\n",
       "    </tr>\n",
       "    <tr>\n",
       "      <th>4</th>\n",
       "      <td>Other</td>\n",
       "      <td>18 to 21</td>\n",
       "      <td>&gt; 5 hours a day</td>\n",
       "      <td>&lt; 1 hour a week</td>\n",
       "      <td>Yes</td>\n",
       "      <td>&lt; 1 hour a week</td>\n",
       "      <td>&gt; 20 hours a week</td>\n",
       "      <td>&gt; 10 minutes</td>\n",
       "      <td>&lt; 1 hour</td>\n",
       "      <td>2</td>\n",
       "    </tr>\n",
       "    <tr>\n",
       "      <th>5</th>\n",
       "      <td>Male</td>\n",
       "      <td>22 to 27</td>\n",
       "      <td>&gt; 3 hours a day</td>\n",
       "      <td>&lt; 1 hour a week</td>\n",
       "      <td>No</td>\n",
       "      <td>NaN</td>\n",
       "      <td>&lt; 1 hour a week</td>\n",
       "      <td>&gt; 3 minutes</td>\n",
       "      <td>&gt; 3 hours</td>\n",
       "      <td>2</td>\n",
       "    </tr>\n",
       "    <tr>\n",
       "      <th>6</th>\n",
       "      <td>Male</td>\n",
       "      <td>&lt; 18</td>\n",
       "      <td>&gt; 3 hours a day</td>\n",
       "      <td>&lt; 1 hour a week</td>\n",
       "      <td>Yes</td>\n",
       "      <td>&gt; 10 hours a week</td>\n",
       "      <td>&gt; 10 hours a week</td>\n",
       "      <td>&lt; 1 minute</td>\n",
       "      <td>&gt; 10 hours</td>\n",
       "      <td>2</td>\n",
       "    </tr>\n",
       "    <tr>\n",
       "      <th>7</th>\n",
       "      <td>Female</td>\n",
       "      <td>22 to 27</td>\n",
       "      <td>&gt; 3 hours a day</td>\n",
       "      <td>&lt; 1 hour a week</td>\n",
       "      <td>Yes</td>\n",
       "      <td>&gt; 1 hour a week</td>\n",
       "      <td>&gt; 3 hours a week</td>\n",
       "      <td>&gt; 30 minutes</td>\n",
       "      <td>&gt; 1 hour</td>\n",
       "      <td>1</td>\n",
       "    </tr>\n",
       "    <tr>\n",
       "      <th>8</th>\n",
       "      <td>Female</td>\n",
       "      <td>41 to 60</td>\n",
       "      <td>&gt; 1 hour a day</td>\n",
       "      <td>&lt; 1 hour a week</td>\n",
       "      <td>Yes</td>\n",
       "      <td>NaN</td>\n",
       "      <td>&gt; 1 hour a week</td>\n",
       "      <td>&gt; 3 minutes</td>\n",
       "      <td>&gt; 10 hours</td>\n",
       "      <td>3</td>\n",
       "    </tr>\n",
       "    <tr>\n",
       "      <th>9</th>\n",
       "      <td>Female</td>\n",
       "      <td>18 to 21</td>\n",
       "      <td>&gt; 1 hour a day</td>\n",
       "      <td>&gt; 1 hour a week</td>\n",
       "      <td>No</td>\n",
       "      <td>NaN</td>\n",
       "      <td>&gt; 6 hours a week</td>\n",
       "      <td>&gt; 3 minutes</td>\n",
       "      <td>&gt; 1 hour</td>\n",
       "      <td>3</td>\n",
       "    </tr>\n",
       "  </tbody>\n",
       "</table>\n",
       "</div>"
      ],
      "text/plain": [
       "   Gender       Age     Social Media  Online Shopping Gaming System  \\\n",
       "0  Female  18 to 21  > 3 hours a day  < 1 hour a week           Yes   \n",
       "1  Female  18 to 21   > 1 hour a day  < 1 hour a week           Yes   \n",
       "2  Female  18 to 21  > 3 hours a day  > 1 hour a week            No   \n",
       "3  Female  18 to 21   > 1 hour a day  < 1 hour a week            No   \n",
       "4   Other  18 to 21  > 5 hours a day  < 1 hour a week           Yes   \n",
       "5    Male  22 to 27  > 3 hours a day  < 1 hour a week            No   \n",
       "6    Male      < 18  > 3 hours a day  < 1 hour a week           Yes   \n",
       "7  Female  22 to 27  > 3 hours a day  < 1 hour a week           Yes   \n",
       "8  Female  41 to 60   > 1 hour a day  < 1 hour a week           Yes   \n",
       "9  Female  18 to 21   > 1 hour a day  > 1 hour a week            No   \n",
       "\n",
       "    Gaming Frequency    TV Shows/Movies   Phone Calls        Work  Hanging Out  \n",
       "0   > 3 hours a week   > 3 hours a week    > 1 minute    > 1 hour            3  \n",
       "1    < 1 hour a week   > 3 hours a week   > 3 minutes   > 6 hours            2  \n",
       "2                NaN   > 6 hours a week   > 3 minutes   > 3 hours            2  \n",
       "3                NaN   > 6 hours a week  > 10 minutes   > 3 hours            1  \n",
       "4    < 1 hour a week  > 20 hours a week  > 10 minutes    < 1 hour            2  \n",
       "5                NaN    < 1 hour a week   > 3 minutes   > 3 hours            2  \n",
       "6  > 10 hours a week  > 10 hours a week    < 1 minute  > 10 hours            2  \n",
       "7    > 1 hour a week   > 3 hours a week  > 30 minutes    > 1 hour            1  \n",
       "8                NaN    > 1 hour a week   > 3 minutes  > 10 hours            3  \n",
       "9                NaN   > 6 hours a week   > 3 minutes    > 1 hour            3  "
      ]
     },
     "execution_count": 1084,
     "metadata": {},
     "output_type": "execute_result"
    }
   ],
   "source": [
    "import pandas as pd\n",
    "\n",
    "data = pd.read_csv('Probability of Procrastination.csv')\n",
    "\n",
    "data.head(10)"
   ]
  },
  {
   "cell_type": "markdown",
   "metadata": {},
   "source": [
    "Because a lot of this data are strings, I needed to clean the data and change the values to represent a specific age group. I used the median of the range to decide the value. I then changed the numeric value of the string to an integer to better handle the data. Here are the steps I took to achieve this:"
   ]
  },
  {
   "cell_type": "code",
   "execution_count": 1085,
   "metadata": {
    "collapsed": true
   },
   "outputs": [],
   "source": [
    "data['Gender'] = data['Gender'].astype('category').cat.codes\n",
    "\n",
    "data['ageSimp'] = data.apply(lambda x: \"17\" if x['Age'] == \"< 18\"\n",
    "         else \"20\" if x['Age'] == \"18 to 21\"\n",
    "         else \"25\" if x['Age'] == \"22 to 27\"\n",
    "         else \"34\" if x['Age'] == \"28 to 40\"\n",
    "         else \"50\", axis = 1)\n",
    "data['Age'] = data['ageSimp'].astype(\"int\")\n",
    "\n",
    "data['smSimp'] = data.apply(lambda x: \"1\" if x['Social Media'] == \"< 1 hour a day\"\n",
    "         else \"2\" if x['Social Media'] == \"> 1 hour a day\"\n",
    "         else \"4\" if x['Social Media'] == \"> 3 hours a day\"\n",
    "         else \"6\", axis = 1)\n",
    "data['Social Media'] = data['smSimp'].astype('int')\n",
    "\n",
    "\n",
    "data['osSimp'] = data.apply(lambda x: \"1\" if x['Online Shopping'] == \"< 1 hour a week\"\n",
    "         else \"2\" if x['Online Shopping'] == \"> 1 hour a week\"\n",
    "         else \"4\" if x['Online Shopping'] == \"> 3 hours a week\"\n",
    "         else \"6\", axis = 1)\n",
    "data['Online Shopping'] = data['osSimp'].astype('int')\n",
    "\n",
    "data['Gaming System'] = data['Gaming System'].astype('category').cat.codes\n",
    "\n",
    "data['gfSimp'] = data.apply(lambda x: \"1\" if x['Gaming Frequency'] == \"< 1 hour a week\"\n",
    "         else \"2\" if x['Gaming Frequency'] == \"> 1 hour a week\"\n",
    "         else \"4\" if x['Gaming Frequency'] == \"> 3 hours a week\"\n",
    "         else \"7\" if x['Gaming Frequency'] == \"> 5 hours a week\"\n",
    "         else \"15\" if x['Gaming Frequency'] == \"> 10 hours a week\"\n",
    "         else \"24\" if x['Gaming Frequency'] == \"> 20 hours a week\"\n",
    "         else \"0\", axis = 1)\n",
    "data['Gaming Frequency'] = data['gfSimp'].astype('int')\n",
    "\n",
    "data['tvmSimp'] = data.apply(lambda x: \"1\" if x['TV Shows/Movies'] == \"< 1 hour a week\"\n",
    "         else \"2\" if x['TV Shows/Movies'] == \"> 1 hour a week\"\n",
    "         else \"4\" if x['TV Shows/Movies'] == \"> 3 hours a week\"\n",
    "         else \"7\" if x['TV Shows/Movies'] == \"> 5 hours a week\"\n",
    "         else \"15\" if x['TV Shows/Movies'] == \"> 10 hours a week\"\n",
    "         else \"24\" if x['TV Shows/Movies'] == \"> 20 hours a week\"\n",
    "         else \"48\", axis = 1)\n",
    "data['TV Shows/Movies'] = data['tvmSimp'].astype('int')\n",
    "\n",
    "data['pcSimp'] = data.apply(lambda x: \"1\" if x['Phone Calls'] == \"< 1 minutes\"\n",
    "         else \"2\" if x['Phone Calls'] == \"> 1 minute\"\n",
    "         else \"7\" if x['Phone Calls'] == \"> 3 minutes\"\n",
    "         else \"20\" if x['Phone Calls'] == \"> 10 minutes\"\n",
    "         else \"45\" if x['Phone Calls'] == \"> 30 minutes\"\n",
    "         else \"90\", axis = 1)\n",
    "data['Phone Calls'] = data['pcSimp'].astype('int')\n",
    "\n",
    "data['wSimp'] = data.apply(lambda x: \"0\" if x['Work'] == \"< 1 hour\"\n",
    "         else \"2\" if x['Work'] == \"> 1 hour\"\n",
    "         else \"4\" if x['Work'] == \"> 3 hours\"\n",
    "         else \"8\" if x['Work'] == \"> 6 hours\"\n",
    "         else \"12\" if x['Work'] == \"> 10 hours\"\n",
    "         else \"0\", axis = 1)\n",
    "data['Work'] = data['wSimp'].astype('int')\n",
    "\n",
    "\n",
    "data['Hanging Out'] = data['Hanging Out'].astype('int')"
   ]
  },
  {
   "cell_type": "markdown",
   "metadata": {},
   "source": [
    "Because I added a few new columns to the data frame, I needed to remove them to properly analyze the data."
   ]
  },
  {
   "cell_type": "code",
   "execution_count": 1086,
   "metadata": {},
   "outputs": [
    {
     "data": {
      "text/html": [
       "<div>\n",
       "<style>\n",
       "    .dataframe thead tr:only-child th {\n",
       "        text-align: right;\n",
       "    }\n",
       "\n",
       "    .dataframe thead th {\n",
       "        text-align: left;\n",
       "    }\n",
       "\n",
       "    .dataframe tbody tr th {\n",
       "        vertical-align: top;\n",
       "    }\n",
       "</style>\n",
       "<table border=\"1\" class=\"dataframe\">\n",
       "  <thead>\n",
       "    <tr style=\"text-align: right;\">\n",
       "      <th></th>\n",
       "      <th>Gender</th>\n",
       "      <th>Age</th>\n",
       "      <th>Social Media</th>\n",
       "      <th>Online Shopping</th>\n",
       "      <th>Gaming System</th>\n",
       "      <th>Gaming Frequency</th>\n",
       "      <th>TV Shows/Movies</th>\n",
       "      <th>Phone Calls</th>\n",
       "      <th>Work</th>\n",
       "      <th>Hanging Out</th>\n",
       "    </tr>\n",
       "  </thead>\n",
       "  <tbody>\n",
       "    <tr>\n",
       "      <th>0</th>\n",
       "      <td>0</td>\n",
       "      <td>20</td>\n",
       "      <td>4</td>\n",
       "      <td>1</td>\n",
       "      <td>1</td>\n",
       "      <td>4</td>\n",
       "      <td>4</td>\n",
       "      <td>2</td>\n",
       "      <td>2</td>\n",
       "      <td>3</td>\n",
       "    </tr>\n",
       "    <tr>\n",
       "      <th>1</th>\n",
       "      <td>0</td>\n",
       "      <td>20</td>\n",
       "      <td>2</td>\n",
       "      <td>1</td>\n",
       "      <td>1</td>\n",
       "      <td>1</td>\n",
       "      <td>4</td>\n",
       "      <td>7</td>\n",
       "      <td>8</td>\n",
       "      <td>2</td>\n",
       "    </tr>\n",
       "    <tr>\n",
       "      <th>2</th>\n",
       "      <td>0</td>\n",
       "      <td>20</td>\n",
       "      <td>4</td>\n",
       "      <td>2</td>\n",
       "      <td>0</td>\n",
       "      <td>0</td>\n",
       "      <td>48</td>\n",
       "      <td>7</td>\n",
       "      <td>4</td>\n",
       "      <td>2</td>\n",
       "    </tr>\n",
       "    <tr>\n",
       "      <th>3</th>\n",
       "      <td>0</td>\n",
       "      <td>20</td>\n",
       "      <td>2</td>\n",
       "      <td>1</td>\n",
       "      <td>0</td>\n",
       "      <td>0</td>\n",
       "      <td>48</td>\n",
       "      <td>20</td>\n",
       "      <td>4</td>\n",
       "      <td>1</td>\n",
       "    </tr>\n",
       "    <tr>\n",
       "      <th>4</th>\n",
       "      <td>2</td>\n",
       "      <td>20</td>\n",
       "      <td>6</td>\n",
       "      <td>1</td>\n",
       "      <td>1</td>\n",
       "      <td>1</td>\n",
       "      <td>24</td>\n",
       "      <td>20</td>\n",
       "      <td>0</td>\n",
       "      <td>2</td>\n",
       "    </tr>\n",
       "    <tr>\n",
       "      <th>5</th>\n",
       "      <td>1</td>\n",
       "      <td>25</td>\n",
       "      <td>4</td>\n",
       "      <td>1</td>\n",
       "      <td>0</td>\n",
       "      <td>0</td>\n",
       "      <td>1</td>\n",
       "      <td>7</td>\n",
       "      <td>4</td>\n",
       "      <td>2</td>\n",
       "    </tr>\n",
       "    <tr>\n",
       "      <th>6</th>\n",
       "      <td>1</td>\n",
       "      <td>17</td>\n",
       "      <td>4</td>\n",
       "      <td>1</td>\n",
       "      <td>1</td>\n",
       "      <td>15</td>\n",
       "      <td>15</td>\n",
       "      <td>90</td>\n",
       "      <td>12</td>\n",
       "      <td>2</td>\n",
       "    </tr>\n",
       "    <tr>\n",
       "      <th>7</th>\n",
       "      <td>0</td>\n",
       "      <td>25</td>\n",
       "      <td>4</td>\n",
       "      <td>1</td>\n",
       "      <td>1</td>\n",
       "      <td>2</td>\n",
       "      <td>4</td>\n",
       "      <td>45</td>\n",
       "      <td>2</td>\n",
       "      <td>1</td>\n",
       "    </tr>\n",
       "    <tr>\n",
       "      <th>8</th>\n",
       "      <td>0</td>\n",
       "      <td>50</td>\n",
       "      <td>2</td>\n",
       "      <td>1</td>\n",
       "      <td>1</td>\n",
       "      <td>0</td>\n",
       "      <td>2</td>\n",
       "      <td>7</td>\n",
       "      <td>12</td>\n",
       "      <td>3</td>\n",
       "    </tr>\n",
       "    <tr>\n",
       "      <th>9</th>\n",
       "      <td>0</td>\n",
       "      <td>20</td>\n",
       "      <td>2</td>\n",
       "      <td>2</td>\n",
       "      <td>0</td>\n",
       "      <td>0</td>\n",
       "      <td>48</td>\n",
       "      <td>7</td>\n",
       "      <td>2</td>\n",
       "      <td>3</td>\n",
       "    </tr>\n",
       "  </tbody>\n",
       "</table>\n",
       "</div>"
      ],
      "text/plain": [
       "   Gender  Age  Social Media  Online Shopping  Gaming System  \\\n",
       "0       0   20             4                1              1   \n",
       "1       0   20             2                1              1   \n",
       "2       0   20             4                2              0   \n",
       "3       0   20             2                1              0   \n",
       "4       2   20             6                1              1   \n",
       "5       1   25             4                1              0   \n",
       "6       1   17             4                1              1   \n",
       "7       0   25             4                1              1   \n",
       "8       0   50             2                1              1   \n",
       "9       0   20             2                2              0   \n",
       "\n",
       "   Gaming Frequency  TV Shows/Movies  Phone Calls  Work  Hanging Out  \n",
       "0                 4                4            2     2            3  \n",
       "1                 1                4            7     8            2  \n",
       "2                 0               48            7     4            2  \n",
       "3                 0               48           20     4            1  \n",
       "4                 1               24           20     0            2  \n",
       "5                 0                1            7     4            2  \n",
       "6                15               15           90    12            2  \n",
       "7                 2                4           45     2            1  \n",
       "8                 0                2            7    12            3  \n",
       "9                 0               48            7     2            3  "
      ]
     },
     "execution_count": 1086,
     "metadata": {},
     "output_type": "execute_result"
    }
   ],
   "source": [
    "data = data.loc[:, data.columns != 'ageSimp']\n",
    "data = data.loc[:, data.columns != 'smSimp']\n",
    "data = data.loc[:, data.columns != 'osSimp']\n",
    "data = data.loc[:, data.columns != 'gfSimp']\n",
    "data = data.loc[:, data.columns != 'tvmSimp']\n",
    "data = data.loc[:, data.columns != 'pcSimp']\n",
    "data = data.loc[:, data.columns != 'wSimp']\n",
    "\n",
    "data.head(10)"
   ]
  },
  {
   "cell_type": "markdown",
   "metadata": {},
   "source": [
    "## Data Exploration\n",
    "\n",
    "Now I wanted to look at each attribute in detail. We have the total number of the sample and the descriptive values."
   ]
  },
  {
   "cell_type": "code",
   "execution_count": 1087,
   "metadata": {
    "scrolled": true
   },
   "outputs": [
    {
     "data": {
      "text/html": [
       "<div>\n",
       "<style>\n",
       "    .dataframe thead tr:only-child th {\n",
       "        text-align: right;\n",
       "    }\n",
       "\n",
       "    .dataframe thead th {\n",
       "        text-align: left;\n",
       "    }\n",
       "\n",
       "    .dataframe tbody tr th {\n",
       "        vertical-align: top;\n",
       "    }\n",
       "</style>\n",
       "<table border=\"1\" class=\"dataframe\">\n",
       "  <thead>\n",
       "    <tr style=\"text-align: right;\">\n",
       "      <th></th>\n",
       "      <th>Gender</th>\n",
       "      <th>Age</th>\n",
       "      <th>Social Media</th>\n",
       "      <th>Online Shopping</th>\n",
       "      <th>Gaming System</th>\n",
       "      <th>Gaming Frequency</th>\n",
       "      <th>TV Shows/Movies</th>\n",
       "      <th>Phone Calls</th>\n",
       "      <th>Work</th>\n",
       "      <th>Hanging Out</th>\n",
       "    </tr>\n",
       "  </thead>\n",
       "  <tbody>\n",
       "    <tr>\n",
       "      <th>count</th>\n",
       "      <td>46.000000</td>\n",
       "      <td>46.000000</td>\n",
       "      <td>46.000000</td>\n",
       "      <td>46.000000</td>\n",
       "      <td>46.000000</td>\n",
       "      <td>46.000000</td>\n",
       "      <td>46.000000</td>\n",
       "      <td>46.000000</td>\n",
       "      <td>46.000000</td>\n",
       "      <td>46.000000</td>\n",
       "    </tr>\n",
       "    <tr>\n",
       "      <th>mean</th>\n",
       "      <td>0.543478</td>\n",
       "      <td>24.847826</td>\n",
       "      <td>3.000000</td>\n",
       "      <td>1.630435</td>\n",
       "      <td>0.478261</td>\n",
       "      <td>2.913043</td>\n",
       "      <td>17.608696</td>\n",
       "      <td>27.717391</td>\n",
       "      <td>5.130435</td>\n",
       "      <td>3.065217</td>\n",
       "    </tr>\n",
       "    <tr>\n",
       "      <th>std</th>\n",
       "      <td>0.622058</td>\n",
       "      <td>8.798907</td>\n",
       "      <td>1.460593</td>\n",
       "      <td>1.288560</td>\n",
       "      <td>0.505047</td>\n",
       "      <td>6.235476</td>\n",
       "      <td>18.596867</td>\n",
       "      <td>32.237082</td>\n",
       "      <td>3.569056</td>\n",
       "      <td>1.936803</td>\n",
       "    </tr>\n",
       "    <tr>\n",
       "      <th>min</th>\n",
       "      <td>0.000000</td>\n",
       "      <td>17.000000</td>\n",
       "      <td>1.000000</td>\n",
       "      <td>1.000000</td>\n",
       "      <td>0.000000</td>\n",
       "      <td>0.000000</td>\n",
       "      <td>1.000000</td>\n",
       "      <td>2.000000</td>\n",
       "      <td>0.000000</td>\n",
       "      <td>0.000000</td>\n",
       "    </tr>\n",
       "    <tr>\n",
       "      <th>25%</th>\n",
       "      <td>0.000000</td>\n",
       "      <td>20.000000</td>\n",
       "      <td>2.000000</td>\n",
       "      <td>1.000000</td>\n",
       "      <td>0.000000</td>\n",
       "      <td>0.000000</td>\n",
       "      <td>4.000000</td>\n",
       "      <td>7.000000</td>\n",
       "      <td>2.500000</td>\n",
       "      <td>2.000000</td>\n",
       "    </tr>\n",
       "    <tr>\n",
       "      <th>50%</th>\n",
       "      <td>0.000000</td>\n",
       "      <td>20.000000</td>\n",
       "      <td>2.000000</td>\n",
       "      <td>1.000000</td>\n",
       "      <td>0.000000</td>\n",
       "      <td>0.500000</td>\n",
       "      <td>4.000000</td>\n",
       "      <td>7.000000</td>\n",
       "      <td>4.000000</td>\n",
       "      <td>3.000000</td>\n",
       "    </tr>\n",
       "    <tr>\n",
       "      <th>75%</th>\n",
       "      <td>1.000000</td>\n",
       "      <td>25.000000</td>\n",
       "      <td>4.000000</td>\n",
       "      <td>2.000000</td>\n",
       "      <td>1.000000</td>\n",
       "      <td>2.000000</td>\n",
       "      <td>24.000000</td>\n",
       "      <td>45.000000</td>\n",
       "      <td>8.000000</td>\n",
       "      <td>4.000000</td>\n",
       "    </tr>\n",
       "    <tr>\n",
       "      <th>max</th>\n",
       "      <td>2.000000</td>\n",
       "      <td>50.000000</td>\n",
       "      <td>6.000000</td>\n",
       "      <td>6.000000</td>\n",
       "      <td>1.000000</td>\n",
       "      <td>24.000000</td>\n",
       "      <td>48.000000</td>\n",
       "      <td>90.000000</td>\n",
       "      <td>12.000000</td>\n",
       "      <td>10.000000</td>\n",
       "    </tr>\n",
       "  </tbody>\n",
       "</table>\n",
       "</div>"
      ],
      "text/plain": [
       "          Gender        Age  Social Media  Online Shopping  Gaming System  \\\n",
       "count  46.000000  46.000000     46.000000        46.000000      46.000000   \n",
       "mean    0.543478  24.847826      3.000000         1.630435       0.478261   \n",
       "std     0.622058   8.798907      1.460593         1.288560       0.505047   \n",
       "min     0.000000  17.000000      1.000000         1.000000       0.000000   \n",
       "25%     0.000000  20.000000      2.000000         1.000000       0.000000   \n",
       "50%     0.000000  20.000000      2.000000         1.000000       0.000000   \n",
       "75%     1.000000  25.000000      4.000000         2.000000       1.000000   \n",
       "max     2.000000  50.000000      6.000000         6.000000       1.000000   \n",
       "\n",
       "       Gaming Frequency  TV Shows/Movies  Phone Calls       Work  Hanging Out  \n",
       "count         46.000000        46.000000    46.000000  46.000000    46.000000  \n",
       "mean           2.913043        17.608696    27.717391   5.130435     3.065217  \n",
       "std            6.235476        18.596867    32.237082   3.569056     1.936803  \n",
       "min            0.000000         1.000000     2.000000   0.000000     0.000000  \n",
       "25%            0.000000         4.000000     7.000000   2.500000     2.000000  \n",
       "50%            0.500000         4.000000     7.000000   4.000000     3.000000  \n",
       "75%            2.000000        24.000000    45.000000   8.000000     4.000000  \n",
       "max           24.000000        48.000000    90.000000  12.000000    10.000000  "
      ]
     },
     "execution_count": 1087,
     "metadata": {},
     "output_type": "execute_result"
    }
   ],
   "source": [
    "data.describe()"
   ]
  },
  {
   "cell_type": "markdown",
   "metadata": {},
   "source": [
    "In our data we can see that there is an equal number of men and women with a small number of people saying `Other`. Here is the percentage of females in the sample:"
   ]
  },
  {
   "cell_type": "code",
   "execution_count": 1088,
   "metadata": {},
   "outputs": [
    {
     "name": "stdout",
     "output_type": "stream",
     "text": [
      "0.5217391304347826\n"
     ]
    }
   ],
   "source": [
    "females = len(data[data['Gender'] == 0])\n",
    "female_dist = females / len(data)\n",
    "print(female_dist)"
   ]
  },
  {
   "cell_type": "markdown",
   "metadata": {},
   "source": [
    "The percentage of females in this survey is 52%, so it is clear that "
   ]
  },
  {
   "cell_type": "markdown",
   "metadata": {},
   "source": [
    "For the rest of the features, I need to use different graphs for better understanding the distribution."
   ]
  },
  {
   "cell_type": "code",
   "execution_count": 1089,
   "metadata": {},
   "outputs": [
    {
     "data": {
      "image/png": "[encoded data removed]",
      "text/plain": [
       "<matplotlib.figure.Figure at 0x7f0e5b638908>"
      ]
     },
     "metadata": {},
     "output_type": "display_data"
    }
   ],
   "source": [
    "import matplotlib.pyplot as plt\n",
    "%matplotlib inline\n",
    "\n",
    "_ = plt.hist(data['Age'], 5)"
   ]
  },
  {
   "cell_type": "markdown",
   "metadata": {},
   "source": [
    "We can see that most of the sample are between the ages of 17 and 21. So is it mostly the younger generation that procrastinates more? This [article](http://www.millennialmarketing.com/2009/12/the-problem-of-procrastination/) tells us that millenials have a harder time managing their time. Let's see if that's true with this sample. So first I'll make a copy of my data and add a new column to that data frame. This new column will let me know if the subject is in between the ages of 17 and 21."
   ]
  },
  {
   "cell_type": "code",
   "execution_count": 1090,
   "metadata": {},
   "outputs": [
    {
     "data": {
      "image/png": "[encoded data removed]",
      "text/plain": [
       "<matplotlib.figure.Figure at 0x7f0e5b6cfd30>"
      ]
     },
     "metadata": {},
     "output_type": "display_data"
    }
   ],
   "source": [
    "data['yr'] = data.apply(lambda x: 1 if x['Age'] < 21\n",
    "                                      else 0, axis = 1)\n",
    "\n",
    "_ = plt.hist(data['yr'], 2)"
   ]
  },
  {
   "cell_type": "code",
   "execution_count": 1091,
   "metadata": {},
   "outputs": [
    {
     "name": "stdout",
     "output_type": "stream",
     "text": [
      "25\n"
     ]
    }
   ],
   "source": [
    "print(len(data[data['yr'] == 1]))"
   ]
  },
  {
   "cell_type": "markdown",
   "metadata": {},
   "source": [
    "I'm also interested in looking at the distribution of `TV Shows/Movies` and compare it to `Ages`. Let's take a look at the histogram below:"
   ]
  },
  {
   "cell_type": "code",
   "execution_count": 1092,
   "metadata": {},
   "outputs": [
    {
     "data": {
      "image/png": "[encoded data removed]",
      "text/plain": [
       "<matplotlib.figure.Figure at 0x7f0e5bd2ae48>"
      ]
     },
     "metadata": {},
     "output_type": "display_data"
    }
   ],
   "source": [
    "_ = plt.hist(data['TV Shows/Movies'], 6)"
   ]
  },
  {
   "cell_type": "code",
   "execution_count": 1093,
   "metadata": {},
   "outputs": [
    {
     "name": "stdout",
     "output_type": "stream",
     "text": [
      "22\n"
     ]
    }
   ],
   "source": [
    "print(len(data[data['TV Shows/Movies'] > 14]))"
   ]
  },
  {
   "cell_type": "code",
   "execution_count": 1094,
   "metadata": {},
   "outputs": [
    {
     "name": "stdout",
     "output_type": "stream",
     "text": [
      "24\n"
     ]
    }
   ],
   "source": [
    "print(len(data[data['TV Shows/Movies'] < 15]))"
   ]
  },
  {
   "cell_type": "markdown",
   "metadata": {},
   "source": [
    "There's a pretty split between the two different categories I want to look. So why don't we look at a histogram that looks at the age range I chose with the segment of `TV Shows/Movies`."
   ]
  },
  {
   "cell_type": "code",
   "execution_count": 1095,
   "metadata": {},
   "outputs": [
    {
     "data": {
      "image/png": "[encoded data removed]",
      "text/plain": [
       "<matplotlib.figure.Figure at 0x7f0e5b9c3e10>"
      ]
     },
     "metadata": {},
     "output_type": "display_data"
    }
   ],
   "source": [
    "data['yrp'] = data.apply(lambda x: 1 if x['yr'] == 1 and x['TV Shows/Movies'] > 14\n",
    "                                              else 0, axis=1)\n",
    "_ = plt.hist(data['yrp'], 3)"
   ]
  },
  {
   "cell_type": "code",
   "execution_count": 1096,
   "metadata": {},
   "outputs": [
    {
     "name": "stdout",
     "output_type": "stream",
     "text": [
      "13\n"
     ]
    }
   ],
   "source": [
    "print(len(data[data['yr'] == 1]) - len(data[data['yrp'] == 1]))"
   ]
  },
  {
   "cell_type": "markdown",
   "metadata": {},
   "source": [
    "Looking at this histogram we can see that there is a pretty equal distribution of the sample. However, from our original range there are 13 people that aren't classified in my procrastination range. So being younger doesn't necessarily mean you procrastinate much."
   ]
  },
  {
   "cell_type": "markdown",
   "metadata": {},
   "source": [
    "Now I should look at older generations and add them, if needed to my procrastination range. To do this I'll create a new column for the higher age group and just go through the above steps again."
   ]
  },
  {
   "cell_type": "code",
   "execution_count": 1097,
   "metadata": {},
   "outputs": [
    {
     "data": {
      "image/png": "[encoded data removed]",
      "text/plain": [
       "<matplotlib.figure.Figure at 0x7f0e5b704a90>"
      ]
     },
     "metadata": {},
     "output_type": "display_data"
    }
   ],
   "source": [
    "data['orp'] = data.apply(lambda x: 1 if x['TV Shows/Movies'] > 14 and x['yr'] == 0\n",
    "                                   else 0, axis=1)\n",
    "_=plt.hist(data['orp'], 3)"
   ]
  },
  {
   "cell_type": "code",
   "execution_count": 1098,
   "metadata": {},
   "outputs": [
    {
     "name": "stdout",
     "output_type": "stream",
     "text": [
      "11\n"
     ]
    }
   ],
   "source": [
    "print(len(data[data['yr'] == 0]) - len(data[data['orp'] == 1]))"
   ]
  },
  {
   "cell_type": "markdown",
   "metadata": {},
   "source": [
    "So here we can see that from the older age group that 13 of them don't seem to suffer from procrastination when placed in front of a movie or a tv show. This could mean that `TV Shows/Movies` isn't the best attribute to target. "
   ]
  },
  {
   "cell_type": "markdown",
   "metadata": {},
   "source": [
    "As the last attribute wasn't what I was looking for, I'll continue to check the distributions of the other attributes."
   ]
  },
  {
   "cell_type": "markdown",
   "metadata": {},
   "source": [
    "I now check the distribution of time spent on social media. Keep in mind that these values are hours of the day."
   ]
  },
  {
   "cell_type": "code",
   "execution_count": 1099,
   "metadata": {},
   "outputs": [
    {
     "data": {
      "image/png": "[encoded data removed]",
      "text/plain": [
       "<matplotlib.figure.Figure at 0x7f0e5b22eb70>"
      ]
     },
     "metadata": {},
     "output_type": "display_data"
    }
   ],
   "source": [
    "_ = plt.hist(data['Social Media'], 6)"
   ]
  },
  {
   "cell_type": "markdown",
   "metadata": {},
   "source": [
    "It would be much more interesting to see these values as weekly ones. We'll go ahead and add a column. Then multiply the daily value by the number of days in a week."
   ]
  },
  {
   "cell_type": "code",
   "execution_count": 1100,
   "metadata": {},
   "outputs": [
    {
     "data": {
      "image/png": "[encoded data removed]",
      "text/plain": [
       "<matplotlib.figure.Figure at 0x7f0e5fcf52e8>"
      ]
     },
     "metadata": {},
     "output_type": "display_data"
    }
   ],
   "source": [
    "data['dsm'] = data.apply(lambda x: x['Social Media'] * 7, axis=1)\n",
    "\n",
    "_ = plt.hist(data['dsm'], 5)"
   ]
  },
  {
   "cell_type": "markdown",
   "metadata": {},
   "source": [
    "Now that we have the weekly data of `Social Media` usage, I want to see categorize this data between those that go on social media sometimes during the week and those that go on frequently."
   ]
  },
  {
   "cell_type": "code",
   "execution_count": 1101,
   "metadata": {},
   "outputs": [
    {
     "data": {
      "image/png": "[encoded data removed]",
      "text/plain": [
       "<matplotlib.figure.Figure at 0x7f0e5fc55b38>"
      ]
     },
     "metadata": {},
     "output_type": "display_data"
    }
   ],
   "source": [
    "data['sm_split'] = data.apply(lambda x: 1 if x['dsm'] < 25\n",
    "         else 0, axis = 1)\n",
    "\n",
    "_ = plt.hist(data['sm_split'], 3)"
   ]
  },
  {
   "cell_type": "markdown",
   "metadata": {},
   "source": [
    "Again there's an equal split between those who frequent social media websites and those who go on it sometimes. "
   ]
  },
  {
   "cell_type": "markdown",
   "metadata": {},
   "source": [
    "Let's continue plotting the distribution of my attributes. We'll now look at the distribution of if an individual owns a gaming system or not."
   ]
  },
  {
   "cell_type": "code",
   "execution_count": 1102,
   "metadata": {},
   "outputs": [
    {
     "data": {
      "image/png": "[encoded data removed]",
      "text/plain": [
       "<matplotlib.figure.Figure at 0x7f0e5b1ca978>"
      ]
     },
     "metadata": {},
     "output_type": "display_data"
    }
   ],
   "source": [
    "_ = plt.hist(data['Gaming System'], 2)"
   ]
  },
  {
   "cell_type": "markdown",
   "metadata": {},
   "source": [
    "Again, there's an equal distribution between the two groups. Continuing on, I looked at the distribution of the frequency of playing video games."
   ]
  },
  {
   "cell_type": "code",
   "execution_count": 1103,
   "metadata": {},
   "outputs": [
    {
     "data": {
      "image/png": "[encoded data removed]",
      "text/plain": [
       "<matplotlib.figure.Figure at 0x7f0e5b3ba400>"
      ]
     },
     "metadata": {},
     "output_type": "display_data"
    }
   ],
   "source": [
    "_ = plt.hist(data['Gaming Frequency'], 5)"
   ]
  },
  {
   "cell_type": "markdown",
   "metadata": {},
   "source": [
    "This shows us that even though half of the sample owns a console, they don't necessarily play it a lot. We continue our search for our target variable. We'll take a look at the distribution of the `Work` attribute."
   ]
  },
  {
   "cell_type": "code",
   "execution_count": 1104,
   "metadata": {},
   "outputs": [
    {
     "data": {
      "image/png": "[encoded data removed]",
      "text/plain": [
       "<matplotlib.figure.Figure at 0x7f0e5b3c5588>"
      ]
     },
     "metadata": {},
     "output_type": "display_data"
    }
   ],
   "source": [
    "_ = plt.hist(data['Work'], 5)"
   ]
  },
  {
   "cell_type": "markdown",
   "metadata": {},
   "source": [
    "From this histogram, we can clearly see that there are individuals in the sample that procrastinate. Instead of looking at how much they work a day, we can look at if they procrastinate or not. To do this I must create a new column and normalize the data surrounding the `Work` attribute."
   ]
  },
  {
   "cell_type": "code",
   "execution_count": 1105,
   "metadata": {},
   "outputs": [
    {
     "data": {
      "image/png": "[encoded data removed]",
      "text/plain": [
       "<matplotlib.figure.Figure at 0x7f0e5bfce240>"
      ]
     },
     "metadata": {},
     "output_type": "display_data"
    }
   ],
   "source": [
    "data['Procrastinates'] = data.apply(lambda x: 1 if x['Work'] < 6\n",
    "                                   else 0, axis=1)\n",
    "\n",
    "_ = plt.hist(data['Procrastinates'], 2)"
   ]
  },
  {
   "cell_type": "markdown",
   "metadata": {},
   "source": [
    "## Modeling\n",
    "\n",
    "Since I found a good target variable to look at, it's time to build the models. However it is necessary to add another engineering feature to improve the models. \n",
    "\n",
    "So now we have to separate the attributes from the target variable. "
   ]
  },
  {
   "cell_type": "code",
   "execution_count": 1107,
   "metadata": {
    "collapsed": true
   },
   "outputs": [],
   "source": [
    "data['SocialMedia'] = data['Social Media']\n",
    "data['tvm'] = data['TV Shows/Movies']\n",
    "data['ho'] = data['Hanging Out']\n",
    "\n",
    "#X = data.loc[:, data.columns != 'Procrastinates']\n",
    "\n",
    "#y = data['Procrastinates']"
   ]
  },
  {
   "cell_type": "code",
   "execution_count": 1108,
   "metadata": {},
   "outputs": [
    {
     "data": {
      "image/png": "[encoded data removed]",
      "text/plain": [
       "<matplotlib.figure.Figure at 0x7f0e5b07cb00>"
      ]
     },
     "metadata": {},
     "output_type": "display_data"
    }
   ],
   "source": [
    "from sklearn import linear_model\n",
    "X = data[['ho']]\n",
    "Y = data['Procrastinates']\n",
    "lm = linear_model.LinearRegression()\n",
    "lm.fit(X, Y)\n",
    "\n",
    "fig, ax = plt.subplots(1, 1) \n",
    "ax.scatter(X,Y)\n",
    "ax.plot(X,lm.predict(data.ho[:, np.newaxis]), color = 'red')\n",
    "ax.set_xlabel('Hanging Out')\n",
    "ax.set_ylabel('Procrastinates')\n",
    "plt.show()"
   ]
  },
  {
   "cell_type": "markdown",
   "metadata": {},
   "source": [
    "As we can see here, there is a positive correlation between `Hanging Out` and `Procrastinates`. The linear regression line shows that the more people go out, the more they waste time. So the people that go out the least are the most productive."
   ]
  },
  {
   "cell_type": "markdown",
   "metadata": {},
   "source": [
    "Let's now classify the data to get an accuracy score to better predict our target."
   ]
  },
  {
   "cell_type": "code",
   "execution_count": 1109,
   "metadata": {},
   "outputs": [],
   "source": [
    "data = data.loc[:, data.columns != 'Hang Out']\n",
    "data = data.loc[:, data.columns != 'Social Media']\n",
    "data = data.loc[:, data.columns != 'TV Shows/Movies']\n",
    "data = data.loc[:, data.columns != 'sm_split']\n",
    "data = data.loc[:, data.columns != 'dsm']\n",
    "data = data.loc[:, data.columns != 'yr']\n",
    "data = data.loc[:, data.columns != 'orp']\n",
    "data = data.loc[:, data.columns != 'yrp']\n",
    "X = data.loc[:, data.columns != 'Procrastinates']\n",
    "\n",
    "y = data['Procrastinates']"
   ]
  },
  {
   "cell_type": "code",
   "execution_count": 1110,
   "metadata": {},
   "outputs": [],
   "source": [
    "from sklearn.model_selection import train_test_split\n",
    "\n",
    "X_train, X_test, y_train, y_test = train_test_split(X, y, test_size=0.2)"
   ]
  },
  {
   "cell_type": "code",
   "execution_count": 1111,
   "metadata": {},
   "outputs": [
    {
     "data": {
      "image/png": "[encoded data removed]",
      "text/plain": [
       "<matplotlib.figure.Figure at 0x7f0e5af83208>"
      ]
     },
     "metadata": {},
     "output_type": "display_data"
    }
   ],
   "source": [
    "from sklearn.tree import DecisionTreeClassifier\n",
    "from sklearn.model_selection import cross_val_score\n",
    "\n",
    "rng = np.arange(1,51,10)\n",
    "acc = []\n",
    "for s in rng:\n",
    "    model = DecisionTreeClassifier(max_depth=s)\n",
    "    model.fit(X_train,y_train)\n",
    "    acc.append(accuracy_score(y_train,model.predict(X_train)))\n",
    "\n",
    "_ = plt.scatter(rng, acc, c='red')"
   ]
  },
  {
   "cell_type": "markdown",
   "metadata": {},
   "source": [
    "We can see that this model is the best suited to classify my data. All of the points are lined up and we see no correlation whatsoever. \n",
    "\n",
    "I make an attempt to get the accuracy_sore, so I create a model that can give the best result. However, I fear this won't help me because of the results from the last model."
   ]
  },
  {
   "cell_type": "code",
   "execution_count": 1112,
   "metadata": {},
   "outputs": [
    {
     "data": {
      "text/plain": [
       "<matplotlib.collections.PathCollection at 0x7f0e5acd91d0>"
      ]
     },
     "execution_count": 1112,
     "metadata": {},
     "output_type": "execute_result"
    },
    {
     "data": {
      "image/png": "[encoded data removed]",
      "text/plain": [
       "<matplotlib.figure.Figure at 0x7f0e5b87c9e8>"
      ]
     },
     "metadata": {},
     "output_type": "display_data"
    }
   ],
   "source": [
    "acc2 =[]\n",
    "for s in rng:\n",
    "    model = DecisionTreeClassifier(max_depth=s)\n",
    "    model.fit(X,y)\n",
    "    acc2.append(accuracy_score(y,model.predict(X)))\n",
    "plt.scatter(rng, acc2, c='green')"
   ]
  },
  {
   "cell_type": "markdown",
   "metadata": {},
   "source": [
    "This value is the same as all of the others from the previous model, `cross_val_score`. Again, the model isn't suited to classify the data."
   ]
  },
  {
   "cell_type": "code",
   "execution_count": 1114,
   "metadata": {},
   "outputs": [
    {
     "data": {
      "text/plain": [
       "<matplotlib.collections.PathCollection at 0x7f0e5ac43668>"
      ]
     },
     "execution_count": 1114,
     "metadata": {},
     "output_type": "execute_result"
    },
    {
     "data": {
      "image/png": "[encoded data removed]",
      "text/plain": [
       "<matplotlib.figure.Figure at 0x7f0e5ac7f940>"
      ]
     },
     "metadata": {},
     "output_type": "display_data"
    }
   ],
   "source": [
    "acc3 = []\n",
    "for s in rng:\n",
    "    model = DecisionTreeClassifier(max_depth=s)\n",
    "    model.fit(X_train,y_train)\n",
    "    acc3.append(accuracy_score(y_test,model.predict(X_test)))\n",
    "plt.scatter(rng, acc3, c='blue')"
   ]
  },
  {
   "cell_type": "markdown",
   "metadata": {},
   "source": [
    "Just like before, the values are all the same. There isn't any point comparing the models.\n",
    "\n",
    "So now I'll build a model using a decision tree classifier that draws the learning curve of train and test scores."
   ]
  },
  {
   "cell_type": "code",
   "execution_count": 1116,
   "metadata": {},
   "outputs": [
    {
     "data": {
      "text/plain": [
       "<matplotlib.collections.PathCollection at 0x7f0e5aba4198>"
      ]
     },
     "execution_count": 1116,
     "metadata": {},
     "output_type": "execute_result"
    },
    {
     "data": {
      "image/png": "[encoded data removed]",
      "text/plain": [
       "<matplotlib.figure.Figure at 0x7f0e5ac7f828>"
      ]
     },
     "metadata": {},
     "output_type": "display_data"
    }
   ],
   "source": [
    "from sklearn.model_selection import learning_curve\n",
    "model = DecisionTreeClassifier(max_depth=2)\n",
    "train_sizes, train_scores, test_scores = learning_curve(\n",
    "    model, X, y, cv=4)\n",
    "plt.scatter(train_scores, test_scores, c='green')"
   ]
  },
  {
   "cell_type": "markdown",
   "metadata": {},
   "source": [
    "This output ressembles the output from the previous model, although this one is vertical. However, we can now build a new model using logistic regression and using the same train and test data."
   ]
  },
  {
   "cell_type": "code",
   "execution_count": 1117,
   "metadata": {},
   "outputs": [
    {
     "data": {
      "text/plain": [
       "<matplotlib.collections.PathCollection at 0x7f0e5ab12240>"
      ]
     },
     "execution_count": 1117,
     "metadata": {},
     "output_type": "execute_result"
    },
    {
     "data": {
      "image/png": "[encoded data removed]",
      "text/plain": [
       "<matplotlib.figure.Figure at 0x7f0e5abc3780>"
      ]
     },
     "metadata": {},
     "output_type": "display_data"
    }
   ],
   "source": [
    "from sklearn.linear_model import LogisticRegression\n",
    "model2 = LogisticRegression()\n",
    "train_sizes2, train_scores2, test_scores2 = learning_curve(model2, X, y, cv=5)\n",
    "plt.scatter(train_scores2, test_scores2, c='blue')"
   ]
  },
  {
   "cell_type": "markdown",
   "metadata": {},
   "source": [
    "The plots are more scattered than they were before. Let's compare the two different models."
   ]
  },
  {
   "cell_type": "code",
   "execution_count": 1118,
   "metadata": {},
   "outputs": [
    {
     "data": {
      "text/plain": [
       "<matplotlib.collections.PathCollection at 0x7f0e5b80c668>"
      ]
     },
     "execution_count": 1118,
     "metadata": {},
     "output_type": "execute_result"
    },
    {
     "data": {
      "image/png": "[encoded data removed]",
      "text/plain": [
       "<matplotlib.figure.Figure at 0x7f0e5aaacf98>"
      ]
     },
     "metadata": {},
     "output_type": "display_data"
    }
   ],
   "source": [
    "plt.scatter(train_scores, test_scores, c='green')\n",
    "plt.scatter(train_scores2, test_scores2, c='blue')"
   ]
  },
  {
   "cell_type": "markdown",
   "metadata": {},
   "source": [
    "Looking at this comparison we can see that the classifier is essentially plotted alongside the regression model where `X = 1`, so we can conclude that the logistic regression model is better suited for this dataset. "
   ]
  },
  {
   "cell_type": "markdown",
   "metadata": {},
   "source": [
    "I continue using different models and choose `Logistic Regression`. We start by adding attributes to our formula and we're using the `formula.api` from `statsmodels`."
   ]
  },
  {
   "cell_type": "code",
   "execution_count": 1121,
   "metadata": {},
   "outputs": [
    {
     "data": {
      "text/html": [
       "<div>\n",
       "<style>\n",
       "    .dataframe thead tr:only-child th {\n",
       "        text-align: right;\n",
       "    }\n",
       "\n",
       "    .dataframe thead th {\n",
       "        text-align: left;\n",
       "    }\n",
       "\n",
       "    .dataframe tbody tr th {\n",
       "        vertical-align: top;\n",
       "    }\n",
       "</style>\n",
       "<table border=\"1\" class=\"dataframe\">\n",
       "  <thead>\n",
       "    <tr style=\"text-align: right;\">\n",
       "      <th></th>\n",
       "      <th>0</th>\n",
       "      <th>1</th>\n",
       "    </tr>\n",
       "  </thead>\n",
       "  <tbody>\n",
       "    <tr>\n",
       "      <th>0</th>\n",
       "      <td>Intercept</td>\n",
       "      <td>[1.19102195925]</td>\n",
       "    </tr>\n",
       "    <tr>\n",
       "      <th>1</th>\n",
       "      <td>Work</td>\n",
       "      <td>[-1.2719499983]</td>\n",
       "    </tr>\n",
       "    <tr>\n",
       "      <th>2</th>\n",
       "      <td>SocialMedia</td>\n",
       "      <td>[0.706548062731]</td>\n",
       "    </tr>\n",
       "    <tr>\n",
       "      <th>3</th>\n",
       "      <td>Age</td>\n",
       "      <td>[0.0614357233454]</td>\n",
       "    </tr>\n",
       "    <tr>\n",
       "      <th>4</th>\n",
       "      <td>ho</td>\n",
       "      <td>[0.311538942376]</td>\n",
       "    </tr>\n",
       "    <tr>\n",
       "      <th>5</th>\n",
       "      <td>tvm</td>\n",
       "      <td>[0.0284954197749]</td>\n",
       "    </tr>\n",
       "  </tbody>\n",
       "</table>\n",
       "</div>"
      ],
      "text/plain": [
       "             0                  1\n",
       "0    Intercept    [1.19102195925]\n",
       "1         Work    [-1.2719499983]\n",
       "2  SocialMedia   [0.706548062731]\n",
       "3          Age  [0.0614357233454]\n",
       "4           ho   [0.311538942376]\n",
       "5          tvm  [0.0284954197749]"
      ]
     },
     "execution_count": 1121,
     "metadata": {},
     "output_type": "execute_result"
    }
   ],
   "source": [
    "from sklearn.linear_model import LogisticRegression\n",
    "import math\n",
    "from patsy import dmatrices\n",
    "import statsmodels.formula.api as sm\n",
    "\n",
    "formula = 'Procrastinates ~ Work + SocialMedia + Age + ho + tvm'\n",
    "y,X = dmatrices(formula, data=data, return_type='dataframe')\n",
    "model = LogisticRegression()\n",
    "\n",
    "model = model.fit(X, y.values.ravel())\n",
    "pd.DataFrame(list(zip(X.columns, np.transpose(model.coef_))))"
   ]
  },
  {
   "cell_type": "markdown",
   "metadata": {},
   "source": [
    "We can observe that the `y-intercept`, which is `Procrastinates`, has a value of 1.19102195925. `Work` is negative because it has a negative correlation with the intercept."
   ]
  },
  {
   "cell_type": "code",
   "execution_count": 1122,
   "metadata": {},
   "outputs": [
    {
     "name": "stdout",
     "output_type": "stream",
     "text": [
      "             precision    recall  f1-score   support\n",
      "\n",
      "        0.0       1.00      0.65      0.79        17\n",
      "        1.0       0.83      1.00      0.91        29\n",
      "\n",
      "avg / total       0.89      0.87      0.86        46\n",
      "\n"
     ]
    }
   ],
   "source": [
    "from sklearn.metrics import classification_report\n",
    "y_pred = model.predict_proba(X)\n",
    "y_pred_flag = (y_pred[:,1] > 0.05).astype(int)\n",
    "print(classification_report(y, y_pred_flag))"
   ]
  },
  {
   "cell_type": "markdown",
   "metadata": {
    "collapsed": true
   },
   "source": [
    "Here we receive as output the averages of precision, recall, and f1-score. These [averages](http://scikit-learn.org/stable/modules/generated/sklearn.metrics.classification_report.html) are a prevalence-weighted macro-average across classes."
   ]
  },
  {
   "cell_type": "code",
   "execution_count": 1123,
   "metadata": {},
   "outputs": [
    {
     "data": {
      "image/png": "[encoded data removed]",
      "text/plain": [
       "<matplotlib.figure.Figure at 0x7f0e5abfa860>"
      ]
     },
     "metadata": {},
     "output_type": "display_data"
    }
   ],
   "source": [
    "from sklearn.model_selection import learning_curve\n",
    "\n",
    "x_example = X_train[:50]\n",
    "y_example = y_train[:50]\n",
    "\n",
    "model = DecisionTreeClassifier(max_depth=2)\n",
    "train_sizes, train_scores, test_scores = learning_curve(model, x_example, y_example, cv=5)\n",
    "plt.scatter(train_sizes, np.mean(test_scores, axis=1), c='red')\n",
    "mean_values = np.mean(test_scores, axis=1)"
   ]
  },
  {
   "cell_type": "markdown",
   "metadata": {},
   "source": [
    "It looks as if this might be the best model yet. For some reason taking a splice from the X and y train's yield better results. There's a visible curve and there's more of a distribution."
   ]
  },
  {
   "cell_type": "markdown",
   "metadata": {},
   "source": [
    "More attributes could be added to this data and the survey could've had more options as answers. Gathering the data and mutating wasn't, but I can see that there is a relationship between procrastinating and work. "
   ]
  },
  {
   "cell_type": "markdown",
   "metadata": {},
   "source": [
    "We could now do some clustering. This allows us to see the data in small groups to see patterns between different people. So now we add a new column called `cluster` and we'll work around that."
   ]
  },
  {
   "cell_type": "code",
   "execution_count": 1125,
   "metadata": {},
   "outputs": [
    {
     "data": {
      "text/html": [
       "<div>\n",
       "<style>\n",
       "    .dataframe thead tr:only-child th {\n",
       "        text-align: right;\n",
       "    }\n",
       "\n",
       "    .dataframe thead th {\n",
       "        text-align: left;\n",
       "    }\n",
       "\n",
       "    .dataframe tbody tr th {\n",
       "        vertical-align: top;\n",
       "    }\n",
       "</style>\n",
       "<table border=\"1\" class=\"dataframe\">\n",
       "  <thead>\n",
       "    <tr style=\"text-align: right;\">\n",
       "      <th></th>\n",
       "      <th>Gender</th>\n",
       "      <th>Age</th>\n",
       "      <th>Online Shopping</th>\n",
       "      <th>Gaming System</th>\n",
       "      <th>Gaming Frequency</th>\n",
       "      <th>Phone Calls</th>\n",
       "      <th>Work</th>\n",
       "      <th>Hanging Out</th>\n",
       "      <th>Procrastinates</th>\n",
       "      <th>SocialMedia</th>\n",
       "      <th>tvm</th>\n",
       "      <th>ho</th>\n",
       "    </tr>\n",
       "    <tr>\n",
       "      <th>cluster</th>\n",
       "      <th></th>\n",
       "      <th></th>\n",
       "      <th></th>\n",
       "      <th></th>\n",
       "      <th></th>\n",
       "      <th></th>\n",
       "      <th></th>\n",
       "      <th></th>\n",
       "      <th></th>\n",
       "      <th></th>\n",
       "      <th></th>\n",
       "      <th></th>\n",
       "    </tr>\n",
       "  </thead>\n",
       "  <tbody>\n",
       "    <tr>\n",
       "      <th>0</th>\n",
       "      <td>0.500000</td>\n",
       "      <td>50.000</td>\n",
       "      <td>2.000000</td>\n",
       "      <td>0.500000</td>\n",
       "      <td>0.250000</td>\n",
       "      <td>26.500000</td>\n",
       "      <td>10.000000</td>\n",
       "      <td>3.750000</td>\n",
       "      <td>0.0</td>\n",
       "      <td>2.000000</td>\n",
       "      <td>1.500000</td>\n",
       "      <td>3.750000</td>\n",
       "    </tr>\n",
       "    <tr>\n",
       "      <th>1</th>\n",
       "      <td>0.857143</td>\n",
       "      <td>25.000</td>\n",
       "      <td>1.714286</td>\n",
       "      <td>0.571429</td>\n",
       "      <td>4.428571</td>\n",
       "      <td>34.428571</td>\n",
       "      <td>2.571429</td>\n",
       "      <td>3.428571</td>\n",
       "      <td>1.0</td>\n",
       "      <td>2.857143</td>\n",
       "      <td>21.571429</td>\n",
       "      <td>3.428571</td>\n",
       "    </tr>\n",
       "    <tr>\n",
       "      <th>2</th>\n",
       "      <td>0.625000</td>\n",
       "      <td>20.000</td>\n",
       "      <td>2.125000</td>\n",
       "      <td>0.375000</td>\n",
       "      <td>3.625000</td>\n",
       "      <td>35.125000</td>\n",
       "      <td>0.750000</td>\n",
       "      <td>3.500000</td>\n",
       "      <td>1.0</td>\n",
       "      <td>3.750000</td>\n",
       "      <td>26.875000</td>\n",
       "      <td>3.500000</td>\n",
       "    </tr>\n",
       "    <tr>\n",
       "      <th>3</th>\n",
       "      <td>0.666667</td>\n",
       "      <td>34.000</td>\n",
       "      <td>1.333333</td>\n",
       "      <td>0.666667</td>\n",
       "      <td>2.666667</td>\n",
       "      <td>11.333333</td>\n",
       "      <td>9.333333</td>\n",
       "      <td>1.333333</td>\n",
       "      <td>0.0</td>\n",
       "      <td>2.000000</td>\n",
       "      <td>21.666667</td>\n",
       "      <td>1.333333</td>\n",
       "    </tr>\n",
       "    <tr>\n",
       "      <th>4</th>\n",
       "      <td>0.333333</td>\n",
       "      <td>19.500</td>\n",
       "      <td>1.166667</td>\n",
       "      <td>0.333333</td>\n",
       "      <td>0.833333</td>\n",
       "      <td>39.000000</td>\n",
       "      <td>4.000000</td>\n",
       "      <td>3.833333</td>\n",
       "      <td>1.0</td>\n",
       "      <td>4.333333</td>\n",
       "      <td>14.500000</td>\n",
       "      <td>3.833333</td>\n",
       "    </tr>\n",
       "    <tr>\n",
       "      <th>5</th>\n",
       "      <td>0.166667</td>\n",
       "      <td>25.000</td>\n",
       "      <td>2.166667</td>\n",
       "      <td>0.333333</td>\n",
       "      <td>0.666667</td>\n",
       "      <td>20.500000</td>\n",
       "      <td>8.000000</td>\n",
       "      <td>2.666667</td>\n",
       "      <td>0.0</td>\n",
       "      <td>3.166667</td>\n",
       "      <td>20.166667</td>\n",
       "      <td>2.666667</td>\n",
       "    </tr>\n",
       "    <tr>\n",
       "      <th>6</th>\n",
       "      <td>0.000000</td>\n",
       "      <td>20.000</td>\n",
       "      <td>1.000000</td>\n",
       "      <td>1.000000</td>\n",
       "      <td>1.000000</td>\n",
       "      <td>7.000000</td>\n",
       "      <td>8.000000</td>\n",
       "      <td>2.500000</td>\n",
       "      <td>0.0</td>\n",
       "      <td>1.500000</td>\n",
       "      <td>4.000000</td>\n",
       "      <td>2.500000</td>\n",
       "    </tr>\n",
       "    <tr>\n",
       "      <th>7</th>\n",
       "      <td>2.000000</td>\n",
       "      <td>25.000</td>\n",
       "      <td>1.000000</td>\n",
       "      <td>1.000000</td>\n",
       "      <td>24.000000</td>\n",
       "      <td>7.000000</td>\n",
       "      <td>12.000000</td>\n",
       "      <td>0.000000</td>\n",
       "      <td>0.0</td>\n",
       "      <td>6.000000</td>\n",
       "      <td>24.000000</td>\n",
       "      <td>0.000000</td>\n",
       "    </tr>\n",
       "    <tr>\n",
       "      <th>8</th>\n",
       "      <td>1.000000</td>\n",
       "      <td>17.000</td>\n",
       "      <td>1.000000</td>\n",
       "      <td>1.000000</td>\n",
       "      <td>15.000000</td>\n",
       "      <td>90.000000</td>\n",
       "      <td>12.000000</td>\n",
       "      <td>2.000000</td>\n",
       "      <td>0.0</td>\n",
       "      <td>4.000000</td>\n",
       "      <td>15.000000</td>\n",
       "      <td>2.000000</td>\n",
       "    </tr>\n",
       "    <tr>\n",
       "      <th>9</th>\n",
       "      <td>0.500000</td>\n",
       "      <td>19.625</td>\n",
       "      <td>1.250000</td>\n",
       "      <td>0.375000</td>\n",
       "      <td>1.875000</td>\n",
       "      <td>18.125000</td>\n",
       "      <td>4.000000</td>\n",
       "      <td>3.000000</td>\n",
       "      <td>1.0</td>\n",
       "      <td>2.000000</td>\n",
       "      <td>14.750000</td>\n",
       "      <td>3.000000</td>\n",
       "    </tr>\n",
       "  </tbody>\n",
       "</table>\n",
       "</div>"
      ],
      "text/plain": [
       "           Gender     Age  Online Shopping  Gaming System  Gaming Frequency  \\\n",
       "cluster                                                                       \n",
       "0        0.500000  50.000         2.000000       0.500000          0.250000   \n",
       "1        0.857143  25.000         1.714286       0.571429          4.428571   \n",
       "2        0.625000  20.000         2.125000       0.375000          3.625000   \n",
       "3        0.666667  34.000         1.333333       0.666667          2.666667   \n",
       "4        0.333333  19.500         1.166667       0.333333          0.833333   \n",
       "5        0.166667  25.000         2.166667       0.333333          0.666667   \n",
       "6        0.000000  20.000         1.000000       1.000000          1.000000   \n",
       "7        2.000000  25.000         1.000000       1.000000         24.000000   \n",
       "8        1.000000  17.000         1.000000       1.000000         15.000000   \n",
       "9        0.500000  19.625         1.250000       0.375000          1.875000   \n",
       "\n",
       "         Phone Calls       Work  Hanging Out  Procrastinates  SocialMedia  \\\n",
       "cluster                                                                     \n",
       "0          26.500000  10.000000     3.750000             0.0     2.000000   \n",
       "1          34.428571   2.571429     3.428571             1.0     2.857143   \n",
       "2          35.125000   0.750000     3.500000             1.0     3.750000   \n",
       "3          11.333333   9.333333     1.333333             0.0     2.000000   \n",
       "4          39.000000   4.000000     3.833333             1.0     4.333333   \n",
       "5          20.500000   8.000000     2.666667             0.0     3.166667   \n",
       "6           7.000000   8.000000     2.500000             0.0     1.500000   \n",
       "7           7.000000  12.000000     0.000000             0.0     6.000000   \n",
       "8          90.000000  12.000000     2.000000             0.0     4.000000   \n",
       "9          18.125000   4.000000     3.000000             1.0     2.000000   \n",
       "\n",
       "               tvm        ho  \n",
       "cluster                       \n",
       "0         1.500000  3.750000  \n",
       "1        21.571429  3.428571  \n",
       "2        26.875000  3.500000  \n",
       "3        21.666667  1.333333  \n",
       "4        14.500000  3.833333  \n",
       "5        20.166667  2.666667  \n",
       "6         4.000000  2.500000  \n",
       "7        24.000000  0.000000  \n",
       "8        15.000000  2.000000  \n",
       "9        14.750000  3.000000  "
      ]
     },
     "execution_count": 1125,
     "metadata": {},
     "output_type": "execute_result"
    }
   ],
   "source": [
    "from sklearn.cluster import AgglomerativeClustering\n",
    "\n",
    "clusters = AgglomerativeClustering(n_clusters=10)\n",
    "arr = clusters.fit_predict(data[['Age', 'Gender', 'Work', 'SocialMedia']])\n",
    "\n",
    "data['cluster'] = arr\n",
    "\n",
    "data.sort_values('cluster')\n",
    "\n",
    "data.groupby('cluster').mean()"
   ]
  },
  {
   "cell_type": "code",
   "execution_count": 1126,
   "metadata": {},
   "outputs": [
    {
     "data": {
      "text/plain": [
       "<matplotlib.colorbar.Colorbar at 0x7f0e5af2c588>"
      ]
     },
     "execution_count": 1126,
     "metadata": {},
     "output_type": "execute_result"
    },
    {
     "data": {
      "image/png": "[encoded data removed]",
      "text/plain": [
       "<matplotlib.figure.Figure at 0x7f0e5b42e470>"
      ]
     },
     "metadata": {},
     "output_type": "display_data"
    }
   ],
   "source": [
    "plt.scatter(data['cluster'], data['Work'], c=arr)\n",
    "plt.colorbar()"
   ]
  },
  {
   "cell_type": "code",
   "execution_count": null,
   "metadata": {},
   "outputs": [],
   "source": [
    "_ = plt.hist(data['cluster'], 12)"
   ]
  },
  {
   "cell_type": "code",
   "execution_count": null,
   "metadata": {},
   "outputs": [],
   "source": [
    "from scipy.spatial.distance import pdist\n",
    "from scipy.cluster.hierarchy import linkage, dendrogram\n",
    "\n",
    "dists = pdist(data[0:51], metric=\"cosine\")\n",
    "links = linkage(dists, method=\"average\")\n",
    "plt.figure(figsize=(100, 30))\n",
    "den = dendrogram(links)\n"
   ]
  },
  {
   "cell_type": "code",
   "execution_count": null,
   "metadata": {},
   "outputs": [],
   "source": [
    "from sklearn.cluster import KMeans\n",
    "model = KMeans(12)\n",
    "model.fit(X)\n",
    "clusters = model.predict(X)\n",
    "data['cluster'] = clusters"
   ]
  },
  {
   "cell_type": "code",
   "execution_count": null,
   "metadata": {},
   "outputs": [],
   "source": [
    "groups = X.groupby('cluster')\n",
    "group1 = groups.get_group(0)\n",
    "group2 = groups.get_group(1)\n",
    "group3 = groups.get_group(2)\n",
    "group4 = groups.get_group(3)\n",
    "group5 = groups.get_group(4)\n",
    "group6 = groups.get_group(5)\n",
    "group7 = groups.get_group(6)\n",
    "group8 = groups.get_group(7)\n",
    "group9 = groups.get_group(8)\n",
    "group10 = groups.get_group(9)\n",
    "group11 = groups.get_group(10)\n",
    "group12 = groups.get_group(11)"
   ]
  },
  {
   "cell_type": "code",
   "execution_count": null,
   "metadata": {},
   "outputs": [],
   "source": [
    "group1"
   ]
  },
  {
   "cell_type": "code",
   "execution_count": null,
   "metadata": {},
   "outputs": [],
   "source": [
    "group2"
   ]
  },
  {
   "cell_type": "code",
   "execution_count": null,
   "metadata": {},
   "outputs": [],
   "source": [
    "group3"
   ]
  },
  {
   "cell_type": "code",
   "execution_count": 821,
   "metadata": {},
   "outputs": [
    {
     "data": {
      "text/html": [
       "<div>\n",
       "<style>\n",
       "    .dataframe thead tr:only-child th {\n",
       "        text-align: right;\n",
       "    }\n",
       "\n",
       "    .dataframe thead th {\n",
       "        text-align: left;\n",
       "    }\n",
       "\n",
       "    .dataframe tbody tr th {\n",
       "        vertical-align: top;\n",
       "    }\n",
       "</style>\n",
       "<table border=\"1\" class=\"dataframe\">\n",
       "  <thead>\n",
       "    <tr style=\"text-align: right;\">\n",
       "      <th></th>\n",
       "      <th>Gender</th>\n",
       "      <th>Age</th>\n",
       "      <th>Online Shopping</th>\n",
       "      <th>Gaming System</th>\n",
       "      <th>Gaming Frequency</th>\n",
       "      <th>Phone Calls</th>\n",
       "      <th>Work</th>\n",
       "      <th>Hanging Out</th>\n",
       "      <th>SocialMedia</th>\n",
       "      <th>tvm</th>\n",
       "      <th>ho</th>\n",
       "      <th>cluster</th>\n",
       "    </tr>\n",
       "  </thead>\n",
       "  <tbody>\n",
       "    <tr>\n",
       "      <th>6</th>\n",
       "      <td>1</td>\n",
       "      <td>17</td>\n",
       "      <td>1</td>\n",
       "      <td>1</td>\n",
       "      <td>15</td>\n",
       "      <td>90</td>\n",
       "      <td>12</td>\n",
       "      <td>2</td>\n",
       "      <td>4</td>\n",
       "      <td>15</td>\n",
       "      <td>2</td>\n",
       "      <td>3</td>\n",
       "    </tr>\n",
       "    <tr>\n",
       "      <th>32</th>\n",
       "      <td>1</td>\n",
       "      <td>25</td>\n",
       "      <td>1</td>\n",
       "      <td>1</td>\n",
       "      <td>2</td>\n",
       "      <td>90</td>\n",
       "      <td>8</td>\n",
       "      <td>2</td>\n",
       "      <td>1</td>\n",
       "      <td>2</td>\n",
       "      <td>2</td>\n",
       "      <td>3</td>\n",
       "    </tr>\n",
       "    <tr>\n",
       "      <th>36</th>\n",
       "      <td>1</td>\n",
       "      <td>17</td>\n",
       "      <td>2</td>\n",
       "      <td>1</td>\n",
       "      <td>4</td>\n",
       "      <td>90</td>\n",
       "      <td>4</td>\n",
       "      <td>4</td>\n",
       "      <td>2</td>\n",
       "      <td>4</td>\n",
       "      <td>4</td>\n",
       "      <td>3</td>\n",
       "    </tr>\n",
       "    <tr>\n",
       "      <th>40</th>\n",
       "      <td>1</td>\n",
       "      <td>20</td>\n",
       "      <td>1</td>\n",
       "      <td>1</td>\n",
       "      <td>4</td>\n",
       "      <td>90</td>\n",
       "      <td>4</td>\n",
       "      <td>2</td>\n",
       "      <td>4</td>\n",
       "      <td>4</td>\n",
       "      <td>2</td>\n",
       "      <td>3</td>\n",
       "    </tr>\n",
       "    <tr>\n",
       "      <th>45</th>\n",
       "      <td>1</td>\n",
       "      <td>20</td>\n",
       "      <td>1</td>\n",
       "      <td>0</td>\n",
       "      <td>0</td>\n",
       "      <td>90</td>\n",
       "      <td>0</td>\n",
       "      <td>5</td>\n",
       "      <td>2</td>\n",
       "      <td>15</td>\n",
       "      <td>5</td>\n",
       "      <td>3</td>\n",
       "    </tr>\n",
       "  </tbody>\n",
       "</table>\n",
       "</div>"
      ],
      "text/plain": [
       "    Gender  Age  Online Shopping  Gaming System  Gaming Frequency  \\\n",
       "6        1   17                1              1                15   \n",
       "32       1   25                1              1                 2   \n",
       "36       1   17                2              1                 4   \n",
       "40       1   20                1              1                 4   \n",
       "45       1   20                1              0                 0   \n",
       "\n",
       "    Phone Calls  Work  Hanging Out  SocialMedia  tvm  ho  cluster  \n",
       "6            90    12            2            4   15   2        3  \n",
       "32           90     8            2            1    2   2        3  \n",
       "36           90     4            4            2    4   4        3  \n",
       "40           90     4            2            4    4   2        3  \n",
       "45           90     0            5            2   15   5        3  "
      ]
     },
     "execution_count": 821,
     "metadata": {},
     "output_type": "execute_result"
    }
   ],
   "source": [
    "group4"
   ]
  },
  {
   "cell_type": "code",
   "execution_count": 822,
   "metadata": {},
   "outputs": [
    {
     "data": {
      "text/html": [
       "<div>\n",
       "<style>\n",
       "    .dataframe thead tr:only-child th {\n",
       "        text-align: right;\n",
       "    }\n",
       "\n",
       "    .dataframe thead th {\n",
       "        text-align: left;\n",
       "    }\n",
       "\n",
       "    .dataframe tbody tr th {\n",
       "        vertical-align: top;\n",
       "    }\n",
       "</style>\n",
       "<table border=\"1\" class=\"dataframe\">\n",
       "  <thead>\n",
       "    <tr style=\"text-align: right;\">\n",
       "      <th></th>\n",
       "      <th>Gender</th>\n",
       "      <th>Age</th>\n",
       "      <th>Online Shopping</th>\n",
       "      <th>Gaming System</th>\n",
       "      <th>Gaming Frequency</th>\n",
       "      <th>Phone Calls</th>\n",
       "      <th>Work</th>\n",
       "      <th>Hanging Out</th>\n",
       "      <th>SocialMedia</th>\n",
       "      <th>tvm</th>\n",
       "      <th>ho</th>\n",
       "      <th>cluster</th>\n",
       "    </tr>\n",
       "  </thead>\n",
       "  <tbody>\n",
       "    <tr>\n",
       "      <th>17</th>\n",
       "      <td>1</td>\n",
       "      <td>25</td>\n",
       "      <td>1</td>\n",
       "      <td>1</td>\n",
       "      <td>24</td>\n",
       "      <td>90</td>\n",
       "      <td>0</td>\n",
       "      <td>4</td>\n",
       "      <td>4</td>\n",
       "      <td>48</td>\n",
       "      <td>4</td>\n",
       "      <td>4</td>\n",
       "    </tr>\n",
       "    <tr>\n",
       "      <th>24</th>\n",
       "      <td>0</td>\n",
       "      <td>20</td>\n",
       "      <td>6</td>\n",
       "      <td>0</td>\n",
       "      <td>0</td>\n",
       "      <td>90</td>\n",
       "      <td>2</td>\n",
       "      <td>7</td>\n",
       "      <td>6</td>\n",
       "      <td>48</td>\n",
       "      <td>7</td>\n",
       "      <td>4</td>\n",
       "    </tr>\n",
       "  </tbody>\n",
       "</table>\n",
       "</div>"
      ],
      "text/plain": [
       "    Gender  Age  Online Shopping  Gaming System  Gaming Frequency  \\\n",
       "17       1   25                1              1                24   \n",
       "24       0   20                6              0                 0   \n",
       "\n",
       "    Phone Calls  Work  Hanging Out  SocialMedia  tvm  ho  cluster  \n",
       "17           90     0            4            4   48   4        4  \n",
       "24           90     2            7            6   48   7        4  "
      ]
     },
     "execution_count": 822,
     "metadata": {},
     "output_type": "execute_result"
    }
   ],
   "source": [
    "group5"
   ]
  },
  {
   "cell_type": "code",
   "execution_count": 823,
   "metadata": {},
   "outputs": [
    {
     "data": {
      "text/html": [
       "<div>\n",
       "<style>\n",
       "    .dataframe thead tr:only-child th {\n",
       "        text-align: right;\n",
       "    }\n",
       "\n",
       "    .dataframe thead th {\n",
       "        text-align: left;\n",
       "    }\n",
       "\n",
       "    .dataframe tbody tr th {\n",
       "        vertical-align: top;\n",
       "    }\n",
       "</style>\n",
       "<table border=\"1\" class=\"dataframe\">\n",
       "  <thead>\n",
       "    <tr style=\"text-align: right;\">\n",
       "      <th></th>\n",
       "      <th>Gender</th>\n",
       "      <th>Age</th>\n",
       "      <th>Online Shopping</th>\n",
       "      <th>Gaming System</th>\n",
       "      <th>Gaming Frequency</th>\n",
       "      <th>Phone Calls</th>\n",
       "      <th>Work</th>\n",
       "      <th>Hanging Out</th>\n",
       "      <th>SocialMedia</th>\n",
       "      <th>tvm</th>\n",
       "      <th>ho</th>\n",
       "      <th>cluster</th>\n",
       "    </tr>\n",
       "  </thead>\n",
       "  <tbody>\n",
       "    <tr>\n",
       "      <th>16</th>\n",
       "      <td>0</td>\n",
       "      <td>20</td>\n",
       "      <td>4</td>\n",
       "      <td>0</td>\n",
       "      <td>0</td>\n",
       "      <td>45</td>\n",
       "      <td>0</td>\n",
       "      <td>2</td>\n",
       "      <td>4</td>\n",
       "      <td>24</td>\n",
       "      <td>2</td>\n",
       "      <td>5</td>\n",
       "    </tr>\n",
       "    <tr>\n",
       "      <th>19</th>\n",
       "      <td>1</td>\n",
       "      <td>25</td>\n",
       "      <td>6</td>\n",
       "      <td>0</td>\n",
       "      <td>0</td>\n",
       "      <td>45</td>\n",
       "      <td>2</td>\n",
       "      <td>5</td>\n",
       "      <td>4</td>\n",
       "      <td>24</td>\n",
       "      <td>5</td>\n",
       "      <td>5</td>\n",
       "    </tr>\n",
       "    <tr>\n",
       "      <th>22</th>\n",
       "      <td>1</td>\n",
       "      <td>20</td>\n",
       "      <td>1</td>\n",
       "      <td>1</td>\n",
       "      <td>1</td>\n",
       "      <td>45</td>\n",
       "      <td>4</td>\n",
       "      <td>3</td>\n",
       "      <td>4</td>\n",
       "      <td>15</td>\n",
       "      <td>3</td>\n",
       "      <td>5</td>\n",
       "    </tr>\n",
       "  </tbody>\n",
       "</table>\n",
       "</div>"
      ],
      "text/plain": [
       "    Gender  Age  Online Shopping  Gaming System  Gaming Frequency  \\\n",
       "16       0   20                4              0                 0   \n",
       "19       1   25                6              0                 0   \n",
       "22       1   20                1              1                 1   \n",
       "\n",
       "    Phone Calls  Work  Hanging Out  SocialMedia  tvm  ho  cluster  \n",
       "16           45     0            2            4   24   2        5  \n",
       "19           45     2            5            4   24   5        5  \n",
       "22           45     4            3            4   15   3        5  "
      ]
     },
     "execution_count": 823,
     "metadata": {},
     "output_type": "execute_result"
    }
   ],
   "source": [
    "group6"
   ]
  },
  {
   "cell_type": "code",
   "execution_count": 824,
   "metadata": {},
   "outputs": [
    {
     "data": {
      "text/html": [
       "<div>\n",
       "<style>\n",
       "    .dataframe thead tr:only-child th {\n",
       "        text-align: right;\n",
       "    }\n",
       "\n",
       "    .dataframe thead th {\n",
       "        text-align: left;\n",
       "    }\n",
       "\n",
       "    .dataframe tbody tr th {\n",
       "        vertical-align: top;\n",
       "    }\n",
       "</style>\n",
       "<table border=\"1\" class=\"dataframe\">\n",
       "  <thead>\n",
       "    <tr style=\"text-align: right;\">\n",
       "      <th></th>\n",
       "      <th>Gender</th>\n",
       "      <th>Age</th>\n",
       "      <th>Online Shopping</th>\n",
       "      <th>Gaming System</th>\n",
       "      <th>Gaming Frequency</th>\n",
       "      <th>Phone Calls</th>\n",
       "      <th>Work</th>\n",
       "      <th>Hanging Out</th>\n",
       "      <th>SocialMedia</th>\n",
       "      <th>tvm</th>\n",
       "      <th>ho</th>\n",
       "      <th>cluster</th>\n",
       "    </tr>\n",
       "  </thead>\n",
       "  <tbody>\n",
       "    <tr>\n",
       "      <th>8</th>\n",
       "      <td>0</td>\n",
       "      <td>50</td>\n",
       "      <td>1</td>\n",
       "      <td>1</td>\n",
       "      <td>0</td>\n",
       "      <td>7</td>\n",
       "      <td>12</td>\n",
       "      <td>3</td>\n",
       "      <td>2</td>\n",
       "      <td>2</td>\n",
       "      <td>3</td>\n",
       "      <td>6</td>\n",
       "    </tr>\n",
       "    <tr>\n",
       "      <th>21</th>\n",
       "      <td>1</td>\n",
       "      <td>50</td>\n",
       "      <td>4</td>\n",
       "      <td>1</td>\n",
       "      <td>1</td>\n",
       "      <td>2</td>\n",
       "      <td>8</td>\n",
       "      <td>8</td>\n",
       "      <td>4</td>\n",
       "      <td>1</td>\n",
       "      <td>8</td>\n",
       "      <td>6</td>\n",
       "    </tr>\n",
       "    <tr>\n",
       "      <th>43</th>\n",
       "      <td>0</td>\n",
       "      <td>50</td>\n",
       "      <td>2</td>\n",
       "      <td>0</td>\n",
       "      <td>0</td>\n",
       "      <td>7</td>\n",
       "      <td>8</td>\n",
       "      <td>2</td>\n",
       "      <td>1</td>\n",
       "      <td>2</td>\n",
       "      <td>2</td>\n",
       "      <td>6</td>\n",
       "    </tr>\n",
       "  </tbody>\n",
       "</table>\n",
       "</div>"
      ],
      "text/plain": [
       "    Gender  Age  Online Shopping  Gaming System  Gaming Frequency  \\\n",
       "8        0   50                1              1                 0   \n",
       "21       1   50                4              1                 1   \n",
       "43       0   50                2              0                 0   \n",
       "\n",
       "    Phone Calls  Work  Hanging Out  SocialMedia  tvm  ho  cluster  \n",
       "8             7    12            3            2    2   3        6  \n",
       "21            2     8            8            4    1   8        6  \n",
       "43            7     8            2            1    2   2        6  "
      ]
     },
     "execution_count": 824,
     "metadata": {},
     "output_type": "execute_result"
    }
   ],
   "source": [
    "group7"
   ]
  },
  {
   "cell_type": "code",
   "execution_count": 825,
   "metadata": {},
   "outputs": [
    {
     "data": {
      "text/html": [
       "<div>\n",
       "<style>\n",
       "    .dataframe thead tr:only-child th {\n",
       "        text-align: right;\n",
       "    }\n",
       "\n",
       "    .dataframe thead th {\n",
       "        text-align: left;\n",
       "    }\n",
       "\n",
       "    .dataframe tbody tr th {\n",
       "        vertical-align: top;\n",
       "    }\n",
       "</style>\n",
       "<table border=\"1\" class=\"dataframe\">\n",
       "  <thead>\n",
       "    <tr style=\"text-align: right;\">\n",
       "      <th></th>\n",
       "      <th>Gender</th>\n",
       "      <th>Age</th>\n",
       "      <th>Online Shopping</th>\n",
       "      <th>Gaming System</th>\n",
       "      <th>Gaming Frequency</th>\n",
       "      <th>Phone Calls</th>\n",
       "      <th>Work</th>\n",
       "      <th>Hanging Out</th>\n",
       "      <th>SocialMedia</th>\n",
       "      <th>tvm</th>\n",
       "      <th>ho</th>\n",
       "      <th>cluster</th>\n",
       "    </tr>\n",
       "  </thead>\n",
       "  <tbody>\n",
       "    <tr>\n",
       "      <th>4</th>\n",
       "      <td>2</td>\n",
       "      <td>20</td>\n",
       "      <td>1</td>\n",
       "      <td>1</td>\n",
       "      <td>1</td>\n",
       "      <td>20</td>\n",
       "      <td>0</td>\n",
       "      <td>2</td>\n",
       "      <td>6</td>\n",
       "      <td>24</td>\n",
       "      <td>2</td>\n",
       "      <td>7</td>\n",
       "    </tr>\n",
       "    <tr>\n",
       "      <th>13</th>\n",
       "      <td>1</td>\n",
       "      <td>25</td>\n",
       "      <td>1</td>\n",
       "      <td>1</td>\n",
       "      <td>4</td>\n",
       "      <td>7</td>\n",
       "      <td>4</td>\n",
       "      <td>7</td>\n",
       "      <td>1</td>\n",
       "      <td>24</td>\n",
       "      <td>7</td>\n",
       "      <td>7</td>\n",
       "    </tr>\n",
       "    <tr>\n",
       "      <th>18</th>\n",
       "      <td>0</td>\n",
       "      <td>25</td>\n",
       "      <td>1</td>\n",
       "      <td>0</td>\n",
       "      <td>0</td>\n",
       "      <td>7</td>\n",
       "      <td>8</td>\n",
       "      <td>3</td>\n",
       "      <td>2</td>\n",
       "      <td>15</td>\n",
       "      <td>3</td>\n",
       "      <td>7</td>\n",
       "    </tr>\n",
       "    <tr>\n",
       "      <th>23</th>\n",
       "      <td>1</td>\n",
       "      <td>34</td>\n",
       "      <td>2</td>\n",
       "      <td>1</td>\n",
       "      <td>7</td>\n",
       "      <td>7</td>\n",
       "      <td>8</td>\n",
       "      <td>2</td>\n",
       "      <td>2</td>\n",
       "      <td>15</td>\n",
       "      <td>2</td>\n",
       "      <td>7</td>\n",
       "    </tr>\n",
       "    <tr>\n",
       "      <th>25</th>\n",
       "      <td>2</td>\n",
       "      <td>25</td>\n",
       "      <td>1</td>\n",
       "      <td>1</td>\n",
       "      <td>24</td>\n",
       "      <td>7</td>\n",
       "      <td>12</td>\n",
       "      <td>0</td>\n",
       "      <td>6</td>\n",
       "      <td>24</td>\n",
       "      <td>0</td>\n",
       "      <td>7</td>\n",
       "    </tr>\n",
       "  </tbody>\n",
       "</table>\n",
       "</div>"
      ],
      "text/plain": [
       "    Gender  Age  Online Shopping  Gaming System  Gaming Frequency  \\\n",
       "4        2   20                1              1                 1   \n",
       "13       1   25                1              1                 4   \n",
       "18       0   25                1              0                 0   \n",
       "23       1   34                2              1                 7   \n",
       "25       2   25                1              1                24   \n",
       "\n",
       "    Phone Calls  Work  Hanging Out  SocialMedia  tvm  ho  cluster  \n",
       "4            20     0            2            6   24   2        7  \n",
       "13            7     4            7            1   24   7        7  \n",
       "18            7     8            3            2   15   3        7  \n",
       "23            7     8            2            2   15   2        7  \n",
       "25            7    12            0            6   24   0        7  "
      ]
     },
     "execution_count": 825,
     "metadata": {},
     "output_type": "execute_result"
    }
   ],
   "source": [
    "group8"
   ]
  },
  {
   "cell_type": "code",
   "execution_count": 826,
   "metadata": {},
   "outputs": [
    {
     "data": {
      "text/html": [
       "<div>\n",
       "<style>\n",
       "    .dataframe thead tr:only-child th {\n",
       "        text-align: right;\n",
       "    }\n",
       "\n",
       "    .dataframe thead th {\n",
       "        text-align: left;\n",
       "    }\n",
       "\n",
       "    .dataframe tbody tr th {\n",
       "        vertical-align: top;\n",
       "    }\n",
       "</style>\n",
       "<table border=\"1\" class=\"dataframe\">\n",
       "  <thead>\n",
       "    <tr style=\"text-align: right;\">\n",
       "      <th></th>\n",
       "      <th>Gender</th>\n",
       "      <th>Age</th>\n",
       "      <th>Online Shopping</th>\n",
       "      <th>Gaming System</th>\n",
       "      <th>Gaming Frequency</th>\n",
       "      <th>Phone Calls</th>\n",
       "      <th>Work</th>\n",
       "      <th>Hanging Out</th>\n",
       "      <th>SocialMedia</th>\n",
       "      <th>tvm</th>\n",
       "      <th>ho</th>\n",
       "      <th>cluster</th>\n",
       "    </tr>\n",
       "  </thead>\n",
       "  <tbody>\n",
       "    <tr>\n",
       "      <th>28</th>\n",
       "      <td>1</td>\n",
       "      <td>50</td>\n",
       "      <td>1</td>\n",
       "      <td>0</td>\n",
       "      <td>0</td>\n",
       "      <td>90</td>\n",
       "      <td>12</td>\n",
       "      <td>2</td>\n",
       "      <td>1</td>\n",
       "      <td>1</td>\n",
       "      <td>2</td>\n",
       "      <td>8</td>\n",
       "    </tr>\n",
       "  </tbody>\n",
       "</table>\n",
       "</div>"
      ],
      "text/plain": [
       "    Gender  Age  Online Shopping  Gaming System  Gaming Frequency  \\\n",
       "28       1   50                1              0                 0   \n",
       "\n",
       "    Phone Calls  Work  Hanging Out  SocialMedia  tvm  ho  cluster  \n",
       "28           90    12            2            1    1   2        8  "
      ]
     },
     "execution_count": 826,
     "metadata": {},
     "output_type": "execute_result"
    }
   ],
   "source": [
    "group9"
   ]
  },
  {
   "cell_type": "code",
   "execution_count": 827,
   "metadata": {},
   "outputs": [
    {
     "data": {
      "text/html": [
       "<div>\n",
       "<style>\n",
       "    .dataframe thead tr:only-child th {\n",
       "        text-align: right;\n",
       "    }\n",
       "\n",
       "    .dataframe thead th {\n",
       "        text-align: left;\n",
       "    }\n",
       "\n",
       "    .dataframe tbody tr th {\n",
       "        vertical-align: top;\n",
       "    }\n",
       "</style>\n",
       "<table border=\"1\" class=\"dataframe\">\n",
       "  <thead>\n",
       "    <tr style=\"text-align: right;\">\n",
       "      <th></th>\n",
       "      <th>Gender</th>\n",
       "      <th>Age</th>\n",
       "      <th>Online Shopping</th>\n",
       "      <th>Gaming System</th>\n",
       "      <th>Gaming Frequency</th>\n",
       "      <th>Phone Calls</th>\n",
       "      <th>Work</th>\n",
       "      <th>Hanging Out</th>\n",
       "      <th>SocialMedia</th>\n",
       "      <th>tvm</th>\n",
       "      <th>ho</th>\n",
       "      <th>cluster</th>\n",
       "    </tr>\n",
       "  </thead>\n",
       "  <tbody>\n",
       "    <tr>\n",
       "      <th>39</th>\n",
       "      <td>1</td>\n",
       "      <td>20</td>\n",
       "      <td>1</td>\n",
       "      <td>1</td>\n",
       "      <td>24</td>\n",
       "      <td>7</td>\n",
       "      <td>0</td>\n",
       "      <td>4</td>\n",
       "      <td>4</td>\n",
       "      <td>48</td>\n",
       "      <td>4</td>\n",
       "      <td>9</td>\n",
       "    </tr>\n",
       "  </tbody>\n",
       "</table>\n",
       "</div>"
      ],
      "text/plain": [
       "    Gender  Age  Online Shopping  Gaming System  Gaming Frequency  \\\n",
       "39       1   20                1              1                24   \n",
       "\n",
       "    Phone Calls  Work  Hanging Out  SocialMedia  tvm  ho  cluster  \n",
       "39            7     0            4            4   48   4        9  "
      ]
     },
     "execution_count": 827,
     "metadata": {},
     "output_type": "execute_result"
    }
   ],
   "source": [
    "group10"
   ]
  },
  {
   "cell_type": "code",
   "execution_count": 828,
   "metadata": {},
   "outputs": [
    {
     "data": {
      "text/html": [
       "<div>\n",
       "<style>\n",
       "    .dataframe thead tr:only-child th {\n",
       "        text-align: right;\n",
       "    }\n",
       "\n",
       "    .dataframe thead th {\n",
       "        text-align: left;\n",
       "    }\n",
       "\n",
       "    .dataframe tbody tr th {\n",
       "        vertical-align: top;\n",
       "    }\n",
       "</style>\n",
       "<table border=\"1\" class=\"dataframe\">\n",
       "  <thead>\n",
       "    <tr style=\"text-align: right;\">\n",
       "      <th></th>\n",
       "      <th>Gender</th>\n",
       "      <th>Age</th>\n",
       "      <th>Online Shopping</th>\n",
       "      <th>Gaming System</th>\n",
       "      <th>Gaming Frequency</th>\n",
       "      <th>Phone Calls</th>\n",
       "      <th>Work</th>\n",
       "      <th>Hanging Out</th>\n",
       "      <th>SocialMedia</th>\n",
       "      <th>tvm</th>\n",
       "      <th>ho</th>\n",
       "      <th>cluster</th>\n",
       "    </tr>\n",
       "  </thead>\n",
       "  <tbody>\n",
       "    <tr>\n",
       "      <th>3</th>\n",
       "      <td>0</td>\n",
       "      <td>20</td>\n",
       "      <td>1</td>\n",
       "      <td>0</td>\n",
       "      <td>0</td>\n",
       "      <td>20</td>\n",
       "      <td>4</td>\n",
       "      <td>1</td>\n",
       "      <td>2</td>\n",
       "      <td>48</td>\n",
       "      <td>1</td>\n",
       "      <td>10</td>\n",
       "    </tr>\n",
       "    <tr>\n",
       "      <th>10</th>\n",
       "      <td>0</td>\n",
       "      <td>20</td>\n",
       "      <td>1</td>\n",
       "      <td>0</td>\n",
       "      <td>0</td>\n",
       "      <td>20</td>\n",
       "      <td>4</td>\n",
       "      <td>2</td>\n",
       "      <td>2</td>\n",
       "      <td>48</td>\n",
       "      <td>2</td>\n",
       "      <td>10</td>\n",
       "    </tr>\n",
       "    <tr>\n",
       "      <th>11</th>\n",
       "      <td>0</td>\n",
       "      <td>25</td>\n",
       "      <td>4</td>\n",
       "      <td>0</td>\n",
       "      <td>0</td>\n",
       "      <td>20</td>\n",
       "      <td>8</td>\n",
       "      <td>1</td>\n",
       "      <td>4</td>\n",
       "      <td>48</td>\n",
       "      <td>1</td>\n",
       "      <td>10</td>\n",
       "    </tr>\n",
       "    <tr>\n",
       "      <th>12</th>\n",
       "      <td>1</td>\n",
       "      <td>34</td>\n",
       "      <td>1</td>\n",
       "      <td>1</td>\n",
       "      <td>1</td>\n",
       "      <td>20</td>\n",
       "      <td>8</td>\n",
       "      <td>1</td>\n",
       "      <td>2</td>\n",
       "      <td>48</td>\n",
       "      <td>1</td>\n",
       "      <td>10</td>\n",
       "    </tr>\n",
       "  </tbody>\n",
       "</table>\n",
       "</div>"
      ],
      "text/plain": [
       "    Gender  Age  Online Shopping  Gaming System  Gaming Frequency  \\\n",
       "3        0   20                1              0                 0   \n",
       "10       0   20                1              0                 0   \n",
       "11       0   25                4              0                 0   \n",
       "12       1   34                1              1                 1   \n",
       "\n",
       "    Phone Calls  Work  Hanging Out  SocialMedia  tvm  ho  cluster  \n",
       "3            20     4            1            2   48   1       10  \n",
       "10           20     4            2            2   48   2       10  \n",
       "11           20     8            1            4   48   1       10  \n",
       "12           20     8            1            2   48   1       10  "
      ]
     },
     "execution_count": 828,
     "metadata": {},
     "output_type": "execute_result"
    }
   ],
   "source": [
    "group11"
   ]
  },
  {
   "cell_type": "code",
   "execution_count": 829,
   "metadata": {},
   "outputs": [
    {
     "data": {
      "text/html": [
       "<div>\n",
       "<style>\n",
       "    .dataframe thead tr:only-child th {\n",
       "        text-align: right;\n",
       "    }\n",
       "\n",
       "    .dataframe thead th {\n",
       "        text-align: left;\n",
       "    }\n",
       "\n",
       "    .dataframe tbody tr th {\n",
       "        vertical-align: top;\n",
       "    }\n",
       "</style>\n",
       "<table border=\"1\" class=\"dataframe\">\n",
       "  <thead>\n",
       "    <tr style=\"text-align: right;\">\n",
       "      <th></th>\n",
       "      <th>Gender</th>\n",
       "      <th>Age</th>\n",
       "      <th>Online Shopping</th>\n",
       "      <th>Gaming System</th>\n",
       "      <th>Gaming Frequency</th>\n",
       "      <th>Phone Calls</th>\n",
       "      <th>Work</th>\n",
       "      <th>Hanging Out</th>\n",
       "      <th>SocialMedia</th>\n",
       "      <th>tvm</th>\n",
       "      <th>ho</th>\n",
       "      <th>cluster</th>\n",
       "    </tr>\n",
       "  </thead>\n",
       "  <tbody>\n",
       "    <tr>\n",
       "      <th>26</th>\n",
       "      <td>1</td>\n",
       "      <td>25</td>\n",
       "      <td>1</td>\n",
       "      <td>1</td>\n",
       "      <td>1</td>\n",
       "      <td>45</td>\n",
       "      <td>2</td>\n",
       "      <td>3</td>\n",
       "      <td>1</td>\n",
       "      <td>48</td>\n",
       "      <td>3</td>\n",
       "      <td>11</td>\n",
       "    </tr>\n",
       "  </tbody>\n",
       "</table>\n",
       "</div>"
      ],
      "text/plain": [
       "    Gender  Age  Online Shopping  Gaming System  Gaming Frequency  \\\n",
       "26       1   25                1              1                 1   \n",
       "\n",
       "    Phone Calls  Work  Hanging Out  SocialMedia  tvm  ho  cluster  \n",
       "26           45     2            3            1   48   3       11  "
      ]
     },
     "execution_count": 829,
     "metadata": {},
     "output_type": "execute_result"
    }
   ],
   "source": [
    "group12"
   ]
  },
  {
   "cell_type": "code",
   "execution_count": 834,
   "metadata": {},
   "outputs": [
    {
     "data": {
      "image/svg+xml": [
       "<?xml version=\"1.0\" encoding=\"UTF-8\" standalone=\"no\"?>\n",
       "<!DOCTYPE svg PUBLIC \"-//W3C//DTD SVG 1.1//EN\"\n",
       " \"http://www.w3.org/Graphics/SVG/1.1/DTD/svg11.dtd\">\n",
       "<!-- Generated by graphviz version 2.38.0 (20140413.2041)\n",
       " -->\n",
       "<!-- Title: Tree Pages: 1 -->\n",
       "<svg width=\"2357pt\" height=\"581pt\"\n",
       " viewBox=\"0.00 0.00 2357.00 581.00\" xmlns=\"http://www.w3.org/2000/svg\" xmlns:xlink=\"http://www.w3.org/1999/xlink\">\n",
       "<g id=\"graph0\" class=\"graph\" transform=\"scale(1 1) rotate(0) translate(4 577)\">\n",
       "<title>Tree</title>\n",
       "<polygon fill=\"white\" stroke=\"none\" points=\"-4,4 -4,-577 2353,-577 2353,4 -4,4\"/>\n",
       "<!-- 0 -->\n",
       "<g id=\"node1\" class=\"node\"><title>0</title>\n",
       "<path fill=\"#39e581\" fill-opacity=\"0.243137\" stroke=\"black\" d=\"M1287.5,-573C1287.5,-573 1059.5,-573 1059.5,-573 1053.5,-573 1047.5,-567 1047.5,-561 1047.5,-561 1047.5,-517 1047.5,-517 1047.5,-511 1053.5,-505 1059.5,-505 1059.5,-505 1287.5,-505 1287.5,-505 1293.5,-505 1299.5,-511 1299.5,-517 1299.5,-517 1299.5,-561 1299.5,-561 1299.5,-567 1293.5,-573 1287.5,-573\"/>\n",
       "<text text-anchor=\"start\" x=\"1113\" y=\"-557.8\" font-family=\"Helvetica,sans-Serif\" font-size=\"14.00\">Procrastinates ≤ 0.5</text>\n",
       "<text text-anchor=\"start\" x=\"1126\" y=\"-542.8\" font-family=\"Helvetica,sans-Serif\" font-size=\"14.00\">entropy = 3.087</text>\n",
       "<text text-anchor=\"start\" x=\"1132.5\" y=\"-527.8\" font-family=\"Helvetica,sans-Serif\" font-size=\"14.00\">samples = 46</text>\n",
       "<text text-anchor=\"start\" x=\"1055.5\" y=\"-512.8\" font-family=\"Helvetica,sans-Serif\" font-size=\"14.00\">value = [5, 5, 4, 3, 15, 3, 1, 4, 1, 1, 1, 3]</text>\n",
       "</g>\n",
       "<!-- 1 -->\n",
       "<g id=\"node2\" class=\"node\"><title>1</title>\n",
       "<path fill=\"#39e581\" fill-opacity=\"0.141176\" stroke=\"black\" d=\"M890,-469C890,-469 669,-469 669,-469 663,-469 657,-463 657,-457 657,-457 657,-413 657,-413 657,-407 663,-401 669,-401 669,-401 890,-401 890,-401 896,-401 902,-407 902,-413 902,-413 902,-457 902,-457 902,-463 896,-469 890,-469\"/>\n",
       "<text text-anchor=\"start\" x=\"754.5\" y=\"-453.8\" font-family=\"Helvetica,sans-Serif\" font-size=\"14.00\">ho ≤ 1.5</text>\n",
       "<text text-anchor=\"start\" x=\"735.5\" y=\"-438.8\" font-family=\"Helvetica,sans-Serif\" font-size=\"14.00\">entropy = 2.61</text>\n",
       "<text text-anchor=\"start\" x=\"738.5\" y=\"-423.8\" font-family=\"Helvetica,sans-Serif\" font-size=\"14.00\">samples = 17</text>\n",
       "<text text-anchor=\"start\" x=\"665\" y=\"-408.8\" font-family=\"Helvetica,sans-Serif\" font-size=\"14.00\">value = [2, 3, 2, 0, 5, 3, 0, 1, 0, 0, 1, 0]</text>\n",
       "</g>\n",
       "<!-- 0&#45;&gt;1 -->\n",
       "<g id=\"edge1\" class=\"edge\"><title>0&#45;&gt;1</title>\n",
       "<path fill=\"none\" stroke=\"black\" d=\"M1047.48,-505.376C1004.26,-494.186 955.771,-481.634 912.046,-470.314\"/>\n",
       "<polygon fill=\"black\" stroke=\"black\" points=\"912.769,-466.886 902.211,-467.768 911.015,-473.662 912.769,-466.886\"/>\n",
       "<text text-anchor=\"middle\" x=\"914.894\" y=\"-485.612\" font-family=\"Helvetica,sans-Serif\" font-size=\"14.00\">True</text>\n",
       "</g>\n",
       "<!-- 12 -->\n",
       "<g id=\"node13\" class=\"node\"><title>12</title>\n",
       "<path fill=\"#39e581\" fill-opacity=\"0.270588\" stroke=\"black\" d=\"M1680.5,-469C1680.5,-469 1452.5,-469 1452.5,-469 1446.5,-469 1440.5,-463 1440.5,-457 1440.5,-457 1440.5,-413 1440.5,-413 1440.5,-407 1446.5,-401 1452.5,-401 1452.5,-401 1680.5,-401 1680.5,-401 1686.5,-401 1692.5,-407 1692.5,-413 1692.5,-413 1692.5,-457 1692.5,-457 1692.5,-463 1686.5,-469 1680.5,-469\"/>\n",
       "<text text-anchor=\"start\" x=\"1541.5\" y=\"-453.8\" font-family=\"Helvetica,sans-Serif\" font-size=\"14.00\">ho ≤ 6.0</text>\n",
       "<text text-anchor=\"start\" x=\"1519\" y=\"-438.8\" font-family=\"Helvetica,sans-Serif\" font-size=\"14.00\">entropy = 2.919</text>\n",
       "<text text-anchor=\"start\" x=\"1525.5\" y=\"-423.8\" font-family=\"Helvetica,sans-Serif\" font-size=\"14.00\">samples = 29</text>\n",
       "<text text-anchor=\"start\" x=\"1448.5\" y=\"-408.8\" font-family=\"Helvetica,sans-Serif\" font-size=\"14.00\">value = [3, 2, 2, 3, 10, 0, 1, 3, 1, 1, 0, 3]</text>\n",
       "</g>\n",
       "<!-- 0&#45;&gt;12 -->\n",
       "<g id=\"edge12\" class=\"edge\"><title>0&#45;&gt;12</title>\n",
       "<path fill=\"none\" stroke=\"black\" d=\"M1299.74,-505.235C1341.49,-494.399 1388.11,-482.299 1430.56,-471.282\"/>\n",
       "<polygon fill=\"black\" stroke=\"black\" points=\"1431.6,-474.629 1440.4,-468.729 1429.84,-467.853 1431.6,-474.629\"/>\n",
       "<text text-anchor=\"middle\" x=\"1427.73\" y=\"-486.581\" font-family=\"Helvetica,sans-Serif\" font-size=\"14.00\">False</text>\n",
       "</g>\n",
       "<!-- 2 -->\n",
       "<g id=\"node3\" class=\"node\"><title>2</title>\n",
       "<path fill=\"#9de539\" fill-opacity=\"0.333333\" stroke=\"black\" d=\"M496,-365C496,-365 275,-365 275,-365 269,-365 263,-359 263,-353 263,-353 263,-309 263,-309 263,-303 269,-297 275,-297 275,-297 496,-297 496,-297 502,-297 508,-303 508,-309 508,-309 508,-353 508,-353 508,-359 502,-365 496,-365\"/>\n",
       "<text text-anchor=\"start\" x=\"360.5\" y=\"-349.8\" font-family=\"Helvetica,sans-Serif\" font-size=\"14.00\">ho ≤ 0.5</text>\n",
       "<text text-anchor=\"start\" x=\"345.5\" y=\"-334.8\" font-family=\"Helvetica,sans-Serif\" font-size=\"14.00\">entropy = 1.5</text>\n",
       "<text text-anchor=\"start\" x=\"348\" y=\"-319.8\" font-family=\"Helvetica,sans-Serif\" font-size=\"14.00\">samples = 4</text>\n",
       "<text text-anchor=\"start\" x=\"271\" y=\"-304.8\" font-family=\"Helvetica,sans-Serif\" font-size=\"14.00\">value = [0, 1, 2, 0, 1, 0, 0, 0, 0, 0, 0, 0]</text>\n",
       "</g>\n",
       "<!-- 1&#45;&gt;2 -->\n",
       "<g id=\"edge2\" class=\"edge\"><title>1&#45;&gt;2</title>\n",
       "<path fill=\"none\" stroke=\"black\" d=\"M656.996,-402.286C612.905,-390.871 562.976,-377.946 518.068,-366.32\"/>\n",
       "<polygon fill=\"black\" stroke=\"black\" points=\"518.826,-362.9 508.267,-363.782 517.071,-369.677 518.826,-362.9\"/>\n",
       "</g>\n",
       "<!-- 5 -->\n",
       "<g id=\"node6\" class=\"node\"><title>5</title>\n",
       "<path fill=\"#39e581\" fill-opacity=\"0.101961\" stroke=\"black\" d=\"M890,-365C890,-365 669,-365 669,-365 663,-365 657,-359 657,-353 657,-353 657,-309 657,-309 657,-303 663,-297 669,-297 669,-297 890,-297 890,-297 896,-297 902,-303 902,-309 902,-309 902,-353 902,-353 902,-359 896,-365 890,-365\"/>\n",
       "<text text-anchor=\"start\" x=\"754.5\" y=\"-349.8\" font-family=\"Helvetica,sans-Serif\" font-size=\"14.00\">ho ≤ 2.5</text>\n",
       "<text text-anchor=\"start\" x=\"732\" y=\"-334.8\" font-family=\"Helvetica,sans-Serif\" font-size=\"14.00\">entropy = 2.412</text>\n",
       "<text text-anchor=\"start\" x=\"738.5\" y=\"-319.8\" font-family=\"Helvetica,sans-Serif\" font-size=\"14.00\">samples = 13</text>\n",
       "<text text-anchor=\"start\" x=\"665\" y=\"-304.8\" font-family=\"Helvetica,sans-Serif\" font-size=\"14.00\">value = [2, 2, 0, 0, 4, 3, 0, 1, 0, 0, 1, 0]</text>\n",
       "</g>\n",
       "<!-- 1&#45;&gt;5 -->\n",
       "<g id=\"edge5\" class=\"edge\"><title>1&#45;&gt;5</title>\n",
       "<path fill=\"none\" stroke=\"black\" d=\"M779.5,-400.884C779.5,-392.778 779.5,-383.982 779.5,-375.472\"/>\n",
       "<polygon fill=\"black\" stroke=\"black\" points=\"783,-375.299 779.5,-365.299 776,-375.299 783,-375.299\"/>\n",
       "</g>\n",
       "<!-- 3 -->\n",
       "<g id=\"node4\" class=\"node\"><title>3</title>\n",
       "<path fill=\"#e5d739\" stroke=\"black\" d=\"M233,-253.5C233,-253.5 12,-253.5 12,-253.5 6,-253.5 0,-247.5 0,-241.5 0,-241.5 0,-212.5 0,-212.5 0,-206.5 6,-200.5 12,-200.5 12,-200.5 233,-200.5 233,-200.5 239,-200.5 245,-206.5 245,-212.5 245,-212.5 245,-241.5 245,-241.5 245,-247.5 239,-253.5 233,-253.5\"/>\n",
       "<text text-anchor=\"start\" x=\"82.5\" y=\"-238.3\" font-family=\"Helvetica,sans-Serif\" font-size=\"14.00\">entropy = 0.0</text>\n",
       "<text text-anchor=\"start\" x=\"85\" y=\"-223.3\" font-family=\"Helvetica,sans-Serif\" font-size=\"14.00\">samples = 1</text>\n",
       "<text text-anchor=\"start\" x=\"8\" y=\"-208.3\" font-family=\"Helvetica,sans-Serif\" font-size=\"14.00\">value = [0, 1, 0, 0, 0, 0, 0, 0, 0, 0, 0, 0]</text>\n",
       "</g>\n",
       "<!-- 2&#45;&gt;3 -->\n",
       "<g id=\"edge3\" class=\"edge\"><title>2&#45;&gt;3</title>\n",
       "<path fill=\"none\" stroke=\"black\" d=\"M300.111,-296.884C267.217,-284.126 229.915,-269.659 198.017,-257.288\"/>\n",
       "<polygon fill=\"black\" stroke=\"black\" points=\"198.89,-253.873 188.301,-253.52 196.359,-260.399 198.89,-253.873\"/>\n",
       "</g>\n",
       "<!-- 4 -->\n",
       "<g id=\"node5\" class=\"node\"><title>4</title>\n",
       "<path fill=\"#9de539\" fill-opacity=\"0.498039\" stroke=\"black\" d=\"M496,-253.5C496,-253.5 275,-253.5 275,-253.5 269,-253.5 263,-247.5 263,-241.5 263,-241.5 263,-212.5 263,-212.5 263,-206.5 269,-200.5 275,-200.5 275,-200.5 496,-200.5 496,-200.5 502,-200.5 508,-206.5 508,-212.5 508,-212.5 508,-241.5 508,-241.5 508,-247.5 502,-253.5 496,-253.5\"/>\n",
       "<text text-anchor=\"start\" x=\"338\" y=\"-238.3\" font-family=\"Helvetica,sans-Serif\" font-size=\"14.00\">entropy = 0.918</text>\n",
       "<text text-anchor=\"start\" x=\"348\" y=\"-223.3\" font-family=\"Helvetica,sans-Serif\" font-size=\"14.00\">samples = 3</text>\n",
       "<text text-anchor=\"start\" x=\"271\" y=\"-208.3\" font-family=\"Helvetica,sans-Serif\" font-size=\"14.00\">value = [0, 0, 2, 0, 1, 0, 0, 0, 0, 0, 0, 0]</text>\n",
       "</g>\n",
       "<!-- 2&#45;&gt;4 -->\n",
       "<g id=\"edge4\" class=\"edge\"><title>2&#45;&gt;4</title>\n",
       "<path fill=\"none\" stroke=\"black\" d=\"M385.5,-296.884C385.5,-286.326 385.5,-274.597 385.5,-263.854\"/>\n",
       "<polygon fill=\"black\" stroke=\"black\" points=\"389,-263.52 385.5,-253.52 382,-263.52 389,-263.52\"/>\n",
       "</g>\n",
       "<!-- 6 -->\n",
       "<g id=\"node7\" class=\"node\"><title>6</title>\n",
       "<path fill=\"none\" stroke=\"black\" d=\"M759,-253.5C759,-253.5 538,-253.5 538,-253.5 532,-253.5 526,-247.5 526,-241.5 526,-241.5 526,-212.5 526,-212.5 526,-206.5 532,-200.5 538,-200.5 538,-200.5 759,-200.5 759,-200.5 765,-200.5 771,-206.5 771,-212.5 771,-212.5 771,-241.5 771,-241.5 771,-247.5 765,-253.5 759,-253.5\"/>\n",
       "<text text-anchor=\"start\" x=\"601\" y=\"-238.3\" font-family=\"Helvetica,sans-Serif\" font-size=\"14.00\">entropy = 2.236</text>\n",
       "<text text-anchor=\"start\" x=\"611\" y=\"-223.3\" font-family=\"Helvetica,sans-Serif\" font-size=\"14.00\">samples = 7</text>\n",
       "<text text-anchor=\"start\" x=\"534\" y=\"-208.3\" font-family=\"Helvetica,sans-Serif\" font-size=\"14.00\">value = [2, 1, 0, 0, 2, 1, 0, 0, 0, 0, 1, 0]</text>\n",
       "</g>\n",
       "<!-- 5&#45;&gt;6 -->\n",
       "<g id=\"edge6\" class=\"edge\"><title>5&#45;&gt;6</title>\n",
       "<path fill=\"none\" stroke=\"black\" d=\"M736.968,-296.884C721.713,-285.006 704.556,-271.646 689.439,-259.876\"/>\n",
       "<polygon fill=\"black\" stroke=\"black\" points=\"691.316,-256.902 681.276,-253.52 687.016,-262.425 691.316,-256.902\"/>\n",
       "</g>\n",
       "<!-- 7 -->\n",
       "<g id=\"node8\" class=\"node\"><title>7</title>\n",
       "<path fill=\"none\" stroke=\"black\" d=\"M1022,-261C1022,-261 801,-261 801,-261 795,-261 789,-255 789,-249 789,-249 789,-205 789,-205 789,-199 795,-193 801,-193 801,-193 1022,-193 1022,-193 1028,-193 1034,-199 1034,-205 1034,-205 1034,-249 1034,-249 1034,-255 1028,-261 1022,-261\"/>\n",
       "<text text-anchor=\"start\" x=\"886.5\" y=\"-245.8\" font-family=\"Helvetica,sans-Serif\" font-size=\"14.00\">ho ≤ 3.5</text>\n",
       "<text text-anchor=\"start\" x=\"864\" y=\"-230.8\" font-family=\"Helvetica,sans-Serif\" font-size=\"14.00\">entropy = 1.918</text>\n",
       "<text text-anchor=\"start\" x=\"874\" y=\"-215.8\" font-family=\"Helvetica,sans-Serif\" font-size=\"14.00\">samples = 6</text>\n",
       "<text text-anchor=\"start\" x=\"797\" y=\"-200.8\" font-family=\"Helvetica,sans-Serif\" font-size=\"14.00\">value = [0, 1, 0, 0, 2, 2, 0, 1, 0, 0, 0, 0]</text>\n",
       "</g>\n",
       "<!-- 5&#45;&gt;7 -->\n",
       "<g id=\"edge7\" class=\"edge\"><title>5&#45;&gt;7</title>\n",
       "<path fill=\"none\" stroke=\"black\" d=\"M822.357,-296.884C834.46,-287.531 847.753,-277.259 860.294,-267.568\"/>\n",
       "<polygon fill=\"black\" stroke=\"black\" points=\"862.634,-270.183 868.407,-261.299 858.354,-264.644 862.634,-270.183\"/>\n",
       "</g>\n",
       "<!-- 8 -->\n",
       "<g id=\"node9\" class=\"node\"><title>8</title>\n",
       "<path fill=\"none\" stroke=\"black\" d=\"M759,-149.5C759,-149.5 538,-149.5 538,-149.5 532,-149.5 526,-143.5 526,-137.5 526,-137.5 526,-108.5 526,-108.5 526,-102.5 532,-96.5 538,-96.5 538,-96.5 759,-96.5 759,-96.5 765,-96.5 771,-102.5 771,-108.5 771,-108.5 771,-137.5 771,-137.5 771,-143.5 765,-149.5 759,-149.5\"/>\n",
       "<text text-anchor=\"start\" x=\"601\" y=\"-134.3\" font-family=\"Helvetica,sans-Serif\" font-size=\"14.00\">entropy = 1.585</text>\n",
       "<text text-anchor=\"start\" x=\"611\" y=\"-119.3\" font-family=\"Helvetica,sans-Serif\" font-size=\"14.00\">samples = 3</text>\n",
       "<text text-anchor=\"start\" x=\"534\" y=\"-104.3\" font-family=\"Helvetica,sans-Serif\" font-size=\"14.00\">value = [0, 1, 0, 0, 1, 1, 0, 0, 0, 0, 0, 0]</text>\n",
       "</g>\n",
       "<!-- 7&#45;&gt;8 -->\n",
       "<g id=\"edge8\" class=\"edge\"><title>7&#45;&gt;8</title>\n",
       "<path fill=\"none\" stroke=\"black\" d=\"M826.111,-192.884C793.217,-180.126 755.915,-165.659 724.017,-153.288\"/>\n",
       "<polygon fill=\"black\" stroke=\"black\" points=\"724.89,-149.873 714.301,-149.52 722.359,-156.399 724.89,-149.873\"/>\n",
       "</g>\n",
       "<!-- 9 -->\n",
       "<g id=\"node10\" class=\"node\"><title>9</title>\n",
       "<path fill=\"none\" stroke=\"black\" d=\"M1022,-157C1022,-157 801,-157 801,-157 795,-157 789,-151 789,-145 789,-145 789,-101 789,-101 789,-95 795,-89 801,-89 801,-89 1022,-89 1022,-89 1028,-89 1034,-95 1034,-101 1034,-101 1034,-145 1034,-145 1034,-151 1028,-157 1022,-157\"/>\n",
       "<text text-anchor=\"start\" x=\"886.5\" y=\"-141.8\" font-family=\"Helvetica,sans-Serif\" font-size=\"14.00\">ho ≤ 6.0</text>\n",
       "<text text-anchor=\"start\" x=\"864\" y=\"-126.8\" font-family=\"Helvetica,sans-Serif\" font-size=\"14.00\">entropy = 1.585</text>\n",
       "<text text-anchor=\"start\" x=\"874\" y=\"-111.8\" font-family=\"Helvetica,sans-Serif\" font-size=\"14.00\">samples = 3</text>\n",
       "<text text-anchor=\"start\" x=\"797\" y=\"-96.8\" font-family=\"Helvetica,sans-Serif\" font-size=\"14.00\">value = [0, 0, 0, 0, 1, 1, 0, 1, 0, 0, 0, 0]</text>\n",
       "</g>\n",
       "<!-- 7&#45;&gt;9 -->\n",
       "<g id=\"edge9\" class=\"edge\"><title>7&#45;&gt;9</title>\n",
       "<path fill=\"none\" stroke=\"black\" d=\"M911.5,-192.884C911.5,-184.778 911.5,-175.982 911.5,-167.472\"/>\n",
       "<polygon fill=\"black\" stroke=\"black\" points=\"915,-167.299 911.5,-157.299 908,-167.299 915,-167.299\"/>\n",
       "</g>\n",
       "<!-- 10 -->\n",
       "<g id=\"node11\" class=\"node\"><title>10</title>\n",
       "<path fill=\"none\" stroke=\"black\" d=\"M890,-53C890,-53 669,-53 669,-53 663,-53 657,-47 657,-41 657,-41 657,-12 657,-12 657,-6 663,-0 669,-0 669,-0 890,-0 890,-0 896,-0 902,-6 902,-12 902,-12 902,-41 902,-41 902,-47 896,-53 890,-53\"/>\n",
       "<text text-anchor=\"start\" x=\"739.5\" y=\"-37.8\" font-family=\"Helvetica,sans-Serif\" font-size=\"14.00\">entropy = 1.0</text>\n",
       "<text text-anchor=\"start\" x=\"742\" y=\"-22.8\" font-family=\"Helvetica,sans-Serif\" font-size=\"14.00\">samples = 2</text>\n",
       "<text text-anchor=\"start\" x=\"665\" y=\"-7.8\" font-family=\"Helvetica,sans-Serif\" font-size=\"14.00\">value = [0, 0, 0, 0, 1, 0, 0, 1, 0, 0, 0, 0]</text>\n",
       "</g>\n",
       "<!-- 9&#45;&gt;10 -->\n",
       "<g id=\"edge10\" class=\"edge\"><title>9&#45;&gt;10</title>\n",
       "<path fill=\"none\" stroke=\"black\" d=\"M865.333,-88.9485C851.788,-79.2516 837.015,-68.6752 823.602,-59.073\"/>\n",
       "<polygon fill=\"black\" stroke=\"black\" points=\"825.618,-56.212 815.45,-53.2367 821.543,-61.9038 825.618,-56.212\"/>\n",
       "</g>\n",
       "<!-- 11 -->\n",
       "<g id=\"node12\" class=\"node\"><title>11</title>\n",
       "<path fill=\"#39e5d7\" stroke=\"black\" d=\"M1153,-53C1153,-53 932,-53 932,-53 926,-53 920,-47 920,-41 920,-41 920,-12 920,-12 920,-6 926,-0 932,-0 932,-0 1153,-0 1153,-0 1159,-0 1165,-6 1165,-12 1165,-12 1165,-41 1165,-41 1165,-47 1159,-53 1153,-53\"/>\n",
       "<text text-anchor=\"start\" x=\"1002.5\" y=\"-37.8\" font-family=\"Helvetica,sans-Serif\" font-size=\"14.00\">entropy = 0.0</text>\n",
       "<text text-anchor=\"start\" x=\"1005\" y=\"-22.8\" font-family=\"Helvetica,sans-Serif\" font-size=\"14.00\">samples = 1</text>\n",
       "<text text-anchor=\"start\" x=\"928\" y=\"-7.8\" font-family=\"Helvetica,sans-Serif\" font-size=\"14.00\">value = [0, 0, 0, 0, 0, 1, 0, 0, 0, 0, 0, 0]</text>\n",
       "</g>\n",
       "<!-- 9&#45;&gt;11 -->\n",
       "<g id=\"edge11\" class=\"edge\"><title>9&#45;&gt;11</title>\n",
       "<path fill=\"none\" stroke=\"black\" d=\"M957.317,-88.9485C970.633,-79.3431 985.145,-68.8747 998.355,-59.345\"/>\n",
       "<polygon fill=\"black\" stroke=\"black\" points=\"1000.76,-61.9257 1006.82,-53.2367 996.665,-56.2486 1000.76,-61.9257\"/>\n",
       "</g>\n",
       "<!-- 13 -->\n",
       "<g id=\"node14\" class=\"node\"><title>13</title>\n",
       "<path fill=\"#39e581\" fill-opacity=\"0.305882\" stroke=\"black\" d=\"M1680.5,-365C1680.5,-365 1452.5,-365 1452.5,-365 1446.5,-365 1440.5,-359 1440.5,-353 1440.5,-353 1440.5,-309 1440.5,-309 1440.5,-303 1446.5,-297 1452.5,-297 1452.5,-297 1680.5,-297 1680.5,-297 1686.5,-297 1692.5,-303 1692.5,-309 1692.5,-309 1692.5,-353 1692.5,-353 1692.5,-359 1686.5,-365 1680.5,-365\"/>\n",
       "<text text-anchor=\"start\" x=\"1541.5\" y=\"-349.8\" font-family=\"Helvetica,sans-Serif\" font-size=\"14.00\">ho ≤ 3.5</text>\n",
       "<text text-anchor=\"start\" x=\"1522.5\" y=\"-334.8\" font-family=\"Helvetica,sans-Serif\" font-size=\"14.00\">entropy = 2.72</text>\n",
       "<text text-anchor=\"start\" x=\"1525.5\" y=\"-319.8\" font-family=\"Helvetica,sans-Serif\" font-size=\"14.00\">samples = 26</text>\n",
       "<text text-anchor=\"start\" x=\"1448.5\" y=\"-304.8\" font-family=\"Helvetica,sans-Serif\" font-size=\"14.00\">value = [3, 1, 2, 3, 10, 0, 0, 3, 1, 1, 0, 2]</text>\n",
       "</g>\n",
       "<!-- 12&#45;&gt;13 -->\n",
       "<g id=\"edge13\" class=\"edge\"><title>12&#45;&gt;13</title>\n",
       "<path fill=\"none\" stroke=\"black\" d=\"M1566.5,-400.884C1566.5,-392.778 1566.5,-383.982 1566.5,-375.472\"/>\n",
       "<polygon fill=\"black\" stroke=\"black\" points=\"1570,-375.299 1566.5,-365.299 1563,-375.299 1570,-375.299\"/>\n",
       "</g>\n",
       "<!-- 22 -->\n",
       "<g id=\"node23\" class=\"node\"><title>22</title>\n",
       "<path fill=\"none\" stroke=\"black\" d=\"M2074,-365C2074,-365 1853,-365 1853,-365 1847,-365 1841,-359 1841,-353 1841,-353 1841,-309 1841,-309 1841,-303 1847,-297 1853,-297 1853,-297 2074,-297 2074,-297 2080,-297 2086,-303 2086,-309 2086,-309 2086,-353 2086,-353 2086,-359 2080,-365 2074,-365\"/>\n",
       "<text text-anchor=\"start\" x=\"1938.5\" y=\"-349.8\" font-family=\"Helvetica,sans-Serif\" font-size=\"14.00\">ho ≤ 8.5</text>\n",
       "<text text-anchor=\"start\" x=\"1916\" y=\"-334.8\" font-family=\"Helvetica,sans-Serif\" font-size=\"14.00\">entropy = 1.585</text>\n",
       "<text text-anchor=\"start\" x=\"1926\" y=\"-319.8\" font-family=\"Helvetica,sans-Serif\" font-size=\"14.00\">samples = 3</text>\n",
       "<text text-anchor=\"start\" x=\"1849\" y=\"-304.8\" font-family=\"Helvetica,sans-Serif\" font-size=\"14.00\">value = [0, 1, 0, 0, 0, 0, 1, 0, 0, 0, 0, 1]</text>\n",
       "</g>\n",
       "<!-- 12&#45;&gt;22 -->\n",
       "<g id=\"edge22\" class=\"edge\"><title>12&#45;&gt;22</title>\n",
       "<path fill=\"none\" stroke=\"black\" d=\"M1692.66,-401.586C1736.76,-390.255 1786.38,-377.506 1830.99,-366.045\"/>\n",
       "<polygon fill=\"black\" stroke=\"black\" points=\"1831.91,-369.423 1840.72,-363.545 1830.17,-362.643 1831.91,-369.423\"/>\n",
       "</g>\n",
       "<!-- 14 -->\n",
       "<g id=\"node15\" class=\"node\"><title>14</title>\n",
       "<path fill=\"#39e581\" fill-opacity=\"0.352941\" stroke=\"black\" d=\"M1548,-261C1548,-261 1327,-261 1327,-261 1321,-261 1315,-255 1315,-249 1315,-249 1315,-205 1315,-205 1315,-199 1321,-193 1327,-193 1327,-193 1548,-193 1548,-193 1554,-193 1560,-199 1560,-205 1560,-205 1560,-249 1560,-249 1560,-255 1554,-261 1548,-261\"/>\n",
       "<text text-anchor=\"start\" x=\"1412.5\" y=\"-245.8\" font-family=\"Helvetica,sans-Serif\" font-size=\"14.00\">ho ≤ 1.5</text>\n",
       "<text text-anchor=\"start\" x=\"1390\" y=\"-230.8\" font-family=\"Helvetica,sans-Serif\" font-size=\"14.00\">entropy = 2.564</text>\n",
       "<text text-anchor=\"start\" x=\"1396.5\" y=\"-215.8\" font-family=\"Helvetica,sans-Serif\" font-size=\"14.00\">samples = 19</text>\n",
       "<text text-anchor=\"start\" x=\"1323\" y=\"-200.8\" font-family=\"Helvetica,sans-Serif\" font-size=\"14.00\">value = [1, 1, 2, 2, 8, 0, 0, 2, 1, 0, 0, 2]</text>\n",
       "</g>\n",
       "<!-- 13&#45;&gt;14 -->\n",
       "<g id=\"edge14\" class=\"edge\"><title>13&#45;&gt;14</title>\n",
       "<path fill=\"none\" stroke=\"black\" d=\"M1524.62,-296.884C1512.79,-287.531 1499.8,-277.259 1487.54,-267.568\"/>\n",
       "<polygon fill=\"black\" stroke=\"black\" points=\"1489.63,-264.756 1479.61,-261.299 1485.29,-270.247 1489.63,-264.756\"/>\n",
       "</g>\n",
       "<!-- 19 -->\n",
       "<g id=\"node20\" class=\"node\"><title>19</title>\n",
       "<path fill=\"none\" stroke=\"black\" d=\"M1811,-261C1811,-261 1590,-261 1590,-261 1584,-261 1578,-255 1578,-249 1578,-249 1578,-205 1578,-205 1578,-199 1584,-193 1590,-193 1590,-193 1811,-193 1811,-193 1817,-193 1823,-199 1823,-205 1823,-205 1823,-249 1823,-249 1823,-255 1817,-261 1811,-261\"/>\n",
       "<text text-anchor=\"start\" x=\"1675.5\" y=\"-245.8\" font-family=\"Helvetica,sans-Serif\" font-size=\"14.00\">ho ≤ 4.5</text>\n",
       "<text text-anchor=\"start\" x=\"1653\" y=\"-230.8\" font-family=\"Helvetica,sans-Serif\" font-size=\"14.00\">entropy = 2.236</text>\n",
       "<text text-anchor=\"start\" x=\"1663\" y=\"-215.8\" font-family=\"Helvetica,sans-Serif\" font-size=\"14.00\">samples = 7</text>\n",
       "<text text-anchor=\"start\" x=\"1586\" y=\"-200.8\" font-family=\"Helvetica,sans-Serif\" font-size=\"14.00\">value = [2, 0, 0, 1, 2, 0, 0, 1, 0, 1, 0, 0]</text>\n",
       "</g>\n",
       "<!-- 13&#45;&gt;19 -->\n",
       "<g id=\"edge19\" class=\"edge\"><title>13&#45;&gt;19</title>\n",
       "<path fill=\"none\" stroke=\"black\" d=\"M1610.01,-296.884C1622.29,-287.531 1635.79,-277.259 1648.52,-267.568\"/>\n",
       "<polygon fill=\"black\" stroke=\"black\" points=\"1650.92,-270.141 1656.75,-261.299 1646.68,-264.571 1650.92,-270.141\"/>\n",
       "</g>\n",
       "<!-- 15 -->\n",
       "<g id=\"node16\" class=\"node\"><title>15</title>\n",
       "<path fill=\"none\" stroke=\"black\" d=\"M1285,-149.5C1285,-149.5 1064,-149.5 1064,-149.5 1058,-149.5 1052,-143.5 1052,-137.5 1052,-137.5 1052,-108.5 1052,-108.5 1052,-102.5 1058,-96.5 1064,-96.5 1064,-96.5 1285,-96.5 1285,-96.5 1291,-96.5 1297,-102.5 1297,-108.5 1297,-108.5 1297,-137.5 1297,-137.5 1297,-143.5 1291,-149.5 1285,-149.5\"/>\n",
       "<text text-anchor=\"start\" x=\"1134.5\" y=\"-134.3\" font-family=\"Helvetica,sans-Serif\" font-size=\"14.00\">entropy = 1.0</text>\n",
       "<text text-anchor=\"start\" x=\"1137\" y=\"-119.3\" font-family=\"Helvetica,sans-Serif\" font-size=\"14.00\">samples = 2</text>\n",
       "<text text-anchor=\"start\" x=\"1060\" y=\"-104.3\" font-family=\"Helvetica,sans-Serif\" font-size=\"14.00\">value = [0, 0, 1, 0, 0, 0, 0, 0, 0, 0, 0, 1]</text>\n",
       "</g>\n",
       "<!-- 14&#45;&gt;15 -->\n",
       "<g id=\"edge15\" class=\"edge\"><title>14&#45;&gt;15</title>\n",
       "<path fill=\"none\" stroke=\"black\" d=\"M1352.11,-192.884C1319.22,-180.126 1281.91,-165.659 1250.02,-153.288\"/>\n",
       "<polygon fill=\"black\" stroke=\"black\" points=\"1250.89,-149.873 1240.3,-149.52 1248.36,-156.399 1250.89,-149.873\"/>\n",
       "</g>\n",
       "<!-- 16 -->\n",
       "<g id=\"node17\" class=\"node\"><title>16</title>\n",
       "<path fill=\"#39e581\" fill-opacity=\"0.400000\" stroke=\"black\" d=\"M1548,-157C1548,-157 1327,-157 1327,-157 1321,-157 1315,-151 1315,-145 1315,-145 1315,-101 1315,-101 1315,-95 1321,-89 1327,-89 1327,-89 1548,-89 1548,-89 1554,-89 1560,-95 1560,-101 1560,-101 1560,-145 1560,-145 1560,-151 1554,-157 1548,-157\"/>\n",
       "<text text-anchor=\"start\" x=\"1412.5\" y=\"-141.8\" font-family=\"Helvetica,sans-Serif\" font-size=\"14.00\">ho ≤ 2.5</text>\n",
       "<text text-anchor=\"start\" x=\"1393.5\" y=\"-126.8\" font-family=\"Helvetica,sans-Serif\" font-size=\"14.00\">entropy = 2.44</text>\n",
       "<text text-anchor=\"start\" x=\"1396.5\" y=\"-111.8\" font-family=\"Helvetica,sans-Serif\" font-size=\"14.00\">samples = 17</text>\n",
       "<text text-anchor=\"start\" x=\"1323\" y=\"-96.8\" font-family=\"Helvetica,sans-Serif\" font-size=\"14.00\">value = [1, 1, 1, 2, 8, 0, 0, 2, 1, 0, 0, 1]</text>\n",
       "</g>\n",
       "<!-- 14&#45;&gt;16 -->\n",
       "<g id=\"edge16\" class=\"edge\"><title>14&#45;&gt;16</title>\n",
       "<path fill=\"none\" stroke=\"black\" d=\"M1437.5,-192.884C1437.5,-184.778 1437.5,-175.982 1437.5,-167.472\"/>\n",
       "<polygon fill=\"black\" stroke=\"black\" points=\"1441,-167.299 1437.5,-157.299 1434,-167.299 1441,-167.299\"/>\n",
       "</g>\n",
       "<!-- 17 -->\n",
       "<g id=\"node18\" class=\"node\"><title>17</title>\n",
       "<path fill=\"#39e581\" fill-opacity=\"0.376471\" stroke=\"black\" d=\"M1416,-53C1416,-53 1195,-53 1195,-53 1189,-53 1183,-47 1183,-41 1183,-41 1183,-12 1183,-12 1183,-6 1189,-0 1195,-0 1195,-0 1416,-0 1416,-0 1422,-0 1428,-6 1428,-12 1428,-12 1428,-41 1428,-41 1428,-47 1422,-53 1416,-53\"/>\n",
       "<text text-anchor=\"start\" x=\"1258\" y=\"-37.8\" font-family=\"Helvetica,sans-Serif\" font-size=\"14.00\">entropy = 2.281</text>\n",
       "<text text-anchor=\"start\" x=\"1268\" y=\"-22.8\" font-family=\"Helvetica,sans-Serif\" font-size=\"14.00\">samples = 9</text>\n",
       "<text text-anchor=\"start\" x=\"1191\" y=\"-7.8\" font-family=\"Helvetica,sans-Serif\" font-size=\"14.00\">value = [1, 1, 1, 1, 4, 0, 0, 1, 0, 0, 0, 0]</text>\n",
       "</g>\n",
       "<!-- 16&#45;&gt;17 -->\n",
       "<g id=\"edge17\" class=\"edge\"><title>16&#45;&gt;17</title>\n",
       "<path fill=\"none\" stroke=\"black\" d=\"M1391.33,-88.9485C1377.79,-79.2516 1363.01,-68.6752 1349.6,-59.073\"/>\n",
       "<polygon fill=\"black\" stroke=\"black\" points=\"1351.62,-56.212 1341.45,-53.2367 1347.54,-61.9038 1351.62,-56.212\"/>\n",
       "</g>\n",
       "<!-- 18 -->\n",
       "<g id=\"node19\" class=\"node\"><title>18</title>\n",
       "<path fill=\"#39e581\" fill-opacity=\"0.427451\" stroke=\"black\" d=\"M1679,-53C1679,-53 1458,-53 1458,-53 1452,-53 1446,-47 1446,-41 1446,-41 1446,-12 1446,-12 1446,-6 1452,-0 1458,-0 1458,-0 1679,-0 1679,-0 1685,-0 1691,-6 1691,-12 1691,-12 1691,-41 1691,-41 1691,-47 1685,-53 1679,-53\"/>\n",
       "<text text-anchor=\"start\" x=\"1528.5\" y=\"-37.8\" font-family=\"Helvetica,sans-Serif\" font-size=\"14.00\">entropy = 2.0</text>\n",
       "<text text-anchor=\"start\" x=\"1531\" y=\"-22.8\" font-family=\"Helvetica,sans-Serif\" font-size=\"14.00\">samples = 8</text>\n",
       "<text text-anchor=\"start\" x=\"1454\" y=\"-7.8\" font-family=\"Helvetica,sans-Serif\" font-size=\"14.00\">value = [0, 0, 0, 1, 4, 0, 0, 1, 1, 0, 0, 1]</text>\n",
       "</g>\n",
       "<!-- 16&#45;&gt;18 -->\n",
       "<g id=\"edge18\" class=\"edge\"><title>16&#45;&gt;18</title>\n",
       "<path fill=\"none\" stroke=\"black\" d=\"M1483.32,-88.9485C1496.63,-79.3431 1511.14,-68.8747 1524.36,-59.345\"/>\n",
       "<polygon fill=\"black\" stroke=\"black\" points=\"1526.76,-61.9257 1532.82,-53.2367 1522.66,-56.2486 1526.76,-61.9257\"/>\n",
       "</g>\n",
       "<!-- 20 -->\n",
       "<g id=\"node21\" class=\"node\"><title>20</title>\n",
       "<path fill=\"none\" stroke=\"black\" d=\"M1811,-149.5C1811,-149.5 1590,-149.5 1590,-149.5 1584,-149.5 1578,-143.5 1578,-137.5 1578,-137.5 1578,-108.5 1578,-108.5 1578,-102.5 1584,-96.5 1590,-96.5 1590,-96.5 1811,-96.5 1811,-96.5 1817,-96.5 1823,-102.5 1823,-108.5 1823,-108.5 1823,-137.5 1823,-137.5 1823,-143.5 1817,-149.5 1811,-149.5\"/>\n",
       "<text text-anchor=\"start\" x=\"1660.5\" y=\"-134.3\" font-family=\"Helvetica,sans-Serif\" font-size=\"14.00\">entropy = 2.0</text>\n",
       "<text text-anchor=\"start\" x=\"1663\" y=\"-119.3\" font-family=\"Helvetica,sans-Serif\" font-size=\"14.00\">samples = 4</text>\n",
       "<text text-anchor=\"start\" x=\"1586\" y=\"-104.3\" font-family=\"Helvetica,sans-Serif\" font-size=\"14.00\">value = [1, 0, 0, 0, 1, 0, 0, 1, 0, 1, 0, 0]</text>\n",
       "</g>\n",
       "<!-- 19&#45;&gt;20 -->\n",
       "<g id=\"edge20\" class=\"edge\"><title>19&#45;&gt;20</title>\n",
       "<path fill=\"none\" stroke=\"black\" d=\"M1700.5,-192.884C1700.5,-182.326 1700.5,-170.597 1700.5,-159.854\"/>\n",
       "<polygon fill=\"black\" stroke=\"black\" points=\"1704,-159.52 1700.5,-149.52 1697,-159.52 1704,-159.52\"/>\n",
       "</g>\n",
       "<!-- 21 -->\n",
       "<g id=\"node22\" class=\"node\"><title>21</title>\n",
       "<path fill=\"none\" stroke=\"black\" d=\"M2074,-149.5C2074,-149.5 1853,-149.5 1853,-149.5 1847,-149.5 1841,-143.5 1841,-137.5 1841,-137.5 1841,-108.5 1841,-108.5 1841,-102.5 1847,-96.5 1853,-96.5 1853,-96.5 2074,-96.5 2074,-96.5 2080,-96.5 2086,-102.5 2086,-108.5 2086,-108.5 2086,-137.5 2086,-137.5 2086,-143.5 2080,-149.5 2074,-149.5\"/>\n",
       "<text text-anchor=\"start\" x=\"1916\" y=\"-134.3\" font-family=\"Helvetica,sans-Serif\" font-size=\"14.00\">entropy = 1.585</text>\n",
       "<text text-anchor=\"start\" x=\"1926\" y=\"-119.3\" font-family=\"Helvetica,sans-Serif\" font-size=\"14.00\">samples = 3</text>\n",
       "<text text-anchor=\"start\" x=\"1849\" y=\"-104.3\" font-family=\"Helvetica,sans-Serif\" font-size=\"14.00\">value = [1, 0, 0, 1, 1, 0, 0, 0, 0, 0, 0, 0]</text>\n",
       "</g>\n",
       "<!-- 19&#45;&gt;21 -->\n",
       "<g id=\"edge21\" class=\"edge\"><title>19&#45;&gt;21</title>\n",
       "<path fill=\"none\" stroke=\"black\" d=\"M1785.89,-192.884C1818.78,-180.126 1856.09,-165.659 1887.98,-153.288\"/>\n",
       "<polygon fill=\"black\" stroke=\"black\" points=\"1889.64,-156.399 1897.7,-149.52 1887.11,-149.873 1889.64,-156.399\"/>\n",
       "</g>\n",
       "<!-- 23 -->\n",
       "<g id=\"node24\" class=\"node\"><title>23</title>\n",
       "<path fill=\"none\" stroke=\"black\" d=\"M2074,-253.5C2074,-253.5 1853,-253.5 1853,-253.5 1847,-253.5 1841,-247.5 1841,-241.5 1841,-241.5 1841,-212.5 1841,-212.5 1841,-206.5 1847,-200.5 1853,-200.5 1853,-200.5 2074,-200.5 2074,-200.5 2080,-200.5 2086,-206.5 2086,-212.5 2086,-212.5 2086,-241.5 2086,-241.5 2086,-247.5 2080,-253.5 2074,-253.5\"/>\n",
       "<text text-anchor=\"start\" x=\"1923.5\" y=\"-238.3\" font-family=\"Helvetica,sans-Serif\" font-size=\"14.00\">entropy = 1.0</text>\n",
       "<text text-anchor=\"start\" x=\"1926\" y=\"-223.3\" font-family=\"Helvetica,sans-Serif\" font-size=\"14.00\">samples = 2</text>\n",
       "<text text-anchor=\"start\" x=\"1849\" y=\"-208.3\" font-family=\"Helvetica,sans-Serif\" font-size=\"14.00\">value = [0, 1, 0, 0, 0, 0, 1, 0, 0, 0, 0, 0]</text>\n",
       "</g>\n",
       "<!-- 22&#45;&gt;23 -->\n",
       "<g id=\"edge23\" class=\"edge\"><title>22&#45;&gt;23</title>\n",
       "<path fill=\"none\" stroke=\"black\" d=\"M1963.5,-296.884C1963.5,-286.326 1963.5,-274.597 1963.5,-263.854\"/>\n",
       "<polygon fill=\"black\" stroke=\"black\" points=\"1967,-263.52 1963.5,-253.52 1960,-263.52 1967,-263.52\"/>\n",
       "</g>\n",
       "<!-- 24 -->\n",
       "<g id=\"node25\" class=\"node\"><title>24</title>\n",
       "<path fill=\"#e53947\" stroke=\"black\" d=\"M2337,-253.5C2337,-253.5 2116,-253.5 2116,-253.5 2110,-253.5 2104,-247.5 2104,-241.5 2104,-241.5 2104,-212.5 2104,-212.5 2104,-206.5 2110,-200.5 2116,-200.5 2116,-200.5 2337,-200.5 2337,-200.5 2343,-200.5 2349,-206.5 2349,-212.5 2349,-212.5 2349,-241.5 2349,-241.5 2349,-247.5 2343,-253.5 2337,-253.5\"/>\n",
       "<text text-anchor=\"start\" x=\"2186.5\" y=\"-238.3\" font-family=\"Helvetica,sans-Serif\" font-size=\"14.00\">entropy = 0.0</text>\n",
       "<text text-anchor=\"start\" x=\"2189\" y=\"-223.3\" font-family=\"Helvetica,sans-Serif\" font-size=\"14.00\">samples = 1</text>\n",
       "<text text-anchor=\"start\" x=\"2112\" y=\"-208.3\" font-family=\"Helvetica,sans-Serif\" font-size=\"14.00\">value = [0, 0, 0, 0, 0, 0, 0, 0, 0, 0, 0, 1]</text>\n",
       "</g>\n",
       "<!-- 22&#45;&gt;24 -->\n",
       "<g id=\"edge24\" class=\"edge\"><title>22&#45;&gt;24</title>\n",
       "<path fill=\"none\" stroke=\"black\" d=\"M2048.89,-296.884C2081.78,-284.126 2119.09,-269.659 2150.98,-257.288\"/>\n",
       "<polygon fill=\"black\" stroke=\"black\" points=\"2152.64,-260.399 2160.7,-253.52 2150.11,-253.873 2152.64,-260.399\"/>\n",
       "</g>\n",
       "</g>\n",
       "</svg>\n"
      ],
      "text/plain": [
       "<graphviz.files.Source at 0x7f0e5be7b470>"
      ]
     },
     "execution_count": 834,
     "metadata": {},
     "output_type": "execute_result"
    }
   ],
   "source": [
    "X = data[['ho', 'Procrastinates']]\n",
    "\n",
    "Y = data['cluster']\n",
    "\n",
    "from sklearn import tree\n",
    "\n",
    "clf = tree.DecisionTreeClassifier(criterion='entropy',max_depth=8)\n",
    "clf = clf.fit(X, Y)\n",
    "import graphviz \n",
    "dot_data = tree.export_graphviz(clf, out_file=None, \n",
    "                         feature_names=X.columns.values,  \n",
    "                         filled=True, rounded=True,  \n",
    "                         special_characters=True) \n",
    "graph = graphviz.Source(dot_data) \n",
    "graph"
   ]
  },
  {
   "cell_type": "markdown",
   "metadata": {},
   "source": [
    "## Conclusion\n",
    "\n",
    "I tried looking at the likelihood someone wastes time instead working. There were many attributes to look at and many that could've added. I found what I needed in the data, but not all the models worked the way they needed. "
   ]
  }
 ],
 "metadata": {
  "kernelspec": {
   "display_name": "Python 3",
   "language": "python",
   "name": "python3"
  },
  "language_info": {
   "codemirror_mode": {
    "name": "ipython",
    "version": 3
   },
   "file_extension": ".py",
   "mimetype": "text/x-python",
   "name": "python",
   "nbconvert_exporter": "python",
   "pygments_lexer": "ipython3",
   "version": "3.5.2"
  }
 },
 "nbformat": 4,
 "nbformat_minor": 2
}
