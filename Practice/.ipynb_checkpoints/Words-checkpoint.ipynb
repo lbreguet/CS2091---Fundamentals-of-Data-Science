{
 "cells": [
  {
   "cell_type": "code",
   "execution_count": 1,
   "metadata": {
    "collapsed": true
   },
   "outputs": [],
   "source": [
    "d1 = \"jazz music has a swing rhythm\"\n",
    "d2 = \"swing is hard to explain\"\n",
    "d3 = \"swing rhythm is a natural rhythm\""
   ]
  },
  {
   "cell_type": "code",
   "execution_count": 6,
   "metadata": {
    "collapsed": true
   },
   "outputs": [],
   "source": [
    "from sklearn.feature_extraction.text import CountVectorizer"
   ]
  },
  {
   "cell_type": "code",
   "execution_count": 16,
   "metadata": {},
   "outputs": [
    {
     "name": "stdout",
     "output_type": "stream",
     "text": [
      "['explain', 'hard', 'jazz', 'music', 'natural', 'rhythm', 'swing']\n",
      "[[0 0 1 1 0 1 1]\n",
      " [1 1 0 0 0 0 1]\n",
      " [0 0 0 0 1 2 1]]\n"
     ]
    }
   ],
   "source": [
    "count_vect = CountVectorizer(stop_words='english')\n",
    "X_train_counts = count_vect.fit_transform([d1,d2,d3])\n",
    "print(count_vect.get_feature_names())\n",
    "print(X_train_counts.todense())"
   ]
  },
  {
   "cell_type": "code",
   "execution_count": 10,
   "metadata": {},
   "outputs": [
    {
     "name": "stdout",
     "output_type": "stream",
     "text": [
      "  (0, 7)\t1\n",
      "  (0, 8)\t1\n",
      "  (0, 2)\t1\n",
      "  (0, 5)\t1\n",
      "  (0, 4)\t1\n",
      "  (1, 0)\t1\n",
      "  (1, 9)\t1\n",
      "  (1, 1)\t1\n",
      "  (1, 3)\t1\n",
      "  (1, 8)\t1\n",
      "  (2, 6)\t1\n",
      "  (2, 3)\t1\n",
      "  (2, 7)\t2\n",
      "  (2, 8)\t1\n"
     ]
    }
   ],
   "source": [
    "print(X_train_counts)"
   ]
  },
  {
   "cell_type": "code",
   "execution_count": 17,
   "metadata": {
    "collapsed": true
   },
   "outputs": [],
   "source": [
    "from sklearn.feature_extraction.text import TfidfTransformer"
   ]
  },
  {
   "cell_type": "code",
   "execution_count": 19,
   "metadata": {},
   "outputs": [
    {
     "name": "stdout",
     "output_type": "stream",
     "text": [
      "[[ 0.          0.          0.25        0.25        0.          0.25        0.25      ]\n",
      " [ 0.33333333  0.33333333  0.          0.          0.          0.\n",
      "   0.33333333]\n",
      " [ 0.          0.          0.          0.          0.25        0.5         0.25      ]]\n"
     ]
    }
   ],
   "source": [
    "tf_transformer = TfidfTransformer(use_idf=False, norm='l1')\n",
    "X_train_tf= tf_transformer.transform(X_train_counts)\n",
    "print(X_train_tf.todense())"
   ]
  },
  {
   "cell_type": "code",
   "execution_count": 20,
   "metadata": {
    "collapsed": true
   },
   "outputs": [],
   "source": [
    "from sklearn.tree import DecisionTreeClassifier"
   ]
  },
  {
   "cell_type": "code",
   "execution_count": 24,
   "metadata": {
    "collapsed": true
   },
   "outputs": [],
   "source": [
    "import numpy as np\n",
    "X = X_train_tf\n",
    "y = [1,0,1]\n",
    "rng=np.arange(1,20,1)\n",
    "\n",
    "from sklearn.metrics import accuracy_score\n",
    "acc = []\n",
    "for s in rng:\n",
    "    model = DecisionTreeClassifier(max_depth=s)\n",
    "    model.fit(X,y)\n",
    "    acc.append(accuracy_score(y,model.predict(X)))\n"
   ]
  },
  {
   "cell_type": "code",
   "execution_count": 25,
   "metadata": {
    "collapsed": true
   },
   "outputs": [],
   "source": [
    "from matplotlib.pylab import plt"
   ]
  },
  {
   "cell_type": "code",
   "execution_count": 26,
   "metadata": {},
   "outputs": [
    {
     "data": {
      "text/plain": [
       "<matplotlib.collections.PathCollection at 0x7f204e2b3240>"
      ]
     },
     "execution_count": 26,
     "metadata": {},
     "output_type": "execute_result"
    }
   ],
   "source": [
    "plt.scatter(acc, rng, color='red')"
   ]
  }
 ],
 "metadata": {
  "kernelspec": {
   "display_name": "Python 3",
   "language": "python",
   "name": "python3"
  },
  "language_info": {
   "codemirror_mode": {
    "name": "ipython",
    "version": 3
   },
   "file_extension": ".py",
   "mimetype": "text/x-python",
   "name": "python",
   "nbconvert_exporter": "python",
   "pygments_lexer": "ipython3",
   "version": "3.5.2"
  }
 },
 "nbformat": 4,
 "nbformat_minor": 2
}
