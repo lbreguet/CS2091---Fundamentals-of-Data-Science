{
 "cells": [
  {
   "cell_type": "code",
   "execution_count": 1,
   "metadata": {
    "collapsed": true
   },
   "outputs": [],
   "source": [
    "import pandas as pd\n",
    "carstopping = pd.read_csv('https://raw.githubusercontent.com/AUP-CS2091/Week-6/master/carstopping.txt?token=AFj8VZ2BzyJdSaI7IWqVltwcHkXJYTFbks5Z47zLwA%3D%3D', sep=\"\\t\")"
   ]
  },
  {
   "cell_type": "markdown",
   "metadata": {},
   "source": [
    "## Problem A: A large r2 value does not imply that the estimated regression line fits the data well.\n",
    "\n",
    "The American Automobile Association has published data (Defensive Driving: Managing Time and Space, 1991) that looks at the relationship between the average stopping distance ( y = distance, in feet) and the speed of a car (x = speed, in miles per hour). The data set carstopping contains 63 such data points.\n",
    "\n",
    "1. Create a linear regression of the data. Does a line do a good job of describing the trend in the data?\n",
    "2. Interpret the r2 value. Does car speed explain a large portion of the variability in the average stopping distance? That is, is the r2 value large?\n",
    "3. Summarize how the title of this section is appropriate."
   ]
  },
  {
   "cell_type": "code",
   "execution_count": 2,
   "metadata": {},
   "outputs": [
    {
     "data": {
      "image/png": "[encoded data removed]",
      "text/plain": [
       "<matplotlib.figure.Figure at 0x7f9a3b2719b0>"
      ]
     },
     "metadata": {},
     "output_type": "display_data"
    },
    {
     "data": {
      "text/html": [
       "<div>\n",
       "<style>\n",
       "    .dataframe thead tr:only-child th {\n",
       "        text-align: right;\n",
       "    }\n",
       "\n",
       "    .dataframe thead th {\n",
       "        text-align: left;\n",
       "    }\n",
       "\n",
       "    .dataframe tbody tr th {\n",
       "        vertical-align: top;\n",
       "    }\n",
       "</style>\n",
       "<table border=\"1\" class=\"dataframe\">\n",
       "  <thead>\n",
       "    <tr style=\"text-align: right;\">\n",
       "      <th></th>\n",
       "      <th>0</th>\n",
       "      <th>1</th>\n",
       "    </tr>\n",
       "  </thead>\n",
       "  <tbody>\n",
       "    <tr>\n",
       "      <th>0</th>\n",
       "      <td>StopDist</td>\n",
       "      <td>3.342630e-01</td>\n",
       "    </tr>\n",
       "    <tr>\n",
       "      <th>1</th>\n",
       "      <td>S2</td>\n",
       "      <td>-2.961729e-10</td>\n",
       "    </tr>\n",
       "  </tbody>\n",
       "</table>\n",
       "</div>"
      ],
      "text/plain": [
       "          0             1\n",
       "0  StopDist  3.342630e-01\n",
       "1        S2 -2.961729e-10"
      ]
     },
     "execution_count": 2,
     "metadata": {},
     "output_type": "execute_result"
    }
   ],
   "source": [
    "import numpy as np\n",
    "import pandas as pd\n",
    "from scipy import stats\n",
    "import matplotlib.pyplot as plt\n",
    "\n",
    "fig, ax = plt.subplots(1, 1) \n",
    "ax.scatter(carstopping['StopDist'],carstopping['Speed'])\n",
    "ax.set_xlabel('StopDist')\n",
    "ax.set_ylabel('Speed')\n",
    "plt.show()\n",
    "\n",
    "import math\n",
    "\n",
    "\n",
    "from sklearn import linear_model\n",
    "X = carstopping[['StopDist']]\n",
    "X['S2'] = X.apply(lambda x: math.pow(x['StopDist'],5) ,axis=1)\n",
    "y = carstopping['Speed']\n",
    "lm = linear_model.LinearRegression()\n",
    "ax.plot(X,lm.predict(wt_ht_data.Height[:, np.newaxis]), \n",
    "                   color = 'red')\n",
    "lm.fit(X, y)\n",
    "lm.score(X,y)\n",
    "pd.DataFrame(list(zip(X.columns, np.transpose(lm.coef_))))\n"
   ]
  },
  {
   "cell_type": "code",
   "execution_count": 3,
   "metadata": {
    "collapsed": true
   },
   "outputs": [],
   "source": [
    "drugdea = pd.read_csv('https://raw.githubusercontent.com/AUP-CS2091/Week-6/master/drugdea.txt?token=AFj8VWUVsDyVWp4u9dsMs28jrBn-89pmks5Z47zxwA%3D%3D', sep=\"\\t\")"
   ]
  },
  {
   "cell_type": "markdown",
   "metadata": {},
   "source": [
    "## Problem B: Drug law expenditures and drug-induced deaths\n",
    "\n",
    "\"Time\" is often a lurking variable. If two things (e.g. road deaths and chocolate consumption) just happen to be increasing over time for totally unrelated reasons, a scatter plot will suggest there is a relationship, regardless of it existing only because of the lurking variable \"time.\" The data set drugdea contains data on drug law expenditures and drug-induced deaths (Duncan, 1994). The data set gives figures from 1981 to 1991 on the U.S. Drug Enforcement Agency budget (budget) and the numbers of drug-induced deaths in the United States (deaths).\n",
    "\n",
    "1. Create a linear regression treating deaths as the response y and budget as the predictor x. Do you think the budget caused the deaths?\n",
    "2. Create a linear regression treating budget as the response y and deaths as the predictor x. Do you think the deaths caused the budget?\n",
    "3. Create a linear regression treating budget as the response y and year as the predictor x.\n",
    "4. Create a linear regression treating deaths as the response y and year as the predictor x.\n",
    "5. What is going on here? Summarize the relationships between budget, deaths, and year and explain why it might appear that as drug-law expenditures increase, so do drug-induced deaths."
   ]
  },
  {
   "cell_type": "code",
   "execution_count": 4,
   "metadata": {
    "collapsed": true
   },
   "outputs": [],
   "source": [
    "infant = pd.read_csv('https://raw.githubusercontent.com/AUP-CS2091/Week-6/master/infant.txt?token=AFj8VTrlqf1-x5EnKFkjls48YM0tXy4_ks5Z470GwA%3D%3D', sep=\"\\t\")"
   ]
  },
  {
   "cell_type": "markdown",
   "metadata": {},
   "source": [
    "## Problem C: Infant death rates and breast feeding\n",
    "\n",
    "The data set infant contains data on infant death rates (death) in 14 countries (1989 figures, deaths per 1000 of population). It also contains data on the percentage of mothers in those countries who are still breast feeding (feeding) at six months, as well as the percentage of the population who have access to safe drinking water (water).\n",
    "\n",
    "1. Create a linear regression treating death as the response y and feeding as the predictor x. Based on what you see, what causal relationship might you be tempted to conclude?\n",
    "2. Create a linear regression treating feeding as the response y and water as the predictor x. What relationship does the plot suggest?\n",
    "3. What is going on here? Summarize the relationships between death, feeding, and water and explain why it might appear that as the percentage of mothers breast feeding at six months increases, so does the infant death rate."
   ]
  },
  {
   "cell_type": "markdown",
   "metadata": {},
   "source": [
    "View solutions at https://onlinecourses.science.psu.edu/stat501/node/258"
   ]
  }
 ],
 "metadata": {
  "kernelspec": {
   "display_name": "Python 3",
   "language": "python",
   "name": "python3"
  },
  "language_info": {
   "codemirror_mode": {
    "name": "ipython",
    "version": 3
   },
   "file_extension": ".py",
   "mimetype": "text/x-python",
   "name": "python",
   "nbconvert_exporter": "python",
   "pygments_lexer": "ipython3",
   "version": "3.5.2"
  }
 },
 "nbformat": 4,
 "nbformat_minor": 2
}
