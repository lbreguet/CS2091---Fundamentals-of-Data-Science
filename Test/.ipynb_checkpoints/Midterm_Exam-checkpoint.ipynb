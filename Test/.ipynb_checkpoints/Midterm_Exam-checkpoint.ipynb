{
 "cells": [
  {
   "cell_type": "markdown",
   "metadata": {},
   "source": [
    "# CS-2091 - Midterm Exam\n",
    "\n",
    "## Investigative journalism\n",
    "\n",
    "As part of writing an article about the investigation of the famous [Lufthansa Heist](https://en.wikipedia.org/wiki/Lufthansa_heist), you decided to use modern tools to fill in several missing details about the car used for hiding the booty (which was never found).\n",
    "\n",
    "The police report contains the following information about the car:\n",
    "\n",
    "1. 8 cylinders\n",
    "2. Displacement of 340 cu.in.\n",
    "3. Rear axle ratio of 2.5\n",
    "4. Weighted 3120 lb.\n",
    "5. straight engine\n",
    "6. 5 gears\n",
    "\n",
    "As part of your investigation, you have managed to find the following information about cars of these period in an old journal."
   ]
  },
  {
   "cell_type": "code",
   "execution_count": 40,
   "metadata": {},
   "outputs": [],
   "source": [
    "import pandas as pd\n",
    "\n",
    "cars=pd.read_csv(\"https://raw.githubusercontent.com/AUP-CS2091/midterm/master/mtcars.csv?token=AFj8VWbpjZWl3vzBhHQ7ojpohRZQshWEks5Z7fPkwA%3D%3D\")\n",
    "\n",
    "cars.dropna()\n",
    "clean_cars = cars\n",
    "clean_cars['vs'] = cars['vs'].astype('category').cat.codes\n",
    "clean_cars['am'] = cars['am'].astype('category').cat.codes\n",
    "\n",
    "clean_cars.dropna()\n",
    "\n",
    "X = clean_cars[['cyl', 'disp', 'wt']]\n",
    "\n",
    "y = clean_cars['am']"
   ]
  },
  {
   "cell_type": "markdown",
   "metadata": {},
   "source": [
    "#### A data frame with 32 observations on 11 variables.\n",
    "\n",
    "1.\tmpg -\tMiles/(US) gallon\n",
    "2.\tcyl\t- Number of cylinders\n",
    "3.\tdisp -\tDisplacement (cu.in.)\n",
    "4.\thp -\tGross horsepower\n",
    "5.\tdrat -\tRear axle ratio\n",
    "6.  wt -\tWeight (1000 lbs)\n",
    "7.\tqsec -\t1/4 mile time\n",
    "8.\tvs -\tV or Straight Engine\n",
    "9.\tam -\tAutomatic or Manual\n",
    "10.\tgear -\tNumber of forward gears\n",
    "11.\tcarb -\tType of carburetor"
   ]
  },
  {
   "cell_type": "code",
   "execution_count": 41,
   "metadata": {},
   "outputs": [
    {
     "data": {
      "text/plain": [
       "array([1], dtype=int8)"
      ]
     },
     "execution_count": 41,
     "metadata": {},
     "output_type": "execute_result"
    }
   ],
   "source": [
    "from sklearn.tree import DecisionTreeClassifier\n",
    "\n",
    "tree = DecisionTreeClassifier()\n",
    "\n",
    "tree.fit(X, y)\n",
    "\n",
    "car = pd.DataFrame(data={'cyl': 8, 'disp': 340, 'wt': 3.120}, index=[0]) \n",
    "\n",
    "tree.predict(car)"
   ]
  },
  {
   "cell_type": "code",
   "execution_count": 42,
   "metadata": {},
   "outputs": [
    {
     "data": {
      "text/plain": [
       "array([ 15.34667364])"
      ]
     },
     "execution_count": 42,
     "metadata": {},
     "output_type": "execute_result"
    }
   ],
   "source": [
    "from sklearn.linear_model import LinearRegression\n",
    "\n",
    "func = LinearRegression()\n",
    "\n",
    "y = clean_cars['qsec']\n",
    "func.fit(X, y)\n",
    "\n",
    "func.predict(car)"
   ]
  },
  {
   "cell_type": "markdown",
   "metadata": {},
   "source": [
    "## Part 1\n",
    "\n",
    "### Who was driving the car?\n",
    "\n",
    "The police has never managed to connect Jimmy Burke (the boss of the gang) with the crime. Can you do better?\n",
    "\n",
    "There are three suspects:\n",
    "\n",
    "1. [Jimmy Burke](https://en.wikipedia.org/wiki/James_Burke)\n",
    "2. [Tommy DeSimone](https://en.wikipedia.org/wiki/Tommy_DeSimone)\n",
    "3. [Frank Burke](https://en.wikipedia.org/wiki/Frank_James_Burke)\n",
    "\n",
    "The only pieces of information you have are that Jimmy could only drive automatic cars and that Frank liked cars with high acceleration rate. Who do you think was driving the car? Base it on full analysis of the data and by choosing the right modeling technique."
   ]
  },
  {
   "cell_type": "markdown",
   "metadata": {},
   "source": [
    "<p style=\"color:red\">I believe that because Jimmy Burke drove automatic cars and that car in question was manual with 8 cylinders on the engine, Frank Burke drove the car.</p>"
   ]
  },
  {
   "cell_type": "markdown",
   "metadata": {},
   "source": [
    "# Part 2\n",
    "\n",
    "The money was never recovered but some believe  part of it is still stored in the original safe house.\n",
    "\n",
    "### Where is the booty?\n",
    "\n",
    "The police report contains an estimation of the gas that was in the car - 17,6 gallons. They also suspect that the safe house was in one of the following places:\n",
    "\n",
    "1. East Hampton, NY\n",
    "2. Plymouth, MA\n",
    "3. Brockville, Ontario\n",
    "\n",
    "Knowing that the car was first driven from [Canarsie, Brooklyn, NY](https://www.google.lu/maps/place/Canarsie,+Brooklyn,+NY,+USA/@40.6396806,-73.934976,13z/data=!3m1!4b1!4m5!3m4!1s0x89c25cc33d833d25:0xe008a74af20603b6!8m2!3d40.6402325!4d-73.9060579?hl=en), Can you help narrowing the list? Justify your answer using a full analysis and by using the right modeling technique."
   ]
  },
  {
   "cell_type": "code",
   "execution_count": 45,
   "metadata": {},
   "outputs": [
    {
     "data": {
      "text/plain": [
       "array([ 317.25076578])"
      ]
     },
     "execution_count": 45,
     "metadata": {},
     "output_type": "execute_result"
    }
   ],
   "source": [
    "from sklearn.linear_model import LinearRegression\n",
    "\n",
    "func2 = LinearRegression()\n",
    "\n",
    "y = clean_cars['mpg']\n",
    "\n",
    "func2.fit(X,y)\n",
    "\n",
    "func2.predict(car)\n",
    "\n",
    "func2.predict(car) * 17.6"
   ]
  },
  {
   "cell_type": "markdown",
   "metadata": {},
   "source": [
    "<p style=\"color:red\">Based off this information, I would take the `mpg` of the car. If the car could go far with 17,6 gallons, I would say they went to Ontario, otherwise the safe house would either be in New York or Massachusetts.</p>"
   ]
  }
 ],
 "metadata": {
  "anaconda-cloud": {},
  "kernelspec": {
   "display_name": "Python 3",
   "language": "python",
   "name": "python3"
  },
  "language_info": {
   "codemirror_mode": {
    "name": "ipython",
    "version": 3
   },
   "file_extension": ".py",
   "mimetype": "text/x-python",
   "name": "python",
   "nbconvert_exporter": "python",
   "pygments_lexer": "ipython3",
   "version": "3.5.2"
  }
 },
 "nbformat": 4,
 "nbformat_minor": 1
}
